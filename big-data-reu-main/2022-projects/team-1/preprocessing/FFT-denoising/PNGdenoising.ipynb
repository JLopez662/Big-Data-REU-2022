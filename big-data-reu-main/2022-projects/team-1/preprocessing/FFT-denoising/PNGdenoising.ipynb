{
  "nbformat": 4,
  "nbformat_minor": 0,
  "metadata": {
    "colab": {
      "name": "PNGdenoising.ipynb",
      "provenance": [],
      "collapsed_sections": []
    },
    "kernelspec": {
      "name": "python3",
      "display_name": "Python 3"
    },
    "language_info": {
      "name": "python"
    }
  },
  "cells": [
    {
      "cell_type": "markdown",
      "source": [
        "### Code Snippet to denoise PNG images used in this work.\n",
        "#### *Seraj Mostafa, dept. of IS, UMBC, MD, USA*"
      ],
      "metadata": {
        "id": "o5n1lYqIDZSf"
      }
    },
    {
      "cell_type": "code",
      "source": [
        "from google.colab import drive\n",
        "drive.mount('/content/drive')"
      ],
      "metadata": {
        "colab": {
          "base_uri": "https://localhost:8080/"
        },
        "id": "FWSM--wPlGyo",
        "outputId": "ec674b7f-191b-4c67-8aa2-a5172c198196"
      },
      "execution_count": null,
      "outputs": [
        {
          "output_type": "stream",
          "name": "stdout",
          "text": [
            "Drive already mounted at /content/drive; to attempt to forcibly remount, call drive.mount(\"/content/drive\", force_remount=True).\n"
          ]
        }
      ]
    },
    {
      "cell_type": "code",
      "source": [
        "import os, cv2\n",
        "import numpy as np\n",
        "from skimage import io\n",
        "from scipy import fftpack\n",
        "from skimage import data\n",
        "from skimage.color import rgb2gray"
      ],
      "metadata": {
        "id": "jGq7rPgsmjP5"
      },
      "execution_count": null,
      "outputs": []
    },
    {
      "cell_type": "code",
      "execution_count": null,
      "metadata": {
        "id": "Z6y8b1lOs5y6"
      },
      "outputs": [],
      "source": [
        "src = '/src/path/to/dir/'\n",
        "dst = '/dst/path/to/dir/'"
      ]
    },
    {
      "cell_type": "markdown",
      "source": [
        "###FFT denoising"
      ],
      "metadata": {
        "id": "iZqoad4DpkE4"
      }
    },
    {
      "cell_type": "code",
      "source": [
        "def denoise_img(img, keep_fraction=0.10):\n",
        "    original = img\n",
        "    grayscale = rgb2gray(original)\n",
        "    im = grayscale\n",
        "    \n",
        "    im_fft = fftpack.fft2(im)\n",
        "    \n",
        "    keep_fraction = keep_fraction\n",
        "    im_fft2 = im_fft.copy()\n",
        "    r, c = im_fft2.shape\n",
        "    im_fft2[int(r*keep_fraction):int(r*(1-keep_fraction))] = 0\n",
        "    im_fft2[:, int(c*keep_fraction):int(c*(1-keep_fraction))] = 0\n",
        "    im_new = fftpack.ifft2(im_fft2).real\n",
        "\n",
        "    # now take the grayscale to rgb\n",
        "    im2_new = np.zeros((im_new.shape[0],im_new.shape[1],3))\n",
        "    im2_new[:,:,0] =im_new\n",
        "    im2_new[:,:,1] =im_new\n",
        "    im2_new[:,:,2] =im_new\n",
        "    \n",
        "    return im2_new*255"
      ],
      "metadata": {
        "id": "beHrMNXJt4Pu"
      },
      "execution_count": null,
      "outputs": []
    },
    {
      "cell_type": "markdown",
      "source": [
        "#### Now apply the above function to a DIR to Iterate through all files"
      ],
      "metadata": {
        "id": "veQm5nF1pnnc"
      }
    },
    {
      "cell_type": "code",
      "execution_count": null,
      "metadata": {
        "id": "fuc2CAaps5zJ"
      },
      "outputs": [],
      "source": [
        "files = os.scandir(src)\n",
        "\n",
        "for file in files:\n",
        "  img = cv2.imread(file.path)\n",
        "  im = denoise_img(img)\n",
        "  cv2.imwrite(dst+ '/' + file.name, im)"
      ]
    }
  ]
}