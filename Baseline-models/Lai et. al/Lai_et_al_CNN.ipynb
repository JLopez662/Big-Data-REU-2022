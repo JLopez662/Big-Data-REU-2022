{
  "cells": [
    {
      "cell_type": "markdown",
      "source": [
        "## Automatic Extraction of Gravity Waves from All-Sky Airglow Image Based on Machine Learning, \n",
        "#### by Chang Lai 1,2,*,Jiyao Xu 2,Jia Yue 3ORCID,Wei Yuan 2,Xiao Liu 4,Wei Li 1 andQinzeng Li 2\n",
        "\n",
        "### A CNN is deployed addressing the archtecure of the above paper\n",
        "#### *Seraj Mostafa, Dept. of IS, UMBC, MD, USA*"
      ],
      "metadata": {
        "id": "WXJeFunbEL0U"
      }
    },
    {
      "cell_type": "code",
      "execution_count": null,
      "metadata": {
        "id": "HUv9EvlV2dOO"
      },
      "outputs": [],
      "source": [
        "from google.colab import drive\n",
        "drive.mount('/content/drive')"
      ]
    },
    {
      "cell_type": "code",
      "execution_count": null,
      "metadata": {
        "id": "ljMDYt7IIqsm",
        "scrolled": true
      },
      "outputs": [],
      "source": [
        "%matplotlib inline\n",
        "import numpy as np\n",
        "import matplotlib.pyplot as plt\n",
        "from PIL import Image\n",
        "import cv2\n",
        "import keras\n",
        "import os"
      ]
    },
    {
      "cell_type": "markdown",
      "source": [
        ""
      ],
      "metadata": {
        "id": "XmETQQE9fWE8"
      }
    },
    {
      "cell_type": "code",
      "execution_count": null,
      "metadata": {
        "id": "TQOQapEwqrRL"
      },
      "outputs": [],
      "source": [
        "import tensorflow\n",
        "from tensorflow.keras import datasets, layers, models\n",
        "# import matplotlib.pyplot as plt\n",
        "from tensorflow.keras.utils import plot_model\n",
        "from tensorflow.keras.preprocessing.image import ImageDataGenerator"
      ]
    },
    {
      "cell_type": "code",
      "execution_count": null,
      "metadata": {
        "id": "4Fap6urzIqsr"
      },
      "outputs": [],
      "source": [
        "data_path = '/path/to-dir''\n",
        "os.chdir(data_path)\n",
        "print(os.path.abspath(os.getcwd()))"
      ]
    },
    {
      "cell_type": "code",
      "execution_count": null,
      "metadata": {
        "id": "mibJid-XzAwr"
      },
      "outputs": [],
      "source": [
        "model = models.Sequential()\n",
        "model.add(layers.Conv2D(16, (3, 3), padding='same', activation='relu', input_shape=(128, 128, 3)))\n",
        "model.add(layers.MaxPooling2D((2, 2)))\n",
        "model.add(layers.Dropout(.5))\n",
        "\n",
        "model.add(layers.Conv2D(128, (3, 3), padding='same', activation='relu'))\n",
        "model.add(layers.MaxPooling2D((2, 2)))\n",
        "model.add(layers.Dropout(.5))\n",
        "\n",
        "model.add(layers.Flatten())\n",
        "model.add(layers.Dropout(.5))\n",
        "\n",
        "model.add(layers.Dense(1, activation='sigmoid'))\n",
        "\n",
        "model.summary()"
      ]
    },
    {
      "cell_type": "code",
      "execution_count": null,
      "metadata": {
        "id": "o3-Gefwj4aEP"
      },
      "outputs": [],
      "source": [
        "batch_size = 64\n",
        "\n",
        "train_datagen = ImageDataGenerator(rescale=1./255)\n",
        "validation_datagen = ImageDataGenerator(rescale=1./255)\n",
        "test_datagen = ImageDataGenerator(rescale=1./255)\n",
        "\n",
        "train_generator = train_datagen.flow_from_directory(\n",
        "        './train',\n",
        "        target_size=(128, 128),\n",
        "        batch_size=batch_size,\n",
        "        class_mode='binary')\n",
        "\n",
        "train_list = []\n",
        "batch_index = 0\n",
        "while batch_index <= train_generator.batch_index:\n",
        "  train = train_generator.next()\n",
        "  train_list.append(train[0])\n",
        "  batch_index = batch_index + 1\n",
        "train_array = np.asarray(train_list)\n",
        "\n",
        "validation_generator = test_datagen.flow_from_directory( \n",
        "        './validation',\n",
        "        target_size=(128, 128),\n",
        "        batch_size=batch_size,\n",
        "        class_mode='binary')\n",
        "\n",
        "validation_list = []\n",
        "batch_index = 0\n",
        "while batch_index <= validation_generator.batch_index:\n",
        "  validation = validation_generator.next()\n",
        "  validation_list.append(validation[0])\n",
        "  batch_index = batch_index + 1\n",
        "validation_array = np.asarray(validation_list)\n",
        "\n",
        "test_generator = test_datagen.flow_from_directory(\n",
        "        './test',\n",
        "        target_size=(128, 128),\n",
        "        batch_size=batch_size,\n",
        "        class_mode='binary',\n",
        "        )\n",
        "\n",
        "test_list = []\n",
        "batch_index = 0\n",
        "while batch_index <= test_generator.batch_index:\n",
        "  test = test_generator.next()\n",
        "  test_list.append(test[0])\n",
        "  batch_index = batch_index + 1 \n",
        "test_array = np.asarray(test_list)"
      ]
    },
    {
      "cell_type": "code",
      "execution_count": null,
      "metadata": {
        "id": "Zti3cZ_HIqst"
      },
      "outputs": [],
      "source": [
        "model.compile(loss='binary_crossentropy',\n",
        "              optimizer='adam',\n",
        "              metrics=['accuracy'])"
      ]
    },
    {
      "cell_type": "code",
      "execution_count": null,
      "metadata": {
        "id": "lWlWc79lHthq"
      },
      "outputs": [],
      "source": [
        "h= model.fit(\n",
        "        train_generator,\n",
        "        epochs=100,\n",
        "        validation_data=validation_generator,\n",
        "        steps_per_epoch=200 // batch_size,\n",
        "        validation_steps=80 // batch_size\n",
        "        )"
      ]
    },
    {
      "cell_type": "code",
      "execution_count": null,
      "metadata": {
        "id": "RdmwvFiL28gT"
      },
      "outputs": [],
      "source": [
        "model.evaluate(train_generator)"
      ]
    },
    {
      "cell_type": "code",
      "execution_count": null,
      "metadata": {
        "id": "4o5KYzJX3D8D"
      },
      "outputs": [],
      "source": [
        "model.evaluate(validation_generator)"
      ]
    },
    {
      "cell_type": "code",
      "execution_count": null,
      "metadata": {
        "id": "3X5uzYLx3L2f"
      },
      "outputs": [],
      "source": [
        "model.evaluate(test_generator)"
      ]
    },
    {
      "cell_type": "code",
      "source": [
        "from tensorflow.keras.metrics import Precision, Recall, BinaryAccuracy\n",
        "\n",
        "pre = Precision()\n",
        "re = Recall()\n",
        "acc = BinaryAccuracy()\n",
        "\n",
        "for batch in validation:\n",
        "  X,y = validation\n",
        "  yhat = model.predict(X)\n",
        "  pre.update_state(y, yhat)\n",
        "  re.update_state(y, yhat)\n",
        "  acc.update_state(y, yhat)\n",
        "\n",
        "f1_score = (2 * pre.result().numpy() * re.result())/(pre.result().numpy() + re.result())\n",
        "\n",
        "print('For Validation: ')\n",
        "print(f'Precision: {pre.result().numpy()}, Recall: {re.result().numpy()}, Accuracy: {acc.result().numpy()}, F1 Score: {f1_score}')"
      ],
      "metadata": {
        "id": "YofQXJsze4ff"
      },
      "execution_count": null,
      "outputs": []
    },
    {
      "cell_type": "code",
      "execution_count": null,
      "metadata": {
        "id": "AZoP4Qm03bCr"
      },
      "outputs": [],
      "source": [
        "from sklearn import metrics\n",
        "\n",
        "x = model.predict(train_generator)\n",
        "metrics.roc_auc_score(train_generator.labels, x)"
      ]
    },
    {
      "cell_type": "code",
      "source": [
        "model.save('/content/Lai.et.al.CNN.h5')\n",
        "print('Model Saved!')"
      ],
      "metadata": {
        "id": "F9ZIGh2Fg7uC"
      },
      "execution_count": null,
      "outputs": []
    }
  ],
  "metadata": {
    "colab": {
      "collapsed_sections": [],
      "name": "Lai et. al. paper.ipynb",
      "provenance": []
    },
    "gpuClass": "standard",
    "kernelspec": {
      "display_name": "Python 3",
      "name": "python3"
    },
    "language_info": {
      "name": "python"
    }
  },
  "nbformat": 4,
  "nbformat_minor": 0
}