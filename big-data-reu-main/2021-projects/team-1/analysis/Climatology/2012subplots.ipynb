{
 "cells": [
  {
   "cell_type": "code",
   "execution_count": null,
   "id": "9307b226-2b6f-4b94-b552-f84a06e595c2",
   "metadata": {},
   "outputs": [],
   "source": [
    "# load necessary packages\n",
    "import pandas as pd\n",
    "import numpy as np\n",
    "import matplotlib.pyplot as plt\n",
    "\n",
    "monthly_ice = pd.read_csv(\"monthly_data/monthly_ice.csv\")\n",
    "\n",
    "monthly_ice = np.array(monthly_ice.iloc[:, 1])\n",
    "monthly_ice = monthly_ice.reshape(480, 448, 304)\n",
    "\n",
    "avg_ice = np.nanmean(monthly_ice, axis = (1,2))\n",
    "\n",
    "date = pd.date_range(start='1979-01-10', end='2018-12-10', periods=480)\n",
    "\n",
    "df = pd.DataFrame({'datetime': date,\n",
    "                                 'ice': avg_ice,})\n",
    "\n",
    "df.index = pd.to_datetime(df['datetime'],format='%Y-%m-%d %H:%M:%S')\n",
    "\n",
    "month_avg = df.groupby(df['datetime'].dt.month).mean().values"
   ]
  },
  {
   "cell_type": "code",
   "execution_count": null,
   "id": "d7332633-0407-434a-8ecb-82dc006f9812",
   "metadata": {},
   "outputs": [],
   "source": [
    "ice2012 = df[397:409].values\n",
    "ice2012 = ice2012[:,1]\n",
    "ice2012"
   ]
  },
  {
   "cell_type": "code",
   "execution_count": null,
   "id": "d30a0bb3-462a-4561-b656-6bed6dcc5137",
   "metadata": {},
   "outputs": [],
   "source": [
    "anom12 = np.zeros(ice2012.size)\n",
    "x=0\n",
    "for x in range(len(ice2012)):\n",
    "    anom12[x] = ice2012[x]-month_avg[x]"
   ]
  },
  {
   "cell_type": "code",
   "execution_count": null,
   "id": "bcada058-c0d1-4938-b2d0-ee7f56a1d71a",
   "metadata": {},
   "outputs": [],
   "source": [
    "plt.plot(anom12)\n",
    "plt.xlabel('Month')\n",
    "plt.ylabel('Sea Ice Extent')\n",
    "plt.title('Monthly Sea Ice Extent Anomalies for 2012')\n",
    "positions = (0,2,4,6,8,10)\n",
    "labels = (\"Jan\", \"Mar\", \"May\", \"Jul\", \"Sep\", \"Nov\")\n",
    "plt.xticks(positions, labels)\n",
    "plt.savefig('anom12.png', bbox_inches='tight')"
   ]
  }
 ],
 "metadata": {
  "kernelspec": {
   "display_name": "Python 3",
   "language": "python",
   "name": "python3"
  },
  "language_info": {
   "codemirror_mode": {
    "name": "ipython",
    "version": 3
   },
   "file_extension": ".py",
   "mimetype": "text/x-python",
   "name": "python",
   "nbconvert_exporter": "python",
   "pygments_lexer": "ipython3",
   "version": "3.7.6"
  }
 },
 "nbformat": 4,
 "nbformat_minor": 5
}
