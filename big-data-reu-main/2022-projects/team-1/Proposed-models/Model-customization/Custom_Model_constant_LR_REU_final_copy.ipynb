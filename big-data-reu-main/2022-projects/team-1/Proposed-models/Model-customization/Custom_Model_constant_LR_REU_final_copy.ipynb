{
  "cells": [
    {
      "attachments": {},
      "cell_type": "markdown",
      "metadata": {},
      "source": [
        "# Mount Google Drive to Colab Environment\n",
        "This code is used to mount your Google Drive account to the Colab environment, allowing you to access the files stored in your Google Drive directly from Colab. \n",
        "\n",
        "The `drive.mount()` function creates a connection between Colab and your Google Drive account and mounts your Google Drive at the specified location (in this case, `/content/drive`).\n"
      ]
    },
    {
      "cell_type": "code",
      "execution_count": null,
      "metadata": {
        "colab": {
          "base_uri": "https://localhost:8080/"
        },
        "id": "rOfGlTRwvREg",
        "outputId": "8bb204b7-d4aa-4e7e-ab6b-8bd50d8c2f60"
      },
      "outputs": [
        {
          "name": "stdout",
          "output_type": "stream",
          "text": [
            "Mounted at /content/drive\n"
          ]
        }
      ],
      "source": [
        "# Importing the 'drive' module from the 'google.colab' package\n",
        "from google.colab import drive\n",
        "\n",
        "# Mounting Google Drive to the '/content/drive' directory in the Colab environment\n",
        "drive.mount('/content/drive')"
      ]
    },
    {
      "attachments": {},
      "cell_type": "markdown",
      "metadata": {},
      "source": [
        "# Installing Required Packages\n",
        "\n",
        "This code is used to install various required packages in the environment. \n",
        "\n",
        "The `!pip install` command is used to install the packages, and the `-U` flag is used to upgrade an already installed package to a specific version. \n",
        "\n",
        "In this case, the packages being installed are `preprocess`, `mxnet-cu101`, `d2l`, `h5py`, and `pyyaml`."
      ]
    },
    {
      "cell_type": "code",
      "execution_count": null,
      "metadata": {
        "id": "XNKk7P6_vUMX"
      },
      "outputs": [],
      "source": [
        "# Installing Required Packages\n",
        "\n",
        "# Installing the 'preprocess' package\n",
        "!pip install preprocess\n",
        "\n",
        "# Updating the 'mxnet-cu101' package to version 1.7.0\n",
        "!pip install -U mxnet-cu101==1.7.0\n",
        "\n",
        "# Installing the 'd2l' package version 1.0.0-alpha0\n",
        "!pip install d2l==1.0.0-alpha0\n",
        "\n",
        "# Installing the 'h5py' and 'pyyaml' packages\n",
        "!pip install h5py pyyaml"
      ]
    },
    {
      "attachments": {},
      "cell_type": "markdown",
      "metadata": {
        "id": "6AllCWdNy45L"
      },
      "source": [
        "# Setting up a Deep Learning Environment in TensorFlow\n",
        "\n",
        "This code is used to set up a deep learning environment in TensorFlow. \n",
        "\n",
        "The `%load_ext tensorboard` line is used to load the TensorBoard extension for Jupyter Notebook. The code then imports the required libraries, including `os`, `numpy`, `pandas`, `matplotlib`, `preprocess`, and `cv2`. \n",
        "\n",
        "Additionally, it imports various TensorFlow libraries, including `keras`, `models`, `layers`, `optimizers`, and `preprocessing`, which are used to build, compile, and train deep learning models. \n",
        "\n",
        "Finally, it imports the Python Imaging Library (PIL) to work with images.\n"
      ]
    },
    {
      "cell_type": "code",
      "execution_count": null,
      "metadata": {
        "id": "FJJquGHave81"
      },
      "outputs": [],
      "source": [
        "# Loading TensorBoard Extension\n",
        "%load_ext tensorboard\n",
        "\n",
        "# Importing Required Libraries\n",
        "import os\n",
        "import numpy as np\n",
        "import pandas as pd\n",
        "import matplotlib.pyplot as plt\n",
        "import preprocess as pp\n",
        "import cv2\n",
        "\n",
        "# Importing TensorFlow Libraries\n",
        "from tensorflow import keras\n",
        "from tensorflow.keras.datasets import cifar10\n",
        "from tensorflow.keras import models, layers\n",
        "from tensorflow.keras.models import Model, Sequential\n",
        "from tensorflow.keras.layers import Input, Dense, Dropout, Flatten, Activation\n",
        "from tensorflow.keras.layers import BatchNormalization\n",
        "from tensorflow.keras import optimizers\n",
        "from tensorflow.keras.preprocessing import sequence\n",
        "from tensorflow.keras.preprocessing.image import ImageDataGenerator, array_to_img, img_to_array, load_img\n",
        "\n",
        "# Importing PIL Library\n",
        "import PIL.Image\n"
      ]
    },
    {
      "attachments": {},
      "cell_type": "markdown",
      "metadata": {},
      "source": [
        "# Setting GPU Configuration in TensorFlow"
      ]
    },
    {
      "cell_type": "code",
      "execution_count": null,
      "metadata": {
        "colab": {
          "base_uri": "https://localhost:8080/"
        },
        "id": "bQMidZDZQBWp",
        "outputId": "79d2e932-f4cf-43dc-f3a9-7ae4b4c3b889"
      },
      "outputs": [
        {
          "name": "stdout",
          "output_type": "stream",
          "text": [
            "Num GPUs Available:  1\n"
          ]
        }
      ],
      "source": [
        "import tensorflow as tf\n",
        "\n",
        "#Used to get the list of physical GPUs available in the environment. \n",
        "#The `len(physical_devices)` line is used to get the number of GPUs available and `print` it.\n",
        "physical_devices = tf.config.experimental.list_physical_devices('GPU')\n",
        "print(\"Num GPUs Available: \", len(physical_devices))\n",
        "\n",
        "#Used to set the memory growth of the first GPU (at index 0) to True, \n",
        "# allowing TensorFlow to dynamically allocate memory as required by the model during training. \n",
        "tf.config.experimental.set_memory_growth(physical_devices[0], True)"
      ]
    },
    {
      "attachments": {},
      "cell_type": "markdown",
      "metadata": {
        "id": "Se-dESee0l5a"
      },
      "source": [
        "# Import the labeled dataset from  NASA’s LAADS DAAC archives. \n",
        "\n",
        "Fast Fourier Transform has been applied to the images in the dataset for denoising."
      ]
    },
    {
      "cell_type": "code",
      "execution_count": null,
      "metadata": {
        "colab": {
          "base_uri": "https://localhost:8080/"
        },
        "id": "kC7XqyjBvhhW",
        "outputId": "5abf6516-6be5-4e74-da29-d1e75741e9d7"
      },
      "outputs": [
        {
          "name": "stdout",
          "output_type": "stream",
          "text": [
            "/content/drive/MyDrive/fft-denoised\n"
          ]
        }
      ],
      "source": [
        "# Setting the Working Directory in Python\n",
        "\n",
        "data_path = ('/content/drive/MyDrive/fft-denoised/')\n",
        "os.chdir(data_path)\n",
        "print(os.path.abspath(os.getcwd()))"
      ]
    },
    {
      "attachments": {},
      "cell_type": "markdown",
      "metadata": {
        "id": "3A8_7pz61YRq"
      },
      "source": [
        "# Loading the pre-trained model Inception V3, which was trained with imagenet dataset.\n",
        "\n",
        "All layers in the Inception V3 has been assigned to be non-trainable.\n"
      ]
    },
    {
      "cell_type": "code",
      "execution_count": null,
      "metadata": {
        "colab": {
          "base_uri": "https://localhost:8080/"
        },
        "id": "GBhVkfO1vjwX",
        "outputId": "e0a3d9b9-5a27-4304-ef9c-55cfe92aa697"
      },
      "outputs": [
        {
          "name": "stdout",
          "output_type": "stream",
          "text": [
            "Downloading data from https://storage.googleapis.com/tensorflow/keras-applications/inception_v3/inception_v3_weights_tf_dim_ordering_tf_kernels_notop.h5\n",
            "87916544/87910968 [==============================] - 1s 0us/step\n",
            "87924736/87910968 [==============================] - 1s 0us/step\n"
          ]
        }
      ],
      "source": [
        "from tensorflow.keras.applications.inception_v3 import InceptionV3\n",
        "import tensorflow as tf\n",
        "\n",
        "from keras import regularizers\n",
        "from keras.models import Model\n",
        "\n",
        "# Importing Pre-Trained InceptionV3 Model\n",
        "base_model = InceptionV3(input_shape = (256,256,3), include_top = False, weights = 'imagenet')\n",
        "\n",
        "# Freeze all the layers\n",
        "for layer in base_model.layers:\n",
        "  layer.trainable = False\n",
        "\n",
        "# Check the trainable status of the individual layers\n",
        "for layer in base_model.layers:\n",
        "  print(layer, layer.trainable)\n",
        "\n",
        "base_model.summary()"
      ]
    },
    {
      "attachments": {},
      "cell_type": "markdown",
      "metadata": {
        "id": "8IRVaga-1xlf"
      },
      "source": [
        "# Extracting the last layer of the InceptionV3 model. \n",
        "\n",
        "This code can be used as a feature extractor for transfer learning, where the last layer of the pre-trained model is used as input for a new, custom model.\n",
        "\n",
        "The reason for that is because for the Inception Model V3, the largest feature map is produced by this layer, and further layers have lower dimensions. So for the purpose of feature extraction, we want to use the feature map with the most dimensions possible."
      ]
    },
    {
      "cell_type": "code",
      "execution_count": null,
      "metadata": {
        "colab": {
          "base_uri": "https://localhost:8080/"
        },
        "id": "QCQlVKBovmL8",
        "outputId": "c915784f-50bd-4d9d-bca0-01877620435f"
      },
      "outputs": [
        {
          "name": "stdout",
          "output_type": "stream",
          "text": [
            "last layer output shape:  (None, 14, 14, 768)\n"
          ]
        }
      ],
      "source": [
        "#The last_layer variable is assigned the value of the 'mixed7' layer of the base_model.\n",
        "last_layer = base_model.get_layer('mixed7')\n",
        "\n",
        "#The output shape of the last layer is then printed, and the last_output variable is assigned the value of the output of the last layer.\n",
        "print('last layer output shape: ', last_layer.output_shape)\n",
        "last_output = last_layer.output"
      ]
    },
    {
      "attachments": {},
      "cell_type": "markdown",
      "metadata": {
        "id": "PeeujyT22WYx"
      },
      "source": [
        "# Applying  L1 and L2 regularization to all Conv2D layers in the base_model.\n",
        "\n",
        "The if statement is checking for each layer in the base_model if it is a Conv2D layer. If it is, it adds L1 and L2 regularization to that layer using the kernel_regularizer attribute and the l1 and l2 functions from the keras.regularizers module, with a regularization factor of 0.0001 for both L1 and L2. Regularization helps to prevent overfitting in the model."
      ]
    },
    {
      "cell_type": "code",
      "execution_count": null,
      "metadata": {
        "id": "x69MD0mWvnK4"
      },
      "outputs": [],
      "source": [
        "#Adding L1 and L2 regularization to the Conv2D layers in the base_model.\n",
        "for layer in base_model.layers:\n",
        "  if layer.__class__.__name__ == 'Conv2D':\n",
        "    layer.kernel_regularizer = keras.regularizers.l1(0.0001)\n",
        "    layer.kernel_regularizer = keras.regularizers.l2(0.0001)"
      ]
    },
    {
      "attachments": {},
      "cell_type": "markdown",
      "metadata": {
        "id": "MYtyoVckhGTy"
      },
      "source": [
        "# Defining Custom Model with trainable layers\n",
        "\n",
        "Defining a function model_call() which returns a deep learning model that can be used for binary classification tasks. \n",
        "\n",
        "The function uses the Model class from the TensorFlow library to create a model that takes the pre-trained InceptionV3 model as its base and adds a custom top layer for classification."
      ]
    },
    {
      "cell_type": "code",
      "execution_count": null,
      "metadata": {
        "id": "z-_mwxyFOLs5"
      },
      "outputs": [],
      "source": [
        "# Import required libraries\n",
        "from tensorflow.keras import activations\n",
        "from tensorflow.keras.optimizers import RMSprop, SGD, Adam\n",
        "from tensorflow.keras.layers import Conv2D, Convolution2D, MaxPooling2D, AveragePooling2D, GlobalAveragePooling2D\n",
        "import tensorflow as tf\n",
        "from tensorflow.keras.callbacks import EarlyStopping\n",
        "from tensorflow.keras.utils import plot_model\n",
        "\n",
        "# Define the model_call function\n",
        "def model_call():\n",
        "\n",
        "  # Flatten the output from the mixed7 layer of the base model\n",
        "  x = layers.Flatten()(last_output) #mixed 7\n",
        "\n",
        "  # Add a fully connected layer with 1,024 hidden units and ReLU activation\n",
        "  x = layers.Dense(1024, activation='relu')(x)\n",
        "\n",
        "  # Add dropout regularization to the fully connected layer\n",
        "  x = layers.Dropout(0.3)(x)      \n",
        "\n",
        "  # Add a final sigmoid layer for classification\n",
        "  x = layers.Dense(1, activation='sigmoid')(x)         \n",
        "\n",
        "  # Create the model by using the base model as input and the sigmoid layer as output\n",
        "  model = Model(base_model.input, x)\n",
        "\n",
        "  # Compile the model using the Adam optimizer, binary crossentropy loss, and accuracy metrics\n",
        "  model.compile(optimizer = Adam(lr=1e-04),\n",
        "                loss = 'binary_crossentropy', \n",
        "                metrics = ['accuracy'])\n",
        "                \n",
        "  # Return the compiled model\n",
        "  return model"
      ]
    },
    {
      "attachments": {},
      "cell_type": "markdown",
      "metadata": {},
      "source": [
        "# Displaying a Summary of the custom model on top of the pre-trained model\n",
        "\n",
        "The summary includes information about the layers in the model, the shapes of their outputs, the number of parameters in each layer, and the total number of parameters in the model. This is a useful tool for understanding the structure and complexity of the model, and for identifying any potential issues or problems with the architecture."
      ]
    },
    {
      "cell_type": "code",
      "execution_count": null,
      "metadata": {
        "id": "y9tUmSzLqHfA"
      },
      "outputs": [],
      "source": [
        "model.summary()"
      ]
    },
    {
      "attachments": {},
      "cell_type": "markdown",
      "metadata": {
        "id": "nw4guykK2d02"
      },
      "source": [
        "#  Custom callback class myCallback.\n",
        "\n",
        "The class is used to monitor the accuracy of a model during training and print out messages based on the accuracy values achieved. The class implements the on_epoch_end method which is called at the end of each epoch during model training.\n",
        "\n",
        "The method checks the accuracy value stored in the logs dictionary at the end of each epoch and based on the accuracy value, it prints out various messages. If the accuracy reaches 99%, the training will stop as the message \"Reached 99% accuracy so cancelling training!\" is printed. If the validation accuracy reaches 95% or more, the training will stop with the message \"Reached 95% or more validation accuracy, training finished.\". The code also prints messages if the validation accuracy reaches 93% and 90%."
      ]
    },
    {
      "cell_type": "code",
      "execution_count": null,
      "metadata": {
        "id": "MoPI007BXBn6"
      },
      "outputs": [],
      "source": [
        "# Defining a callback to monitor the accuracy during training\n",
        "class myCallback(tf.keras.callbacks.Callback):\n",
        "  def on_epoch_end(self, epoch, logs={}):\n",
        "\n",
        "    # Check if accuracy is greater than 99% to make early stop\n",
        "    if(logs.get('accuracy')>0.99):\n",
        "      print(\"\\nReached 99% accuracy so cancelling training!\")\n",
        "      self.model.stop_training = True\n",
        "\n",
        "    # Check if validation accuracy is greater than or equal to 95%, to make early stop\n",
        "    elif(logs.get('val_accuracy')>0.9499):\n",
        "      print(\"\\nReached 95% or more validation accuracy, training finished.\")\n",
        "      self.model.stop_training = True\n",
        "\n",
        "    # Check if validation accuracy is greater than or equal to 93%\n",
        "    elif(logs.get('val_accuracy')>0.93):\n",
        "      print(f\"\\nReached 93% validation accuracy mark!!!\")\n",
        "      \n",
        "    # Check if validation accuracy is greater than or equal to 90%\n",
        "    elif(logs.get('val_accuracy')>0.8999):\n",
        "      print(f\"\\nReached 90% validation accuracy mark!\")\n",
        "\n",
        "# Initializing the callback object\n",
        "accstop = myCallback()"
      ]
    },
    {
      "attachments": {},
      "cell_type": "markdown",
      "metadata": {
        "id": "yyQUkyDG3CBF"
      },
      "source": [
        "# Defining parameters to create image data generators for training, validation, and testing datasets.\n",
        "\n",
        "The train_datagen generator is defined using the ImageDataGenerator class from TensorFlow's Keras library. This generator will be used to augment the training data.\n",
        "\n",
        "The test_datagen generator is then defined using the same ImageDataGenerator class, but only with the rescale parameter set to normalize the pixel values.\n",
        "\n",
        "Next, the training generator is defined using the train_datagen generator.\n",
        "\n",
        "Training data is then extracted from the generator and stored in a list. This list is then converted to a numpy array, which is stored in the train_array variable.\n",
        "\n",
        "Similarly, the validation generator is defined using the train_datagen generator, with the directory set to ./validation. The validation data is then extracted from the generator and stored in a numpy array, which is stored in the validation_array variable.\n",
        "\n",
        "Finally, the testing generator is defined using the test_datagen generator, with the directory set to ./test. The testing data is then extracted from the generator and stored in a numpy array, which is stored in the test_array variable.\n",
        "\n"
      ]
    },
    {
      "cell_type": "code",
      "execution_count": null,
      "metadata": {
        "colab": {
          "base_uri": "https://localhost:8080/"
        },
        "id": "zYcH07DPvptN",
        "outputId": "a64a5609-eaf9-4ce8-ac63-6a4913b03c84"
      },
      "outputs": [
        {
          "name": "stdout",
          "output_type": "stream",
          "text": [
            "Found 710 images belonging to 2 classes.\n"
          ]
        },
        {
          "name": "stderr",
          "output_type": "stream",
          "text": [
            "/usr/local/lib/python3.7/dist-packages/ipykernel_launcher.py:32: VisibleDeprecationWarning: Creating an ndarray from ragged nested sequences (which is a list-or-tuple of lists-or-tuples-or ndarrays with different lengths or shapes) is deprecated. If you meant to do this, you must specify 'dtype=object' when creating the ndarray.\n"
          ]
        },
        {
          "name": "stdout",
          "output_type": "stream",
          "text": [
            "Found 140 images belonging to 2 classes.\n",
            "Found 236 images belonging to 2 classes.\n"
          ]
        },
        {
          "name": "stderr",
          "output_type": "stream",
          "text": [
            "/usr/local/lib/python3.7/dist-packages/ipykernel_launcher.py:67: VisibleDeprecationWarning: Creating an ndarray from ragged nested sequences (which is a list-or-tuple of lists-or-tuples-or ndarrays with different lengths or shapes) is deprecated. If you meant to do this, you must specify 'dtype=object' when creating the ndarray.\n"
          ]
        }
      ],
      "source": [
        "# Define the batch size for training and testing\n",
        "batch_size = 35\n",
        "\n",
        "# Create ImageDataGenerator for training data with data augmentation\n",
        "train_datagen = ImageDataGenerator(\n",
        "        width_shift_range = 0.2, # randomly shift images horizontally\n",
        "        rescale=1/255,           # normalize pixel values\n",
        "        shear_range=0.2,         # apply random shear transformation\n",
        "        horizontal_flip=True,    # randomly flip images horizontally\n",
        "        )\n",
        "\n",
        "# Create ImageDataGenerator for test data without data augmentation\n",
        "test_datagen = ImageDataGenerator(\n",
        "        rescale=1/255)           # normalize pixel values\n",
        "\n",
        "# Create a generator for the training data and retrieve all images\n",
        "train_generator = train_datagen.flow_from_directory(\n",
        "        './train',               # path to the training data directory\n",
        "        target_size=(256, 256),  # target image size\n",
        "        batch_size= batch_size,  # batch size defined above\n",
        "        shuffle = True,          # shuffle the images\n",
        "        class_mode='binary')     # binary classification problem\n",
        "\n",
        "# Create a list to store all the training images\n",
        "train_list = []\n",
        "batch_index = 0\n",
        "while batch_index <= train_generator.batch_index:\n",
        "  train = train_generator.next()\n",
        "  train_list.append(train[0])    # append the images to the list\n",
        "  batch_index = batch_index + 1\n",
        "\n",
        "# Convert the list of images to a numpy array\n",
        "train_array = np.asarray(train_list)\n",
        "\n",
        "# Create a generator for the validation data and retrieve all images\n",
        "validation_generator = train_datagen.flow_from_directory(\n",
        "        './validation',          # path to the validation data directory\n",
        "        target_size=(256, 256),  # target image size\n",
        "        batch_size= 35,          # batch size defined as 35\n",
        "        class_mode='binary')     # binary classification problem\n",
        "\n",
        "# Create a list to store all the validation images\n",
        "validation_list = []\n",
        "batch_index = 0\n",
        "while batch_index <= validation_generator.batch_index:\n",
        "  validation = validation_generator.next()\n",
        "  validation_list.append(validation[0])    # append the images to the list\n",
        "  batch_index = batch_index + 1\n",
        "\n",
        "# Convert the list of images to a numpy array\n",
        "validation_array = np.asarray(validation_list)\n",
        "\n",
        "# Create a generator for the test data and retrieve all images\n",
        "test_generator = test_datagen.flow_from_directory(\n",
        "        './test',                # path to the test data directory\n",
        "        target_size=(256, 256),  # target image size\n",
        "        batch_size= batch_size,  # batch size defined above\n",
        "        class_mode= 'binary')    # binary classification problem\n",
        "\n",
        "# Create a list to store all the test images\n",
        "test_list = []\n",
        "batch_index = 0\n",
        "while batch_index <= test_generator.batch_index:\n",
        "  test = test_generator.next()\n",
        "  test_list.append(test[0])      # append the images to the list\n",
        "  batch_index = batch_index + 1 \n",
        "\n",
        "# Convert the list of images to a numpy array\n",
        "test_array = np.asarray(test_list)"
      ]
    },
    {
      "attachments": {},
      "cell_type": "markdown",
      "metadata": {},
      "source": [
        "# Defining a neural network model by calling a function named model_call(). \n",
        "\n",
        "After the model is defined, the code plots a graphical representation of the model using the plot_model() function from the keras.utils module. \n",
        "\n",
        "The plot_model() function takes the model as an argument and plots the architecture of the model. \n",
        "\n",
        "The to_file argument is used to specify the name and location of the file where the plot will be saved. \n",
        "\n",
        "The show_shapes argument is set to True to indicate that the shapes of the model inputs and outputs should be displayed on the plot. The show_layer_names argument is set to True to indicate that the names of the model layers should be displayed on the plot."
      ]
    },
    {
      "cell_type": "markdown",
      "metadata": {
        "id": "t-MCksEyTpfS"
      },
      "source": [
        "This function allows you to visualize the model."
      ]
    },
    {
      "cell_type": "code",
      "execution_count": null,
      "metadata": {
        "id": "hyr5MYInMutR"
      },
      "outputs": [],
      "source": [
        "# Initialize the model\n",
        "model1 = model_call()\n",
        "\n",
        "# Plot the model architecture\n",
        "# 'model_plot.png' is the file name to save the plot\n",
        "# 'show_shapes' argument is set to True to show the shapes of the layers in the plot\n",
        "# 'show_layer_names' argument is set to True to show the names of the layers in the plot\n",
        "plot_model(model1, to_file='model_plot.png', show_shapes=True, show_layer_names=True) "
      ]
    },
    {
      "cell_type": "code",
      "execution_count": null,
      "metadata": {},
      "outputs": [],
      "source": []
    },
    {
      "attachments": {},
      "cell_type": "markdown",
      "metadata": {
        "id": "TysQwsv-Tmr6"
      },
      "source": [
        "# Training the Custom Model \n",
        "\n",
        "1. Imports the callbacks module from TensorFlow's Keras library.\n",
        "\n",
        "2. Initializes two lists, test_acc_per_fold and test_loss_per_fold to store the accuracy and loss per fold for testing.\n",
        "\n",
        "3. Calls the model_call() function to create the model.\n",
        "\n",
        "4. Sets the number of epochs to 300.\n",
        "\n",
        "5. Fits the model on the training data using the train_generator generator, with 3 steps per epoch, 300 epochs, validation data from validation_generator, and the accstop callback. The number of validation steps is set to 1.\n",
        "\n",
        "6. Evaluates the model on the training data using train_generator.\n",
        "\n",
        "7. Evaluates the model on the validation data using validation_generator.\n",
        "\n",
        "8. Evaluates the model on the test data using test_generator.\n",
        "\n",
        "9. Finds the best accuracy, loss, validation accuracy, and validation loss from the history of the model training."
      ]
    },
    {
      "cell_type": "code",
      "execution_count": null,
      "metadata": {
        "colab": {
          "base_uri": "https://localhost:8080/"
        },
        "id": "vv9PlbhcDII4",
        "outputId": "88291b9e-a0cf-40b8-9a7a-e90281b8ce93"
      },
      "outputs": [
        {
          "name": "stderr",
          "output_type": "stream",
          "text": [
            "/usr/local/lib/python3.7/dist-packages/keras/optimizer_v2/adam.py:105: UserWarning: The `lr` argument is deprecated, use `learning_rate` instead.\n",
            "  super(Adam, self).__init__(name, **kwargs)\n"
          ]
        },
        {
          "name": "stdout",
          "output_type": "stream",
          "text": [
            "Epoch 1/300\n",
            "3/3 [==============================] - 11s 3s/step - loss: 1.1964 - accuracy: 0.5619 - val_loss: 1.3229 - val_accuracy: 0.4571\n",
            "Epoch 2/300\n",
            "3/3 [==============================] - 6s 2s/step - loss: 1.0006 - accuracy: 0.5143 - val_loss: 0.9686 - val_accuracy: 0.4857\n",
            "Epoch 3/300\n",
            "3/3 [==============================] - 6s 2s/step - loss: 0.7207 - accuracy: 0.6476 - val_loss: 0.6294 - val_accuracy: 0.6571\n",
            "Epoch 4/300\n",
            "3/3 [==============================] - 5s 2s/step - loss: 0.5835 - accuracy: 0.7000 - val_loss: 0.7325 - val_accuracy: 0.7143\n",
            "Epoch 5/300\n",
            "3/3 [==============================] - 5s 2s/step - loss: 0.7591 - accuracy: 0.6125 - val_loss: 0.6110 - val_accuracy: 0.6857\n",
            "Epoch 6/300\n",
            "3/3 [==============================] - 6s 3s/step - loss: 0.5094 - accuracy: 0.7619 - val_loss: 0.6129 - val_accuracy: 0.7143\n",
            "Epoch 7/300\n",
            "3/3 [==============================] - 6s 2s/step - loss: 0.4970 - accuracy: 0.7524 - val_loss: 0.6017 - val_accuracy: 0.6571\n",
            "Epoch 8/300\n",
            "3/3 [==============================] - 6s 2s/step - loss: 0.5468 - accuracy: 0.7143 - val_loss: 0.5150 - val_accuracy: 0.7429\n",
            "Epoch 9/300\n",
            "3/3 [==============================] - 5s 2s/step - loss: 0.6127 - accuracy: 0.6875 - val_loss: 0.5537 - val_accuracy: 0.7143\n",
            "Epoch 10/300\n",
            "3/3 [==============================] - 6s 2s/step - loss: 0.5189 - accuracy: 0.7333 - val_loss: 0.6722 - val_accuracy: 0.6000\n",
            "Epoch 11/300\n",
            "3/3 [==============================] - 6s 2s/step - loss: 0.4387 - accuracy: 0.8095 - val_loss: 0.5693 - val_accuracy: 0.7429\n",
            "Epoch 12/300\n",
            "3/3 [==============================] - 5s 2s/step - loss: 0.5673 - accuracy: 0.7375 - val_loss: 0.5716 - val_accuracy: 0.7143\n",
            "Epoch 13/300\n",
            "3/3 [==============================] - 6s 2s/step - loss: 0.5521 - accuracy: 0.7429 - val_loss: 0.6040 - val_accuracy: 0.6571\n",
            "Epoch 14/300\n",
            "3/3 [==============================] - 6s 2s/step - loss: 0.4104 - accuracy: 0.8381 - val_loss: 0.5240 - val_accuracy: 0.7429\n",
            "Epoch 15/300\n",
            "3/3 [==============================] - 6s 2s/step - loss: 0.4147 - accuracy: 0.8000 - val_loss: 0.5303 - val_accuracy: 0.7714\n",
            "Epoch 16/300\n",
            "3/3 [==============================] - 6s 2s/step - loss: 0.4094 - accuracy: 0.7810 - val_loss: 0.4595 - val_accuracy: 0.7714\n",
            "Epoch 17/300\n",
            "3/3 [==============================] - 6s 2s/step - loss: 0.4767 - accuracy: 0.7619 - val_loss: 0.4673 - val_accuracy: 0.8000\n",
            "Epoch 18/300\n",
            "3/3 [==============================] - 6s 2s/step - loss: 0.3362 - accuracy: 0.8476 - val_loss: 0.5122 - val_accuracy: 0.8000\n",
            "Epoch 19/300\n",
            "3/3 [==============================] - 6s 3s/step - loss: 0.5140 - accuracy: 0.7143 - val_loss: 0.6670 - val_accuracy: 0.6286\n",
            "Epoch 20/300\n",
            "3/3 [==============================] - 5s 2s/step - loss: 0.4363 - accuracy: 0.8000 - val_loss: 0.6901 - val_accuracy: 0.5429\n",
            "Epoch 21/300\n",
            "3/3 [==============================] - 6s 2s/step - loss: 0.5122 - accuracy: 0.7524 - val_loss: 0.5402 - val_accuracy: 0.8286\n",
            "Epoch 22/300\n",
            "3/3 [==============================] - 6s 2s/step - loss: 0.3039 - accuracy: 0.8762 - val_loss: 0.5084 - val_accuracy: 0.8286\n",
            "Epoch 23/300\n",
            "3/3 [==============================] - 6s 3s/step - loss: 0.4217 - accuracy: 0.7905 - val_loss: 0.5812 - val_accuracy: 0.8000\n",
            "Epoch 24/300\n",
            "3/3 [==============================] - 6s 2s/step - loss: 0.4774 - accuracy: 0.8000 - val_loss: 0.5412 - val_accuracy: 0.7714\n",
            "Epoch 25/300\n",
            "3/3 [==============================] - 6s 2s/step - loss: 0.3286 - accuracy: 0.8571 - val_loss: 0.6904 - val_accuracy: 0.6571\n",
            "Epoch 26/300\n",
            "3/3 [==============================] - 6s 2s/step - loss: 0.3428 - accuracy: 0.8375 - val_loss: 0.5944 - val_accuracy: 0.7429\n",
            "Epoch 27/300\n",
            "3/3 [==============================] - 6s 2s/step - loss: 0.3804 - accuracy: 0.8095 - val_loss: 0.5460 - val_accuracy: 0.7429\n",
            "Epoch 28/300\n",
            "3/3 [==============================] - 6s 3s/step - loss: 0.4229 - accuracy: 0.8000 - val_loss: 0.5687 - val_accuracy: 0.7143\n",
            "Epoch 29/300\n",
            "3/3 [==============================] - 6s 2s/step - loss: 0.3657 - accuracy: 0.8095 - val_loss: 0.5904 - val_accuracy: 0.7143\n",
            "Epoch 30/300\n",
            "3/3 [==============================] - 6s 2s/step - loss: 0.3357 - accuracy: 0.8286 - val_loss: 0.4130 - val_accuracy: 0.8286\n",
            "Epoch 31/300\n",
            "3/3 [==============================] - 5s 2s/step - loss: 0.2603 - accuracy: 0.9125 - val_loss: 0.3920 - val_accuracy: 0.8857\n",
            "Epoch 32/300\n",
            "3/3 [==============================] - 6s 2s/step - loss: 0.3931 - accuracy: 0.8250 - val_loss: 0.5756 - val_accuracy: 0.6857\n",
            "Epoch 33/300\n",
            "3/3 [==============================] - 6s 3s/step - loss: 0.2913 - accuracy: 0.8667 - val_loss: 0.5076 - val_accuracy: 0.8000\n",
            "Epoch 34/300\n",
            "3/3 [==============================] - 6s 2s/step - loss: 0.3208 - accuracy: 0.8571 - val_loss: 0.5298 - val_accuracy: 0.7714\n",
            "Epoch 35/300\n",
            "3/3 [==============================] - 6s 2s/step - loss: 0.3366 - accuracy: 0.8762 - val_loss: 0.5256 - val_accuracy: 0.7429\n",
            "Epoch 36/300\n",
            "3/3 [==============================] - 6s 3s/step - loss: 0.3129 - accuracy: 0.8667 - val_loss: 0.3965 - val_accuracy: 0.8286\n",
            "Epoch 37/300\n",
            "3/3 [==============================] - 6s 2s/step - loss: 0.3834 - accuracy: 0.8190 - val_loss: 0.5351 - val_accuracy: 0.7143\n",
            "Epoch 38/300\n",
            "3/3 [==============================] - 6s 2s/step - loss: 0.4289 - accuracy: 0.7714 - val_loss: 0.3396 - val_accuracy: 0.8571\n",
            "Epoch 39/300\n",
            "3/3 [==============================] - 6s 2s/step - loss: 0.3500 - accuracy: 0.8571 - val_loss: 0.5459 - val_accuracy: 0.7143\n",
            "Epoch 40/300\n",
            "3/3 [==============================] - 6s 2s/step - loss: 0.2963 - accuracy: 0.8857 - val_loss: 0.4131 - val_accuracy: 0.8000\n",
            "Epoch 41/300\n",
            "3/3 [==============================] - 6s 2s/step - loss: 0.2853 - accuracy: 0.9333 - val_loss: 0.5519 - val_accuracy: 0.8000\n",
            "Epoch 42/300\n",
            "3/3 [==============================] - 6s 3s/step - loss: 0.4415 - accuracy: 0.8095 - val_loss: 0.5482 - val_accuracy: 0.6857\n",
            "Epoch 43/300\n",
            "3/3 [==============================] - 6s 2s/step - loss: 0.3518 - accuracy: 0.8476 - val_loss: 0.4403 - val_accuracy: 0.8286\n",
            "Epoch 44/300\n",
            "3/3 [==============================] - 5s 2s/step - loss: 0.3650 - accuracy: 0.8125 - val_loss: 0.7100 - val_accuracy: 0.6571\n",
            "Epoch 45/300\n",
            "3/3 [==============================] - 5s 2s/step - loss: 0.3946 - accuracy: 0.8500 - val_loss: 0.5074 - val_accuracy: 0.7714\n",
            "Epoch 46/300\n",
            "3/3 [==============================] - 6s 2s/step - loss: 0.4202 - accuracy: 0.7905 - val_loss: 0.5672 - val_accuracy: 0.7429\n",
            "Epoch 47/300\n",
            "3/3 [==============================] - 6s 2s/step - loss: 0.2728 - accuracy: 0.8857 - val_loss: 0.5377 - val_accuracy: 0.7429\n",
            "Epoch 48/300\n",
            "3/3 [==============================] - 6s 2s/step - loss: 0.3140 - accuracy: 0.8667 - val_loss: 0.5874 - val_accuracy: 0.7429\n",
            "Epoch 49/300\n",
            "3/3 [==============================] - 6s 3s/step - loss: 0.3025 - accuracy: 0.8952 - val_loss: 0.5364 - val_accuracy: 0.8000\n",
            "Epoch 50/300\n",
            "3/3 [==============================] - 6s 2s/step - loss: 0.3494 - accuracy: 0.8381 - val_loss: 0.6243 - val_accuracy: 0.6286\n",
            "Epoch 51/300\n",
            "3/3 [==============================] - 6s 3s/step - loss: 0.2861 - accuracy: 0.8762 - val_loss: 0.6044 - val_accuracy: 0.7143\n",
            "Epoch 52/300\n",
            "3/3 [==============================] - 5s 2s/step - loss: 0.3336 - accuracy: 0.8375 - val_loss: 0.7517 - val_accuracy: 0.6571\n",
            "Epoch 53/300\n",
            "3/3 [==============================] - 6s 2s/step - loss: 0.4303 - accuracy: 0.8000 - val_loss: 0.6886 - val_accuracy: 0.6857\n",
            "Epoch 54/300\n",
            "3/3 [==============================] - 6s 3s/step - loss: 0.3187 - accuracy: 0.8857 - val_loss: 0.4131 - val_accuracy: 0.8571\n",
            "Epoch 55/300\n",
            "3/3 [==============================] - 6s 2s/step - loss: 0.2414 - accuracy: 0.9048 - val_loss: 0.7821 - val_accuracy: 0.5714\n",
            "Epoch 56/300\n",
            "3/3 [==============================] - 6s 2s/step - loss: 0.2079 - accuracy: 0.9048 - val_loss: 0.5661 - val_accuracy: 0.7429\n",
            "Epoch 57/300\n",
            "3/3 [==============================] - 6s 2s/step - loss: 0.3715 - accuracy: 0.8095 - val_loss: 0.6488 - val_accuracy: 0.7143\n",
            "Epoch 58/300\n",
            "3/3 [==============================] - 6s 2s/step - loss: 0.2368 - accuracy: 0.9143 - val_loss: 0.6656 - val_accuracy: 0.7714\n",
            "Epoch 59/300\n",
            "3/3 [==============================] - 6s 3s/step - loss: 0.2912 - accuracy: 0.8857 - val_loss: 0.7423 - val_accuracy: 0.7143\n",
            "Epoch 60/300\n",
            "3/3 [==============================] - 6s 2s/step - loss: 0.2858 - accuracy: 0.8762 - val_loss: 0.4416 - val_accuracy: 0.7714\n",
            "Epoch 61/300\n",
            "3/3 [==============================] - 6s 2s/step - loss: 0.2611 - accuracy: 0.8571 - val_loss: 0.4645 - val_accuracy: 0.7429\n",
            "Epoch 62/300\n",
            "3/3 [==============================] - 6s 2s/step - loss: 0.2467 - accuracy: 0.8857 - val_loss: 0.4930 - val_accuracy: 0.7429\n",
            "Epoch 63/300\n",
            "3/3 [==============================] - 6s 2s/step - loss: 0.2103 - accuracy: 0.9143 - val_loss: 0.4997 - val_accuracy: 0.8000\n",
            "Epoch 64/300\n",
            "3/3 [==============================] - 6s 2s/step - loss: 0.2187 - accuracy: 0.9238 - val_loss: 0.9539 - val_accuracy: 0.6571\n",
            "Epoch 65/300\n",
            "3/3 [==============================] - 6s 2s/step - loss: 0.2939 - accuracy: 0.8667 - val_loss: 0.3890 - val_accuracy: 0.8000\n",
            "Epoch 66/300\n",
            "3/3 [==============================] - 6s 2s/step - loss: 0.1763 - accuracy: 0.9333 - val_loss: 0.6980 - val_accuracy: 0.6571\n",
            "Epoch 67/300\n",
            "3/3 [==============================] - 6s 2s/step - loss: 0.2189 - accuracy: 0.9143 - val_loss: 0.5005 - val_accuracy: 0.8000\n",
            "Epoch 68/300\n",
            "3/3 [==============================] - 6s 2s/step - loss: 0.2315 - accuracy: 0.8857 - val_loss: 0.8942 - val_accuracy: 0.6000\n",
            "Epoch 69/300\n",
            "3/3 [==============================] - 6s 2s/step - loss: 0.3328 - accuracy: 0.8667 - val_loss: 0.7337 - val_accuracy: 0.7143\n",
            "Epoch 70/300\n",
            "3/3 [==============================] - 6s 2s/step - loss: 0.2112 - accuracy: 0.9143 - val_loss: 0.7719 - val_accuracy: 0.6571\n",
            "Epoch 71/300\n",
            "3/3 [==============================] - 6s 3s/step - loss: 0.2628 - accuracy: 0.8571 - val_loss: 0.7112 - val_accuracy: 0.6857\n",
            "Epoch 72/300\n",
            "3/3 [==============================] - 6s 2s/step - loss: 0.3350 - accuracy: 0.8571 - val_loss: 0.5481 - val_accuracy: 0.7714\n",
            "Epoch 73/300\n",
            "3/3 [==============================] - 6s 3s/step - loss: 0.2569 - accuracy: 0.8857 - val_loss: 0.7578 - val_accuracy: 0.6571\n",
            "Epoch 74/300\n",
            "3/3 [==============================] - 6s 3s/step - loss: 0.1827 - accuracy: 0.9333 - val_loss: 0.5361 - val_accuracy: 0.8000\n",
            "Epoch 75/300\n",
            "3/3 [==============================] - 6s 2s/step - loss: 0.2253 - accuracy: 0.9048 - val_loss: 0.6324 - val_accuracy: 0.6857\n",
            "Epoch 76/300\n",
            "3/3 [==============================] - 6s 2s/step - loss: 0.2989 - accuracy: 0.8857 - val_loss: 0.8196 - val_accuracy: 0.6286\n",
            "Epoch 77/300\n",
            "3/3 [==============================] - 6s 2s/step - loss: 0.2424 - accuracy: 0.9048 - val_loss: 0.5595 - val_accuracy: 0.7714\n",
            "Epoch 78/300\n",
            "3/3 [==============================] - 6s 2s/step - loss: 0.4384 - accuracy: 0.7905 - val_loss: 0.6030 - val_accuracy: 0.8000\n",
            "Epoch 79/300\n",
            "3/3 [==============================] - 6s 3s/step - loss: 0.3533 - accuracy: 0.8381 - val_loss: 0.5907 - val_accuracy: 0.7429\n",
            "Epoch 80/300\n",
            "3/3 [==============================] - 6s 3s/step - loss: 0.3008 - accuracy: 0.8762 - val_loss: 0.7120 - val_accuracy: 0.6286\n",
            "Epoch 81/300\n",
            "3/3 [==============================] - 6s 2s/step - loss: 0.2866 - accuracy: 0.8762 - val_loss: 0.6026 - val_accuracy: 0.7429\n",
            "Epoch 82/300\n",
            "3/3 [==============================] - 6s 2s/step - loss: 0.2630 - accuracy: 0.8952 - val_loss: 0.5809 - val_accuracy: 0.7143\n",
            "Epoch 83/300\n",
            "3/3 [==============================] - 6s 2s/step - loss: 0.2941 - accuracy: 0.8952 - val_loss: 0.7678 - val_accuracy: 0.6571\n",
            "Epoch 84/300\n",
            "3/3 [==============================] - 6s 2s/step - loss: 0.2229 - accuracy: 0.9250 - val_loss: 0.6145 - val_accuracy: 0.7143\n",
            "Epoch 85/300\n",
            "3/3 [==============================] - 5s 2s/step - loss: 0.2062 - accuracy: 0.9375 - val_loss: 0.6401 - val_accuracy: 0.6571\n",
            "Epoch 86/300\n",
            "3/3 [==============================] - 6s 2s/step - loss: 0.2444 - accuracy: 0.8857 - val_loss: 0.6996 - val_accuracy: 0.7429\n",
            "Epoch 87/300\n",
            "3/3 [==============================] - 6s 2s/step - loss: 0.2036 - accuracy: 0.9238 - val_loss: 0.5122 - val_accuracy: 0.7714\n",
            "Epoch 88/300\n",
            "3/3 [==============================] - 6s 3s/step - loss: 0.1785 - accuracy: 0.9238 - val_loss: 0.4568 - val_accuracy: 0.7714\n",
            "Epoch 89/300\n",
            "3/3 [==============================] - 6s 3s/step - loss: 0.2259 - accuracy: 0.9238 - val_loss: 0.5974 - val_accuracy: 0.7714\n",
            "Epoch 90/300\n",
            "3/3 [==============================] - 6s 2s/step - loss: 0.2472 - accuracy: 0.9048 - val_loss: 0.7386 - val_accuracy: 0.7143\n",
            "Epoch 91/300\n",
            "3/3 [==============================] - 6s 3s/step - loss: 0.2607 - accuracy: 0.8952 - val_loss: 0.5721 - val_accuracy: 0.7429\n",
            "Epoch 92/300\n",
            "3/3 [==============================] - 6s 2s/step - loss: 0.2859 - accuracy: 0.8857 - val_loss: 0.7561 - val_accuracy: 0.6857\n",
            "Epoch 93/300\n",
            "3/3 [==============================] - 6s 2s/step - loss: 0.2152 - accuracy: 0.9333 - val_loss: 0.6376 - val_accuracy: 0.7143\n",
            "Epoch 94/300\n",
            "3/3 [==============================] - 6s 2s/step - loss: 0.2347 - accuracy: 0.8857 - val_loss: 0.4889 - val_accuracy: 0.7714\n",
            "Epoch 95/300\n",
            "3/3 [==============================] - 6s 2s/step - loss: 0.2906 - accuracy: 0.8762 - val_loss: 0.5851 - val_accuracy: 0.7143\n",
            "Epoch 96/300\n",
            "3/3 [==============================] - 6s 2s/step - loss: 0.2077 - accuracy: 0.9048 - val_loss: 0.9959 - val_accuracy: 0.6000\n",
            "Epoch 97/300\n",
            "3/3 [==============================] - 6s 2s/step - loss: 0.3327 - accuracy: 0.8476 - val_loss: 0.4371 - val_accuracy: 0.7429\n",
            "Epoch 98/300\n",
            "3/3 [==============================] - 6s 2s/step - loss: 0.1613 - accuracy: 0.9143 - val_loss: 0.5353 - val_accuracy: 0.7429\n",
            "Epoch 99/300\n",
            "3/3 [==============================] - 5s 2s/step - loss: 0.1998 - accuracy: 0.9250 - val_loss: 0.5743 - val_accuracy: 0.8000\n",
            "Epoch 100/300\n",
            "3/3 [==============================] - 6s 3s/step - loss: 0.2077 - accuracy: 0.9333 - val_loss: 0.5689 - val_accuracy: 0.8000\n",
            "Epoch 101/300\n",
            "3/3 [==============================] - 6s 2s/step - loss: 0.2393 - accuracy: 0.9048 - val_loss: 0.4271 - val_accuracy: 0.8000\n",
            "Epoch 102/300\n",
            "3/3 [==============================] - 6s 2s/step - loss: 0.1877 - accuracy: 0.9524 - val_loss: 0.9091 - val_accuracy: 0.5714\n",
            "Epoch 103/300\n",
            "3/3 [==============================] - 6s 2s/step - loss: 0.1802 - accuracy: 0.9619 - val_loss: 0.6304 - val_accuracy: 0.7143\n",
            "Epoch 104/300\n",
            "3/3 [==============================] - 6s 2s/step - loss: 0.1933 - accuracy: 0.9429 - val_loss: 0.5271 - val_accuracy: 0.8286\n",
            "Epoch 105/300\n",
            "3/3 [==============================] - 6s 2s/step - loss: 0.2039 - accuracy: 0.9048 - val_loss: 0.7007 - val_accuracy: 0.6857\n",
            "Epoch 106/300\n",
            "3/3 [==============================] - 6s 2s/step - loss: 0.1776 - accuracy: 0.9238 - val_loss: 0.7794 - val_accuracy: 0.5429\n",
            "Epoch 107/300\n",
            "3/3 [==============================] - 6s 3s/step - loss: 0.2512 - accuracy: 0.9048 - val_loss: 0.5187 - val_accuracy: 0.7143\n",
            "Epoch 108/300\n",
            "3/3 [==============================] - 5s 2s/step - loss: 0.2560 - accuracy: 0.9000 - val_loss: 0.7144 - val_accuracy: 0.6857\n",
            "Epoch 109/300\n",
            "3/3 [==============================] - 6s 2s/step - loss: 0.2001 - accuracy: 0.9143 - val_loss: 0.5541 - val_accuracy: 0.7143\n",
            "Epoch 110/300\n",
            "3/3 [==============================] - 6s 3s/step - loss: 0.1818 - accuracy: 0.9143 - val_loss: 0.5365 - val_accuracy: 0.8000\n",
            "Epoch 111/300\n",
            "3/3 [==============================] - 6s 2s/step - loss: 0.2181 - accuracy: 0.9333 - val_loss: 0.5364 - val_accuracy: 0.7429\n",
            "Epoch 112/300\n",
            "3/3 [==============================] - 6s 2s/step - loss: 0.2713 - accuracy: 0.8952 - val_loss: 0.6192 - val_accuracy: 0.7714\n",
            "Epoch 113/300\n",
            "3/3 [==============================] - 6s 2s/step - loss: 0.1654 - accuracy: 0.9524 - val_loss: 0.6861 - val_accuracy: 0.7429\n",
            "Epoch 114/300\n",
            "3/3 [==============================] - 6s 2s/step - loss: 0.2410 - accuracy: 0.9143 - val_loss: 0.5718 - val_accuracy: 0.7714\n",
            "Epoch 115/300\n",
            "3/3 [==============================] - 6s 2s/step - loss: 0.2157 - accuracy: 0.9524 - val_loss: 0.4502 - val_accuracy: 0.7714\n",
            "Epoch 116/300\n",
            "3/3 [==============================] - 5s 2s/step - loss: 0.1313 - accuracy: 0.9750 - val_loss: 0.5523 - val_accuracy: 0.7429\n",
            "Epoch 117/300\n",
            "3/3 [==============================] - 6s 2s/step - loss: 0.2299 - accuracy: 0.8857 - val_loss: 0.7345 - val_accuracy: 0.7429\n",
            "Epoch 118/300\n",
            "3/3 [==============================] - 6s 2s/step - loss: 0.2335 - accuracy: 0.8857 - val_loss: 0.3022 - val_accuracy: 0.8857\n",
            "Epoch 119/300\n",
            "3/3 [==============================] - 6s 2s/step - loss: 0.1370 - accuracy: 0.9429 - val_loss: 0.5511 - val_accuracy: 0.7143\n",
            "Epoch 120/300\n",
            "3/3 [==============================] - 6s 2s/step - loss: 0.2341 - accuracy: 0.9143 - val_loss: 0.5872 - val_accuracy: 0.7143\n",
            "Epoch 121/300\n",
            "3/3 [==============================] - 6s 2s/step - loss: 0.1785 - accuracy: 0.9429 - val_loss: 0.4561 - val_accuracy: 0.7429\n",
            "Epoch 122/300\n",
            "3/3 [==============================] - 5s 2s/step - loss: 0.1559 - accuracy: 0.9250 - val_loss: 0.5460 - val_accuracy: 0.7429\n",
            "Epoch 123/300\n",
            "3/3 [==============================] - 7s 3s/step - loss: 0.2071 - accuracy: 0.9429 - val_loss: 0.6867 - val_accuracy: 0.6571\n",
            "Epoch 124/300\n",
            "3/3 [==============================] - 6s 2s/step - loss: 0.1257 - accuracy: 0.9619 - val_loss: 0.6011 - val_accuracy: 0.7429\n",
            "Epoch 125/300\n",
            "3/3 [==============================] - 6s 3s/step - loss: 0.1473 - accuracy: 0.9619 - val_loss: 0.5601 - val_accuracy: 0.7429\n",
            "Epoch 126/300\n",
            "3/3 [==============================] - 6s 2s/step - loss: 0.1956 - accuracy: 0.9238 - val_loss: 0.6464 - val_accuracy: 0.8000\n",
            "Epoch 127/300\n",
            "3/3 [==============================] - 5s 2s/step - loss: 0.1842 - accuracy: 0.9238 - val_loss: 0.7088 - val_accuracy: 0.7429\n",
            "Epoch 128/300\n",
            "3/3 [==============================] - 6s 2s/step - loss: 0.1620 - accuracy: 0.9333 - val_loss: 0.5120 - val_accuracy: 0.8000\n",
            "Epoch 129/300\n",
            "3/3 [==============================] - 6s 2s/step - loss: 0.1504 - accuracy: 0.9524 - val_loss: 0.7433 - val_accuracy: 0.6857\n",
            "Epoch 130/300\n",
            "3/3 [==============================] - 5s 2s/step - loss: 0.1339 - accuracy: 0.9333 - val_loss: 0.5916 - val_accuracy: 0.6286\n",
            "Epoch 131/300\n",
            "3/3 [==============================] - 6s 2s/step - loss: 0.1530 - accuracy: 0.9619 - val_loss: 0.7011 - val_accuracy: 0.7143\n",
            "Epoch 132/300\n",
            "3/3 [==============================] - 6s 2s/step - loss: 0.2278 - accuracy: 0.9238 - val_loss: 0.6171 - val_accuracy: 0.7714\n",
            "Epoch 133/300\n",
            "3/3 [==============================] - 6s 2s/step - loss: 0.1862 - accuracy: 0.9238 - val_loss: 0.5633 - val_accuracy: 0.8000\n",
            "Epoch 134/300\n",
            "3/3 [==============================] - 6s 2s/step - loss: 0.2313 - accuracy: 0.9143 - val_loss: 0.6947 - val_accuracy: 0.7429\n",
            "Epoch 135/300\n",
            "3/3 [==============================] - 6s 2s/step - loss: 0.1446 - accuracy: 0.9333 - val_loss: 0.7129 - val_accuracy: 0.7143\n",
            "Epoch 136/300\n",
            "3/3 [==============================] - 6s 3s/step - loss: 0.2078 - accuracy: 0.9143 - val_loss: 0.9860 - val_accuracy: 0.6000\n",
            "Epoch 137/300\n",
            "3/3 [==============================] - 6s 2s/step - loss: 0.2072 - accuracy: 0.9143 - val_loss: 0.7631 - val_accuracy: 0.6857\n",
            "Epoch 138/300\n",
            "3/3 [==============================] - 6s 2s/step - loss: 0.1285 - accuracy: 0.9524 - val_loss: 0.6949 - val_accuracy: 0.7714\n",
            "Epoch 139/300\n",
            "3/3 [==============================] - 6s 3s/step - loss: 0.2258 - accuracy: 0.8952 - val_loss: 0.8272 - val_accuracy: 0.6286\n",
            "Epoch 140/300\n",
            "3/3 [==============================] - 6s 2s/step - loss: 0.1486 - accuracy: 0.9524 - val_loss: 0.6013 - val_accuracy: 0.6857\n",
            "Epoch 141/300\n",
            "3/3 [==============================] - 6s 3s/step - loss: 0.1224 - accuracy: 0.9524 - val_loss: 0.6274 - val_accuracy: 0.7429\n",
            "Epoch 142/300\n",
            "3/3 [==============================] - 6s 3s/step - loss: 0.1684 - accuracy: 0.9619 - val_loss: 0.3255 - val_accuracy: 0.8571\n",
            "Epoch 143/300\n",
            "3/3 [==============================] - 6s 2s/step - loss: 0.1763 - accuracy: 0.9143 - val_loss: 0.4578 - val_accuracy: 0.7429\n",
            "Epoch 144/300\n",
            "3/3 [==============================] - 6s 3s/step - loss: 0.1626 - accuracy: 0.9375 - val_loss: 0.6602 - val_accuracy: 0.7714\n",
            "Epoch 145/300\n",
            "3/3 [==============================] - 6s 2s/step - loss: 0.1765 - accuracy: 0.9238 - val_loss: 0.5899 - val_accuracy: 0.6286\n",
            "Epoch 146/300\n",
            "3/3 [==============================] - 6s 2s/step - loss: 0.1161 - accuracy: 0.9429 - val_loss: 0.6123 - val_accuracy: 0.7714\n",
            "Epoch 147/300\n",
            "3/3 [==============================] - 6s 3s/step - loss: 0.1518 - accuracy: 0.9429 - val_loss: 0.5812 - val_accuracy: 0.7429\n",
            "Epoch 148/300\n",
            "3/3 [==============================] - 6s 2s/step - loss: 0.0967 - accuracy: 0.9810 - val_loss: 0.5744 - val_accuracy: 0.7714\n",
            "Epoch 149/300\n",
            "3/3 [==============================] - 6s 2s/step - loss: 0.1328 - accuracy: 0.9619 - val_loss: 0.4814 - val_accuracy: 0.8000\n",
            "Epoch 150/300\n",
            "3/3 [==============================] - 6s 2s/step - loss: 0.1581 - accuracy: 0.9375 - val_loss: 0.4221 - val_accuracy: 0.7714\n",
            "Epoch 151/300\n",
            "3/3 [==============================] - 6s 2s/step - loss: 0.1020 - accuracy: 0.9810 - val_loss: 0.3836 - val_accuracy: 0.8286\n",
            "Epoch 152/300\n",
            "3/3 [==============================] - 5s 3s/step - loss: 0.0700 - accuracy: 0.9875 - val_loss: 1.0730 - val_accuracy: 0.6857\n",
            "Epoch 153/300\n",
            "3/3 [==============================] - 6s 2s/step - loss: 0.2346 - accuracy: 0.9048 - val_loss: 0.4568 - val_accuracy: 0.7714\n",
            "Epoch 154/300\n",
            "3/3 [==============================] - 6s 2s/step - loss: 0.2747 - accuracy: 0.9238 - val_loss: 0.6996 - val_accuracy: 0.7429\n",
            "Epoch 155/300\n",
            "3/3 [==============================] - 6s 2s/step - loss: 0.2388 - accuracy: 0.9143 - val_loss: 0.6963 - val_accuracy: 0.7143\n",
            "Epoch 156/300\n",
            "3/3 [==============================] - 6s 3s/step - loss: 0.2146 - accuracy: 0.9333 - val_loss: 0.5214 - val_accuracy: 0.7714\n",
            "Epoch 157/300\n",
            "3/3 [==============================] - 6s 3s/step - loss: 0.2127 - accuracy: 0.9333 - val_loss: 0.9087 - val_accuracy: 0.6857\n",
            "Epoch 158/300\n",
            "3/3 [==============================] - 6s 2s/step - loss: 0.1679 - accuracy: 0.9714 - val_loss: 0.2963 - val_accuracy: 0.8857\n",
            "Epoch 159/300\n",
            "3/3 [==============================] - 6s 2s/step - loss: 0.1318 - accuracy: 0.9810 - val_loss: 0.4221 - val_accuracy: 0.8571\n",
            "Epoch 160/300\n",
            "3/3 [==============================] - 5s 2s/step - loss: 0.1624 - accuracy: 0.9375 - val_loss: 0.6201 - val_accuracy: 0.7714\n",
            "Epoch 161/300\n",
            "3/3 [==============================] - 6s 2s/step - loss: 0.1532 - accuracy: 0.9524 - val_loss: 0.6067 - val_accuracy: 0.7429\n",
            "Epoch 162/300\n",
            "3/3 [==============================] - 6s 2s/step - loss: 0.1290 - accuracy: 0.9524 - val_loss: 0.7316 - val_accuracy: 0.6857\n",
            "Epoch 163/300\n",
            "3/3 [==============================] - 6s 2s/step - loss: 0.1071 - accuracy: 0.9714 - val_loss: 0.5350 - val_accuracy: 0.7429\n",
            "Epoch 164/300\n",
            "3/3 [==============================] - 6s 2s/step - loss: 0.1100 - accuracy: 0.9524 - val_loss: 0.3841 - val_accuracy: 0.8286\n",
            "Epoch 165/300\n",
            "3/3 [==============================] - 6s 2s/step - loss: 0.1203 - accuracy: 0.9524 - val_loss: 0.5603 - val_accuracy: 0.8571\n",
            "Epoch 166/300\n",
            "3/3 [==============================] - 6s 3s/step - loss: 0.1694 - accuracy: 0.9333 - val_loss: 0.6637 - val_accuracy: 0.7714\n",
            "Epoch 167/300\n",
            "3/3 [==============================] - 6s 2s/step - loss: 0.1979 - accuracy: 0.9238 - val_loss: 0.4277 - val_accuracy: 0.7714\n",
            "Epoch 168/300\n",
            "3/3 [==============================] - 6s 2s/step - loss: 0.1899 - accuracy: 0.9333 - val_loss: 0.4004 - val_accuracy: 0.8857\n",
            "Epoch 169/300\n",
            "3/3 [==============================] - 6s 3s/step - loss: 0.1731 - accuracy: 0.9238 - val_loss: 0.9312 - val_accuracy: 0.6000\n",
            "Epoch 170/300\n",
            "3/3 [==============================] - 6s 2s/step - loss: 0.1180 - accuracy: 0.9524 - val_loss: 0.5383 - val_accuracy: 0.7143\n",
            "Epoch 171/300\n",
            "3/3 [==============================] - 6s 2s/step - loss: 0.1087 - accuracy: 0.9714 - val_loss: 0.7511 - val_accuracy: 0.7143\n",
            "Epoch 172/300\n",
            "3/3 [==============================] - 6s 2s/step - loss: 0.1418 - accuracy: 0.9429 - val_loss: 0.3615 - val_accuracy: 0.8286\n",
            "Epoch 173/300\n",
            "3/3 [==============================] - 6s 2s/step - loss: 0.1221 - accuracy: 0.9524 - val_loss: 0.6999 - val_accuracy: 0.6857\n",
            "Epoch 174/300\n",
            "3/3 [==============================] - 5s 2s/step - loss: 0.1759 - accuracy: 0.9238 - val_loss: 0.4268 - val_accuracy: 0.7714\n",
            "Epoch 175/300\n",
            "3/3 [==============================] - 6s 2s/step - loss: 0.1426 - accuracy: 0.9429 - val_loss: 1.0033 - val_accuracy: 0.6286\n",
            "Epoch 176/300\n",
            "3/3 [==============================] - 6s 2s/step - loss: 0.1046 - accuracy: 0.9619 - val_loss: 0.4695 - val_accuracy: 0.7429\n",
            "Epoch 177/300\n",
            "3/3 [==============================] - 6s 2s/step - loss: 0.1465 - accuracy: 0.9524 - val_loss: 0.5906 - val_accuracy: 0.7429\n",
            "Epoch 178/300\n",
            "3/3 [==============================] - 6s 2s/step - loss: 0.1383 - accuracy: 0.9429 - val_loss: 0.5828 - val_accuracy: 0.8286\n",
            "Epoch 179/300\n",
            "3/3 [==============================] - 6s 2s/step - loss: 0.1554 - accuracy: 0.9333 - val_loss: 0.6634 - val_accuracy: 0.6571\n",
            "Epoch 180/300\n",
            "3/3 [==============================] - 6s 2s/step - loss: 0.0846 - accuracy: 0.9714 - val_loss: 0.6115 - val_accuracy: 0.7714\n",
            "Epoch 181/300\n",
            "3/3 [==============================] - 6s 3s/step - loss: 0.1214 - accuracy: 0.9714 - val_loss: 0.5768 - val_accuracy: 0.7714\n",
            "Epoch 182/300\n",
            "3/3 [==============================] - 6s 2s/step - loss: 0.2993 - accuracy: 0.9048 - val_loss: 0.9200 - val_accuracy: 0.7143\n",
            "Epoch 183/300\n",
            "3/3 [==============================] - 6s 2s/step - loss: 0.1190 - accuracy: 0.9714 - val_loss: 0.6561 - val_accuracy: 0.7143\n",
            "Epoch 184/300\n",
            "3/3 [==============================] - 6s 2s/step - loss: 0.1001 - accuracy: 0.9714 - val_loss: 0.8437 - val_accuracy: 0.6286\n",
            "Epoch 185/300\n",
            "3/3 [==============================] - 6s 2s/step - loss: 0.1020 - accuracy: 0.9619 - val_loss: 1.0218 - val_accuracy: 0.6286\n",
            "Epoch 186/300\n",
            "3/3 [==============================] - 6s 2s/step - loss: 0.1640 - accuracy: 0.9333 - val_loss: 0.3809 - val_accuracy: 0.7714\n",
            "Epoch 187/300\n",
            "3/3 [==============================] - 6s 2s/step - loss: 0.1386 - accuracy: 0.9619 - val_loss: 0.5815 - val_accuracy: 0.8000\n",
            "Epoch 188/300\n",
            "3/3 [==============================] - 6s 2s/step - loss: 0.1078 - accuracy: 0.9524 - val_loss: 0.5794 - val_accuracy: 0.7714\n",
            "Epoch 189/300\n",
            "3/3 [==============================] - 6s 3s/step - loss: 0.1231 - accuracy: 0.9714 - val_loss: 0.4586 - val_accuracy: 0.8286\n",
            "Epoch 190/300\n",
            "3/3 [==============================] - 6s 2s/step - loss: 0.1695 - accuracy: 0.9619 - val_loss: 0.7265 - val_accuracy: 0.6857\n",
            "Epoch 191/300\n",
            "3/3 [==============================] - 6s 2s/step - loss: 0.1078 - accuracy: 0.9619 - val_loss: 0.5514 - val_accuracy: 0.7714\n",
            "Epoch 192/300\n",
            "3/3 [==============================] - 5s 2s/step - loss: 0.0943 - accuracy: 0.9750 - val_loss: 0.7772 - val_accuracy: 0.7714\n",
            "Epoch 193/300\n",
            "3/3 [==============================] - 6s 2s/step - loss: 0.1517 - accuracy: 0.9429 - val_loss: 0.9589 - val_accuracy: 0.5714\n",
            "Epoch 194/300\n",
            "3/3 [==============================] - 6s 2s/step - loss: 0.1252 - accuracy: 0.9524 - val_loss: 0.7534 - val_accuracy: 0.6857\n",
            "Epoch 195/300\n",
            "3/3 [==============================] - 6s 2s/step - loss: 0.1734 - accuracy: 0.9333 - val_loss: 0.6518 - val_accuracy: 0.7143\n",
            "Epoch 196/300\n",
            "3/3 [==============================] - 6s 2s/step - loss: 0.1713 - accuracy: 0.9238 - val_loss: 0.4955 - val_accuracy: 0.8000\n",
            "Epoch 197/300\n",
            "3/3 [==============================] - 6s 2s/step - loss: 0.1221 - accuracy: 0.9429 - val_loss: 1.1503 - val_accuracy: 0.6571\n",
            "Epoch 198/300\n",
            "3/3 [==============================] - 6s 2s/step - loss: 0.1601 - accuracy: 0.9429 - val_loss: 0.4869 - val_accuracy: 0.7714\n",
            "Epoch 199/300\n",
            "3/3 [==============================] - 6s 2s/step - loss: 0.1974 - accuracy: 0.9429 - val_loss: 0.5155 - val_accuracy: 0.8286\n",
            "Epoch 200/300\n",
            "3/3 [==============================] - 6s 2s/step - loss: 0.0867 - accuracy: 0.9905 - val_loss: 0.4388 - val_accuracy: 0.8286\n",
            "Epoch 201/300\n",
            "3/3 [==============================] - 6s 2s/step - loss: 0.1824 - accuracy: 0.9238 - val_loss: 0.5540 - val_accuracy: 0.8286\n",
            "Epoch 202/300\n",
            "3/3 [==============================] - 6s 2s/step - loss: 0.1050 - accuracy: 0.9714 - val_loss: 0.7661 - val_accuracy: 0.7429\n",
            "Epoch 203/300\n",
            "3/3 [==============================] - 6s 2s/step - loss: 0.1451 - accuracy: 0.9619 - val_loss: 0.7284 - val_accuracy: 0.6286\n",
            "Epoch 204/300\n",
            "3/3 [==============================] - 6s 3s/step - loss: 0.1312 - accuracy: 0.9429 - val_loss: 0.5711 - val_accuracy: 0.7714\n",
            "Epoch 205/300\n",
            "3/3 [==============================] - 6s 2s/step - loss: 0.1169 - accuracy: 0.9524 - val_loss: 0.7166 - val_accuracy: 0.6857\n",
            "Epoch 206/300\n",
            "3/3 [==============================] - 6s 2s/step - loss: 0.0795 - accuracy: 0.9619 - val_loss: 0.6264 - val_accuracy: 0.7429\n",
            "Epoch 207/300\n",
            "3/3 [==============================] - 6s 2s/step - loss: 0.1253 - accuracy: 0.9524 - val_loss: 0.4622 - val_accuracy: 0.8286\n",
            "Epoch 208/300\n",
            "3/3 [==============================] - 5s 2s/step - loss: 0.1194 - accuracy: 0.9750 - val_loss: 0.7935 - val_accuracy: 0.6571\n",
            "Epoch 209/300\n",
            "3/3 [==============================] - 6s 2s/step - loss: 0.0952 - accuracy: 0.9810 - val_loss: 0.5841 - val_accuracy: 0.7143\n",
            "Epoch 210/300\n",
            "3/3 [==============================] - 5s 2s/step - loss: 0.1000 - accuracy: 0.9625 - val_loss: 0.9350 - val_accuracy: 0.6571\n",
            "Epoch 211/300\n",
            "3/3 [==============================] - 5s 2s/step - loss: 0.0969 - accuracy: 0.9250 - val_loss: 0.7649 - val_accuracy: 0.6286\n",
            "Epoch 212/300\n",
            "3/3 [==============================] - 6s 2s/step - loss: 0.0951 - accuracy: 0.9714 - val_loss: 0.5570 - val_accuracy: 0.8000\n",
            "Epoch 213/300\n",
            "3/3 [==============================] - 6s 2s/step - loss: 0.0817 - accuracy: 0.9810 - val_loss: 0.7833 - val_accuracy: 0.6571\n",
            "Epoch 214/300\n",
            "3/3 [==============================] - 6s 2s/step - loss: 0.1357 - accuracy: 0.9238 - val_loss: 0.7739 - val_accuracy: 0.6857\n",
            "Epoch 215/300\n",
            "3/3 [==============================] - 6s 2s/step - loss: 0.1460 - accuracy: 0.9429 - val_loss: 0.7395 - val_accuracy: 0.7143\n",
            "Epoch 216/300\n",
            "3/3 [==============================] - 6s 2s/step - loss: 0.0726 - accuracy: 0.9905 - val_loss: 0.9811 - val_accuracy: 0.6571\n",
            "Epoch 217/300\n",
            "3/3 [==============================] - 6s 2s/step - loss: 0.1543 - accuracy: 0.9333 - val_loss: 0.6723 - val_accuracy: 0.8000\n",
            "Epoch 218/300\n",
            "3/3 [==============================] - 6s 2s/step - loss: 0.0962 - accuracy: 0.9810 - val_loss: 0.8404 - val_accuracy: 0.6857\n",
            "Epoch 219/300\n",
            "3/3 [==============================] - 6s 2s/step - loss: 0.0781 - accuracy: 0.9619 - val_loss: 1.0101 - val_accuracy: 0.6286\n",
            "Epoch 220/300\n",
            "3/3 [==============================] - 6s 2s/step - loss: 0.1212 - accuracy: 0.9619 - val_loss: 0.8343 - val_accuracy: 0.7143\n",
            "Epoch 221/300\n",
            "3/3 [==============================] - 6s 3s/step - loss: 0.0835 - accuracy: 0.9714 - val_loss: 0.5812 - val_accuracy: 0.7714\n",
            "Epoch 222/300\n",
            "3/3 [==============================] - 6s 2s/step - loss: 0.0932 - accuracy: 0.9524 - val_loss: 0.7731 - val_accuracy: 0.7429\n",
            "Epoch 223/300\n",
            "3/3 [==============================] - 6s 3s/step - loss: 0.1003 - accuracy: 0.9810 - val_loss: 0.4532 - val_accuracy: 0.8000\n",
            "Epoch 224/300\n",
            "3/3 [==============================] - 6s 3s/step - loss: 0.1370 - accuracy: 0.9524 - val_loss: 0.8787 - val_accuracy: 0.6857\n",
            "Epoch 225/300\n",
            "3/3 [==============================] - 6s 2s/step - loss: 0.1123 - accuracy: 0.9375 - val_loss: 0.4146 - val_accuracy: 0.8286\n",
            "Epoch 226/300\n",
            "3/3 [==============================] - 6s 2s/step - loss: 0.0753 - accuracy: 0.9810 - val_loss: 1.2616 - val_accuracy: 0.6000\n",
            "Epoch 227/300\n",
            "3/3 [==============================] - 6s 3s/step - loss: 0.0723 - accuracy: 0.9714 - val_loss: 0.5206 - val_accuracy: 0.7143\n",
            "Epoch 228/300\n",
            "3/3 [==============================] - 6s 2s/step - loss: 0.1138 - accuracy: 0.9429 - val_loss: 0.6663 - val_accuracy: 0.6857\n",
            "Epoch 229/300\n",
            "3/3 [==============================] - 6s 2s/step - loss: 0.1104 - accuracy: 0.9524 - val_loss: 0.5719 - val_accuracy: 0.6857\n",
            "Epoch 230/300\n",
            "3/3 [==============================] - 6s 2s/step - loss: 0.1011 - accuracy: 0.9619 - val_loss: 0.8183 - val_accuracy: 0.6571\n",
            "Epoch 231/300\n",
            "3/3 [==============================] - 6s 3s/step - loss: 0.1407 - accuracy: 0.9619 - val_loss: 0.2521 - val_accuracy: 0.8857\n",
            "Epoch 232/300\n",
            "3/3 [==============================] - 6s 3s/step - loss: 0.1559 - accuracy: 0.9238 - val_loss: 0.4936 - val_accuracy: 0.8286\n",
            "Epoch 233/300\n",
            "3/3 [==============================] - 6s 2s/step - loss: 0.1456 - accuracy: 0.9429 - val_loss: 0.9087 - val_accuracy: 0.6857\n",
            "Epoch 234/300\n",
            "3/3 [==============================] - 5s 2s/step - loss: 0.0422 - accuracy: 1.0000 - val_loss: 0.5829 - val_accuracy: 0.8571\n",
            "Epoch 235/300\n",
            "3/3 [==============================] - 6s 2s/step - loss: 0.1291 - accuracy: 0.9524 - val_loss: 0.9683 - val_accuracy: 0.7143\n",
            "Epoch 236/300\n",
            "3/3 [==============================] - 5s 2s/step - loss: 0.0640 - accuracy: 0.9750 - val_loss: 1.0384 - val_accuracy: 0.6000\n",
            "Epoch 237/300\n",
            "3/3 [==============================] - 6s 3s/step - loss: 0.0646 - accuracy: 0.9905 - val_loss: 0.7266 - val_accuracy: 0.7429\n",
            "Epoch 238/300\n",
            "3/3 [==============================] - 6s 2s/step - loss: 0.0719 - accuracy: 0.9810 - val_loss: 0.6527 - val_accuracy: 0.7714\n",
            "Epoch 239/300\n",
            "3/3 [==============================] - 6s 2s/step - loss: 0.0731 - accuracy: 0.9714 - val_loss: 0.5770 - val_accuracy: 0.6857\n",
            "Epoch 240/300\n",
            "3/3 [==============================] - 6s 2s/step - loss: 0.1311 - accuracy: 0.9524 - val_loss: 0.9021 - val_accuracy: 0.5714\n",
            "Epoch 241/300\n",
            "3/3 [==============================] - 6s 2s/step - loss: 0.1206 - accuracy: 0.9524 - val_loss: 0.8072 - val_accuracy: 0.7714\n",
            "Epoch 242/300\n",
            "3/3 [==============================] - 6s 2s/step - loss: 0.1320 - accuracy: 0.9333 - val_loss: 0.7020 - val_accuracy: 0.8000\n",
            "Epoch 243/300\n",
            "3/3 [==============================] - 6s 2s/step - loss: 0.1020 - accuracy: 0.9810 - val_loss: 0.8227 - val_accuracy: 0.6286\n",
            "Epoch 244/300\n",
            "3/3 [==============================] - 6s 3s/step - loss: 0.1072 - accuracy: 0.9619 - val_loss: 0.7639 - val_accuracy: 0.6571\n",
            "Epoch 245/300\n",
            "3/3 [==============================] - 6s 2s/step - loss: 0.0921 - accuracy: 0.9619 - val_loss: 0.6549 - val_accuracy: 0.7714\n",
            "Epoch 246/300\n",
            "3/3 [==============================] - 6s 2s/step - loss: 0.0606 - accuracy: 0.9905 - val_loss: 0.9237 - val_accuracy: 0.7143\n",
            "Epoch 247/300\n",
            "3/3 [==============================] - 6s 2s/step - loss: 0.1350 - accuracy: 0.9619 - val_loss: 0.7298 - val_accuracy: 0.6000\n",
            "Epoch 248/300\n",
            "3/3 [==============================] - 6s 2s/step - loss: 0.1276 - accuracy: 0.9524 - val_loss: 1.1833 - val_accuracy: 0.4857\n",
            "Epoch 249/300\n",
            "3/3 [==============================] - 6s 2s/step - loss: 0.1219 - accuracy: 0.9619 - val_loss: 1.0053 - val_accuracy: 0.6571\n",
            "Epoch 250/300\n",
            "3/3 [==============================] - 6s 3s/step - loss: 0.0858 - accuracy: 0.9714 - val_loss: 0.6897 - val_accuracy: 0.7714\n",
            "Epoch 251/300\n",
            "3/3 [==============================] - 6s 3s/step - loss: 0.1105 - accuracy: 0.9524 - val_loss: 0.6506 - val_accuracy: 0.7714\n",
            "Epoch 252/300\n",
            "3/3 [==============================] - 6s 2s/step - loss: 0.0695 - accuracy: 0.9905 - val_loss: 0.8087 - val_accuracy: 0.6857\n",
            "Epoch 253/300\n",
            "3/3 [==============================] - 6s 3s/step - loss: 0.1046 - accuracy: 0.9905 - val_loss: 0.6775 - val_accuracy: 0.7429\n",
            "Epoch 254/300\n",
            "3/3 [==============================] - 6s 2s/step - loss: 0.0797 - accuracy: 0.9714 - val_loss: 0.9300 - val_accuracy: 0.6286\n",
            "Epoch 255/300\n",
            "3/3 [==============================] - 6s 3s/step - loss: 0.0720 - accuracy: 0.9810 - val_loss: 0.6015 - val_accuracy: 0.6857\n",
            "Epoch 256/300\n",
            "3/3 [==============================] - 6s 2s/step - loss: 0.0636 - accuracy: 0.9810 - val_loss: 0.8711 - val_accuracy: 0.6857\n",
            "Epoch 257/300\n",
            "3/3 [==============================] - 6s 2s/step - loss: 0.0564 - accuracy: 0.9810 - val_loss: 0.4764 - val_accuracy: 0.8000\n",
            "Epoch 258/300\n",
            "3/3 [==============================] - 6s 3s/step - loss: 0.0916 - accuracy: 0.9714 - val_loss: 0.5986 - val_accuracy: 0.7714\n",
            "Epoch 259/300\n",
            "3/3 [==============================] - 6s 3s/step - loss: 0.0562 - accuracy: 1.0000 - val_loss: 0.6983 - val_accuracy: 0.7714\n",
            "Epoch 260/300\n",
            "3/3 [==============================] - 6s 2s/step - loss: 0.0975 - accuracy: 0.9619 - val_loss: 0.9389 - val_accuracy: 0.6571\n",
            "Epoch 261/300\n",
            "3/3 [==============================] - 6s 2s/step - loss: 0.0692 - accuracy: 0.9810 - val_loss: 0.7599 - val_accuracy: 0.7714\n",
            "Epoch 262/300\n",
            "3/3 [==============================] - 6s 3s/step - loss: 0.0617 - accuracy: 0.9714 - val_loss: 0.5010 - val_accuracy: 0.8857\n",
            "Epoch 263/300\n",
            "3/3 [==============================] - 6s 3s/step - loss: 0.0838 - accuracy: 0.9714 - val_loss: 1.0667 - val_accuracy: 0.7143\n",
            "Epoch 264/300\n",
            "3/3 [==============================] - 6s 2s/step - loss: 0.0652 - accuracy: 0.9810 - val_loss: 0.5885 - val_accuracy: 0.7143\n",
            "Epoch 265/300\n",
            "3/3 [==============================] - 6s 2s/step - loss: 0.1068 - accuracy: 0.9619 - val_loss: 0.3044 - val_accuracy: 0.8571\n",
            "Epoch 266/300\n",
            "3/3 [==============================] - 6s 2s/step - loss: 0.0914 - accuracy: 0.9524 - val_loss: 0.9592 - val_accuracy: 0.6857\n",
            "Epoch 267/300\n",
            "3/3 [==============================] - 5s 2s/step - loss: 0.0643 - accuracy: 0.9625 - val_loss: 0.4689 - val_accuracy: 0.7714\n",
            "Epoch 268/300\n",
            "3/3 [==============================] - 6s 2s/step - loss: 0.0636 - accuracy: 0.9810 - val_loss: 0.5802 - val_accuracy: 0.8286\n",
            "Epoch 269/300\n",
            "3/3 [==============================] - 6s 2s/step - loss: 0.0657 - accuracy: 0.9810 - val_loss: 0.6793 - val_accuracy: 0.7143\n",
            "Epoch 270/300\n",
            "3/3 [==============================] - 5s 2s/step - loss: 0.0821 - accuracy: 0.9750 - val_loss: 0.6050 - val_accuracy: 0.7429\n",
            "Epoch 271/300\n",
            "3/3 [==============================] - 6s 2s/step - loss: 0.0726 - accuracy: 0.9714 - val_loss: 1.2776 - val_accuracy: 0.5429\n",
            "Epoch 272/300\n",
            "3/3 [==============================] - 6s 2s/step - loss: 0.0658 - accuracy: 0.9810 - val_loss: 0.7067 - val_accuracy: 0.7143\n",
            "Epoch 273/300\n",
            "3/3 [==============================] - 5s 2s/step - loss: 0.1520 - accuracy: 0.9000 - val_loss: 0.9170 - val_accuracy: 0.6571\n",
            "Epoch 274/300\n",
            "3/3 [==============================] - 6s 3s/step - loss: 0.0702 - accuracy: 0.9905 - val_loss: 1.1293 - val_accuracy: 0.7143\n",
            "Epoch 275/300\n",
            "3/3 [==============================] - 6s 2s/step - loss: 0.1382 - accuracy: 0.9619 - val_loss: 0.8871 - val_accuracy: 0.6571\n",
            "Epoch 276/300\n",
            "3/3 [==============================] - 6s 2s/step - loss: 0.1002 - accuracy: 0.9524 - val_loss: 0.7012 - val_accuracy: 0.8000\n",
            "Epoch 277/300\n",
            "3/3 [==============================] - 6s 2s/step - loss: 0.1074 - accuracy: 0.9619 - val_loss: 0.8087 - val_accuracy: 0.6286\n",
            "Epoch 278/300\n",
            "3/3 [==============================] - 6s 3s/step - loss: 0.1225 - accuracy: 0.9524 - val_loss: 0.7772 - val_accuracy: 0.7714\n",
            "Epoch 279/300\n",
            "3/3 [==============================] - 6s 2s/step - loss: 0.1482 - accuracy: 0.9238 - val_loss: 0.6667 - val_accuracy: 0.7143\n",
            "Epoch 280/300\n",
            "3/3 [==============================] - 6s 2s/step - loss: 0.0729 - accuracy: 0.9810 - val_loss: 0.6455 - val_accuracy: 0.7714\n",
            "Epoch 281/300\n",
            "3/3 [==============================] - 6s 3s/step - loss: 0.0859 - accuracy: 0.9714 - val_loss: 0.9461 - val_accuracy: 0.6571\n",
            "Epoch 282/300\n",
            "3/3 [==============================] - 5s 2s/step - loss: 0.0365 - accuracy: 1.0000 - val_loss: 0.8588 - val_accuracy: 0.6571\n",
            "Epoch 283/300\n",
            "3/3 [==============================] - 6s 2s/step - loss: 0.0895 - accuracy: 0.9714 - val_loss: 0.9003 - val_accuracy: 0.7143\n",
            "Epoch 284/300\n",
            "3/3 [==============================] - 6s 2s/step - loss: 0.0959 - accuracy: 0.9619 - val_loss: 0.5436 - val_accuracy: 0.8286\n",
            "Epoch 285/300\n",
            "3/3 [==============================] - 5s 2s/step - loss: 0.0861 - accuracy: 0.9750 - val_loss: 0.8793 - val_accuracy: 0.6857\n",
            "Epoch 286/300\n",
            "3/3 [==============================] - 5s 2s/step - loss: 0.1064 - accuracy: 0.9500 - val_loss: 0.7086 - val_accuracy: 0.7143\n",
            "Epoch 287/300\n",
            "3/3 [==============================] - 6s 2s/step - loss: 0.1375 - accuracy: 0.9429 - val_loss: 0.7417 - val_accuracy: 0.7143\n",
            "Epoch 288/300\n",
            "3/3 [==============================] - 5s 2s/step - loss: 0.1058 - accuracy: 0.9875 - val_loss: 0.8469 - val_accuracy: 0.6571\n",
            "Epoch 289/300\n",
            "3/3 [==============================] - 6s 3s/step - loss: 0.0957 - accuracy: 0.9619 - val_loss: 0.7428 - val_accuracy: 0.7143\n",
            "Epoch 290/300\n",
            "3/3 [==============================] - 6s 3s/step - loss: 0.1043 - accuracy: 0.9333 - val_loss: 0.8571 - val_accuracy: 0.6571\n",
            "Epoch 291/300\n",
            "3/3 [==============================] - 6s 2s/step - loss: 0.1352 - accuracy: 0.9429 - val_loss: 0.4403 - val_accuracy: 0.8000\n",
            "Epoch 292/300\n",
            "3/3 [==============================] - 6s 2s/step - loss: 0.1102 - accuracy: 0.9524 - val_loss: 0.8982 - val_accuracy: 0.6857\n",
            "Epoch 293/300\n",
            "3/3 [==============================] - 6s 2s/step - loss: 0.0611 - accuracy: 0.9810 - val_loss: 1.0872 - val_accuracy: 0.6571\n",
            "Epoch 294/300\n",
            "3/3 [==============================] - 5s 2s/step - loss: 0.1075 - accuracy: 0.9500 - val_loss: 0.5158 - val_accuracy: 0.7714\n",
            "Epoch 295/300\n",
            "3/3 [==============================] - 6s 2s/step - loss: 0.0440 - accuracy: 0.9905 - val_loss: 0.6260 - val_accuracy: 0.7429\n",
            "Epoch 296/300\n",
            "3/3 [==============================] - 5s 2s/step - loss: 0.0620 - accuracy: 0.9750 - val_loss: 0.9423 - val_accuracy: 0.6857\n",
            "Epoch 297/300\n",
            "3/3 [==============================] - 5s 2s/step - loss: 0.0727 - accuracy: 0.9750 - val_loss: 0.8260 - val_accuracy: 0.7143\n",
            "Epoch 298/300\n",
            "3/3 [==============================] - 6s 2s/step - loss: 0.0576 - accuracy: 0.9810 - val_loss: 0.5188 - val_accuracy: 0.8286\n",
            "Epoch 299/300\n",
            "3/3 [==============================] - 6s 2s/step - loss: 0.0433 - accuracy: 1.0000 - val_loss: 0.5623 - val_accuracy: 0.7429\n",
            "Epoch 300/300\n",
            "3/3 [==============================] - 6s 2s/step - loss: 0.0852 - accuracy: 0.9714 - val_loss: 1.0963 - val_accuracy: 0.7429\n"
          ]
        }
      ],
      "source": [
        "# Import the callbacks module from TensorFlow's Keras library\n",
        "from tensorflow.keras import callbacks\n",
        "\n",
        "# Initialize lists to store the accuracy and loss per fold for testing\n",
        "test_acc_per_fold = []; test_loss_per_fold = []\n",
        "\n",
        "# Call the model_call() function to create the model\n",
        "model = model_call()\n",
        "epoch = 300                 # Set the number of epochs to 300\n",
        "\n",
        "# Fit the model on the training data\n",
        "kh = model.fit(        \n",
        "        train_generator,                       # Pass the training generator\n",
        "        steps_per_epoch= 3,          # Set the number of steps per epoch to 3\n",
        "        epochs = epoch,                     # Set the number of epochs to 300\n",
        "        validation_data=validation_generator,  # Pass the validation generator\n",
        "        callbacks = [accstop],                 # Pass the accstop callback\n",
        "        validation_steps= 1          # Set the number of validation steps to 1\n",
        "        )\n",
        "# Evaluate the model on the training data\n",
        "scores = model.evaluate(train_generator, verbose=0)\n",
        "\n",
        "# Evaluate the model on the validation data\n",
        "results = model.evaluate(validation_generator, verbose = 0)\n",
        "\n",
        "# Evaluate the model on the test data\n",
        "test_results = model.evaluate(test_generator, verbose = 0)\n",
        "\n",
        "# Find the best accuracy, loss, validation accuracy, and validation loss from the history of the model training\n",
        "best_acc = max(kh.history['accuracy']); best_loss = min(kh.history['loss']); best_val_acc = max(kh.history['val_accuracy']); best_val_loss = min(kh.history['val_loss'])"
      ]
    },
    {
      "attachments": {},
      "cell_type": "markdown",
      "metadata": {},
      "source": [
        "# Training Analysis\n",
        "\n",
        "Prints a summary of the results of training the custom model.\n",
        "\n",
        "The summary includes training and validation scores, as well as the best accuracy and loss values.\n",
        "\n",
        "The final section of the summary prints the highest accuracy and lowest loss achieved during the training process."
      ]
    },
    {
      "cell_type": "code",
      "execution_count": null,
      "metadata": {
        "colab": {
          "base_uri": "https://localhost:8080/"
        },
        "id": "N2vOuO-iDIMQ",
        "outputId": "ca81d368-99f7-4101-d37f-bd59e878042b"
      },
      "outputs": [
        {
          "name": "stdout",
          "output_type": "stream",
          "text": [
            "-----------------------------------------------------------------------------------------------------------------------------------------------------------------\n",
            "Training Score : loss of 0.09313520044088364; accuracy of 97.46478796005249%;  \n",
            "\n",
            "Validation Score validation loss of 0.7485255002975464; validaiton accuracy of 75.71428418159485%;  \n",
            "\n",
            " Best Accuracy: 100.0%;  Best Loss: 0.0365087166428566; Best Val_Accuracy: 88.57142925262451%; Best Val_Loss: 0.2521013021469116 \n",
            "\n",
            "-----------------------------------------------------------------------------------------------------------------------------------------------------------------\n"
          ]
        }
      ],
      "source": [
        "print('-----------------------------------------------------------------------------------------------------------------------------------------------------------------')\n",
        "\n",
        "# Print the training score with the first metric name and value and the second metric name and value\n",
        "print(f'Training Score : {model.metrics_names[0]} of {scores[0]}; {model.metrics_names[1]} of {scores[1]*100}%;  \\n' )\n",
        "\n",
        "# Print the validation score with the first metric name and value and the second metric name and value\n",
        "print(f'Validation Score validation {model.metrics_names[0]} of {results[0]}; validaiton {model.metrics_names[1]} of {results[1]*100}%;  \\n' )\n",
        "\n",
        "# Print the best accuracy, loss, validation accuracy, and validation loss\n",
        "print(f' Best Accuracy: {best_acc*100}%;  Best Loss: {best_loss}; Best Val_Accuracy: {best_val_acc*100}%; Best Val_Loss: {best_val_loss} \\n' )\n",
        "\n",
        "print('-----------------------------------------------------------------------------------------------------------------------------------------------------------------')"
      ]
    },
    {
      "attachments": {},
      "cell_type": "markdown",
      "metadata": {},
      "source": [
        "# Setting the Plot\n",
        "\n",
        "Creating a line plot to visualize the training and validation accuracy over the number of epochs. \n",
        "The kh.history object is a dictionary that stores the accuracy values at each epoch during training and validation. \n",
        "The plt.plot() function is used to plot the values in kh.history['accuracy'] and kh.history['val_accuracy'] on the same graph.\n",
        "\n",
        "The plt.ylabel() function is used to set the y-axis label to \"Accuracy\". This label indicates that the y-axis represents accuracy values. The plt.xlabel() function is used to set the x-axis label to \"Epoch\". This label indicates that the x-axis represents the number of epochs.\n",
        "\n",
        "Finally, the plt.show() function is used to display the plot. This makes it possible to see the results of the code and understand how the accuracy changed over the number of epochs."
      ]
    },
    {
      "cell_type": "code",
      "execution_count": null,
      "metadata": {
        "colab": {
          "base_uri": "https://localhost:8080/",
          "height": 295
        },
        "id": "ZUewf8TODIPW",
        "outputId": "ba711306-581b-4e58-e4f1-47534f62d2a6"
      },
      "outputs": [
        {
          "data": {
            "image/png": "[encoded data removed]",
            "text/plain": [
              "<Figure size 432x288 with 1 Axes>"
            ]
          },
          "metadata": {
            "needs_background": "light"
          },
          "output_type": "display_data"
        }
      ],
      "source": [
        "# Plot the training and validation accuracy\n",
        "plt.plot(kh.history['accuracy'])\n",
        "plt.plot(kh.history['val_accuracy'])\n",
        "\n",
        "# Set the title of the plot\n",
        "plt.title('Training and Validation Accuracies')\n",
        "\n",
        "# Set the y-axis label to \"Accuracy\"\n",
        "plt.ylabel('Accuracy')\n",
        "\n",
        "# Set the x-axis label to \"Epoch\"\n",
        "plt.xlabel('Epoch')\n",
        "\n",
        "# Add a legend to the plot, with \"Training\" and \"Validation\" as the labels, and the location set to \"upper left\"\n",
        "plt.legend(['Training', 'Validation'], loc = 'upper left')\n",
        "\n",
        "# Show the plot\n",
        "plt.show()\n"
      ]
    },
    {
      "cell_type": "code",
      "execution_count": null,
      "metadata": {
        "colab": {
          "base_uri": "https://localhost:8080/",
          "height": 295
        },
        "id": "gurFOenEDISU",
        "outputId": "e7dec73d-99d1-4553-92ed-78706e772d1f"
      },
      "outputs": [
        {
          "data": {
            "image/png": "[encoded data removed]",
            "text/plain": [
              "<Figure size 432x288 with 1 Axes>"
            ]
          },
          "metadata": {
            "needs_background": "light"
          },
          "output_type": "display_data"
        }
      ],
      "source": [
        "# Plot the training and validation loss\n",
        "plt.plot(kh.history['loss'])\n",
        "plt.plot(kh.history['val_loss'])\n",
        "\n",
        "# Set the title of the plot\n",
        "plt.title('Training and Validation Losses')\n",
        "\n",
        "# Set the y-axis label to \"Loss\"\n",
        "plt.ylabel('Loss')\n",
        "\n",
        "# Set the x-axis label to \"Epoch\"\n",
        "plt.xlabel('Epoch')\n",
        "\n",
        "# Add a legend to the plot, with \"Training\" and \"Validation\" as the labels, and the location set to \"upper left\"\n",
        "plt.legend(['Training', 'Validation'], loc = 'upper left')\n",
        "\n",
        "# Show the plot\n",
        "plt.show()\n"
      ]
    },
    {
      "attachments": {},
      "cell_type": "markdown",
      "metadata": {},
      "source": [
        "# Evaluating accuracy of the test set\n",
        "\n",
        "Evaluates the performance of the custom model on a test set using the \n",
        "model.evaluate() function. This function calculates the accuracy of the model on the test set, which is a measure of how well the model is able to predict the correct labels.\n",
        "\n",
        " The accuracy is printed to the console using the print() function. This makes it possible to see the accuracy of the model on the test set and understand how well it is performing."
      ]
    },
    {
      "cell_type": "code",
      "execution_count": null,
      "metadata": {
        "colab": {
          "base_uri": "https://localhost:8080/"
        },
        "id": "VfSnYMnnDIV8",
        "outputId": "c5974317-2300-4451-86a8-05a761381aeb"
      },
      "outputs": [
        {
          "name": "stdout",
          "output_type": "stream",
          "text": [
            "7/7 [==============================] - 5s 651ms/step - loss: 0.8425 - accuracy: 0.7415\n",
            "0.741525411605835\n"
          ]
        }
      ],
      "source": [
        "# Evaluate the model on the test set\n",
        "_, acc = model.evaluate(test_generator)\n",
        "\n",
        "# Print the accuracy on the test set\n",
        "print(acc)"
      ]
    },
    {
      "attachments": {},
      "cell_type": "markdown",
      "metadata": {},
      "source": [
        "# Evaluating accuracy of the validation set\n",
        "\n",
        " Evaluates the performance of the custom model on a validation set using the \n",
        " model.evaluate() function. This function calculates the accuracy of the model on the validation set, which is a measure of how well the model is able to predict the correct labels on a dataset it has not seen before.\n",
        "\n",
        " The accuracy is printed to the console using the print() function. This makes it possible to see the accuracy of the model on the validation set and understand how well it is performing, especially compared to its performance on the training set."
      ]
    },
    {
      "cell_type": "code",
      "execution_count": null,
      "metadata": {
        "colab": {
          "base_uri": "https://localhost:8080/"
        },
        "id": "m5zJSyLST2p3",
        "outputId": "21de54c7-ddca-4b03-da30-5228f1c22b46"
      },
      "outputs": [
        {
          "name": "stdout",
          "output_type": "stream",
          "text": [
            "4/4 [==============================] - 5s 1s/step - loss: 0.8988 - accuracy: 0.7286\n",
            "0.7285714149475098\n"
          ]
        }
      ],
      "source": [
        "# Evaluate the model on the validation set\n",
        "_, acc = model.evaluate(validation_generator)\n",
        "\n",
        "# Print the accuracy on the validation set\n",
        "print(acc)"
      ]
    },
    {
      "attachments": {},
      "cell_type": "markdown",
      "metadata": {
        "id": "7Xnr_lYyTVHh"
      },
      "source": [
        "# Calculating Precision, Recall and F1 Score on the validation set\n",
        "\n",
        "These metrics can be used to monitor the training process, to evaluate the performance of the custom model on a validation set."
      ]
    },
    {
      "cell_type": "code",
      "execution_count": null,
      "metadata": {
        "colab": {
          "base_uri": "https://localhost:8080/"
        },
        "id": "6FUk9OSOTlB-",
        "outputId": "e60ef18b-efe2-4108-e81d-6890698d0cbb"
      },
      "outputs": [
        {
          "name": "stdout",
          "output_type": "stream",
          "text": [
            "For Validation: \n",
            "Precision: 0.9090909361839294, Recall: 0.5882353186607361, Accuracy: 0.7714285850524902, F1 Score: 0.7142857313156128\n"
          ]
        }
      ],
      "source": [
        "# Importing Precision and Recall from the tensorflow.keras.metrics module\n",
        "from tensorflow.keras.metrics import Precision, Recall\n",
        "\n",
        "# Instantiating objects of the Precision and Recall classes\n",
        "pre = Precision()\n",
        "re = Recall()\n",
        "\n",
        "# Loop over the validation data\n",
        "for batch in validation:\n",
        "  # Get the inputs and target values from the batch\n",
        "  X, y = validation\n",
        "  # Predict the output using the model\n",
        "  yhat = model.predict(X)\n",
        "  # Update the state of the Precision and Recall objects with the batch results\n",
        "  pre.update_state(y, yhat)\n",
        "  re.update_state(y, yhat)\n",
        "\n",
        "# Calculate the F1 score as the harmonic mean of precision and recall\n",
        "f1_score = (2 * pre.result().numpy() * re.result()) / (pre.result().numpy() + re.result())\n",
        "\n",
        "# Print the precision, recall, and F1 score for the validation data\n",
        "print('For Validation: ')\n",
        "print(f'Precision: {pre.result().numpy()}, Recall: {re.result().numpy()}, F1 Score: {f1_score}')\n"
      ]
    },
    {
      "attachments": {},
      "cell_type": "markdown",
      "metadata": {
        "id": "wuUPUPUBTS1M"
      },
      "source": [
        "# Calculating Precision, Recall and F1 Score on the test set\n",
        "\n",
        "These metrics can be used to monitor the training process, to evaluate the performance of the custom model on a test set."
      ]
    },
    {
      "cell_type": "code",
      "execution_count": null,
      "metadata": {
        "colab": {
          "base_uri": "https://localhost:8080/"
        },
        "id": "qLHDVjAeTlE0",
        "outputId": "35dce3c3-0b1a-4c70-be89-a415f38dc70f"
      },
      "outputs": [
        {
          "name": "stdout",
          "output_type": "stream",
          "text": [
            "For Validation: \n",
            "Precision: 1.0, Recall: 0.7142857313156128, Accuracy: 0.8461538553237915, F1 Score: 0.8333333730697632\n"
          ]
        }
      ],
      "source": [
        "# Importing Precision and Recall from the tensorflow.keras.metrics module\n",
        "from tensorflow.keras.metrics import Precision, Recall\n",
        "\n",
        "# Instantiating objects of the Precision and Recall classes\n",
        "pre = Precision()\n",
        "re = Recall()\n",
        "\n",
        "# Loop over the test data\n",
        "for batch in test:\n",
        "  # Get the inputs and target values from the batch\n",
        "  X, y = test\n",
        "  # Predict the output using the model\n",
        "  yhat = model.predict(X)\n",
        "  # Update the state of the Precision and Recall objects with the batch results\n",
        "  pre.update_state(y, yhat)\n",
        "  re.update_state(y, yhat)\n",
        "\n",
        "# Calculate the F1 score as the harmonic mean of precision and recall\n",
        "f1_score = (2 * pre.result().numpy() * re.result()) / (pre.result().numpy() + re.result())\n",
        "\n",
        "# Print the precision, recall, and F1 score for the test data\n",
        "print('For Test: ')\n",
        "print(f'Precision: {pre.result().numpy()}, Recall: {re.result().numpy()}, F1 Score: {f1_score}')\n"
      ]
    },
    {
      "attachments": {},
      "cell_type": "markdown",
      "metadata": {
        "id": "SPZDm33KTNPq"
      },
      "source": [
        "# Predictions on Validation and Test dataset\n",
        "\n",
        "1. The pred variable is assigned the result of making predictions on the validation dataset using the model.predict() method.\n",
        "\n",
        "2. The test_pred variable is assigned the result of making predictions on the test dataset using the model.predict() method.\n",
        "\n",
        "3. The function countpredictions() takes two arguments: predictions and gw, ngw, where gw and ngw are the count of positive and negative predictions, respectively.\n",
        "    - For each prediction in predictions, the code checks if the prediction value is greater than 0.5. If it is, ngw is incremented, otherwise, gw is incremented.\n",
        "\n",
        "    - Finally, the function returns the count of positive and negative predictions.\n",
        "\n",
        "4. The countpredictions() function is called with pred as an argument and the result is printed.\n",
        "\n",
        "5. Similarly, the countpredictions() function is called with test_pred as an argument and the result is printed."
      ]
    },
    {
      "cell_type": "code",
      "execution_count": null,
      "metadata": {
        "colab": {
          "base_uri": "https://localhost:8080/"
        },
        "id": "JKf2ofVJTlHn",
        "outputId": "64102d23-0427-43a4-bd40-4f62c980a687"
      },
      "outputs": [
        {
          "name": "stdout",
          "output_type": "stream",
          "text": [
            "validation predictions:\n",
            "\n",
            "(90, 50)\n",
            "\n",
            "test predictions:\n",
            "\n",
            "(130, 106)\n"
          ]
        }
      ],
      "source": [
        "# Make predictions on validation and test datasets\n",
        "pred = model.predict(validation_generator)\n",
        "test_pred = model.predict(test_generator)\n",
        "\n",
        "# Print header for validation predictions\n",
        "print(\"Validation Predictions:\\n\")\n",
        "\n",
        "# Define a function to count positive and negative predictions\n",
        "def countpredictions(predictions, gw = 0, ngw = 0):\n",
        "  for pred in predictions:\n",
        "    # If prediction value is greater than 0.5, increment ngw (negative predictions)\n",
        "    if pred > 0.5:\n",
        "      ngw += 1\n",
        "    # If prediction value is less than or equal to 0.5, increment gw (positive predictions)\n",
        "    else:\n",
        "      gw += 1\n",
        "  # Return the count of positive and negative predictions\n",
        "  return gw, ngw\n",
        "\n",
        "# Call the countpredictions function on validation predictions and print the results\n",
        "print(countpredictions(pred, 0, 0))\n",
        "\n",
        "# Print header for test predictions\n",
        "print(\"\\nTest Predictions:\\n\")\n",
        "\n",
        "# Call the countpredictions function on test predictions and print the results\n",
        "print(countpredictions(test_pred, 0, 0))\n"
      ]
    },
    {
      "attachments": {},
      "cell_type": "markdown",
      "metadata": {
        "id": "i98lh8pAPkKh"
      },
      "source": [
        "# Calculating Confusion Matrix\n",
        "\n",
        "The predictions made by the model are rounded and stored in the pred variable. \n",
        "\n",
        "The confusion_matrix is calculated by calling metrics.confusion_matrix with y_true set to the true classes and y_pred set to the rounded predictions. \n",
        "\n",
        "The resulting confusion matrix has the following components:\n",
        "\n",
        "    - True Positives (TP): The number of instances that are true and are predicted to be true.\n",
        "    - False Negatives (FN): The number of instances that are true but are predicted to be false.\n",
        "    - False Positives (FP): The number of instances that are false but are predicted to be true.\n",
        "    - True Negatives (TN): The number of instances that are false and are predicted to be false.\n",
        "\n",
        "\n"
      ]
    },
    {
      "cell_type": "code",
      "execution_count": null,
      "metadata": {
        "colab": {
          "base_uri": "https://localhost:8080/"
        },
        "id": "CdEORBtVWqMK",
        "outputId": "d6d2d59f-efb1-4c84-c55d-49b102bc2b03"
      },
      "outputs": [
        {
          "name": "stdout",
          "output_type": "stream",
          "text": [
            "Confusion Matrix: \n",
            "\n"
          ]
        },
        {
          "data": {
            "text/plain": [
              "array([[41, 29],\n",
              "       [38, 32]])"
            ]
          },
          "execution_count": 26,
          "metadata": {},
          "output_type": "execute_result"
        }
      ],
      "source": [
        "import sklearn.metrics as metrics\n",
        "\n",
        "# Print the confusion matrix\n",
        "print(\"Confusion Matrix: \\n\")\n",
        "\n",
        "# Get the true classes from the validation generator\n",
        "true_classes = validation_generator.classes\n",
        "\n",
        "# Get the class labels from the validation generator\n",
        "class_labels = list(validation_generator.class_indices.keys())\n",
        "\n",
        "# Round the predictions to get binary values\n",
        "pred = np.round(pred)\n",
        "\n",
        "# Create the confusion matrix using true classes and the rounded predictions\n",
        "confusion_matrix = metrics.confusion_matrix(y_true=true_classes, y_pred=pred)\n",
        "\n",
        "# Print the confusion matrix\n",
        "confusion_matrix\n"
      ]
    }
  ],
  "metadata": {
    "accelerator": "GPU",
    "colab": {
      "provenance": []
    },
    "gpuClass": "standard",
    "kernelspec": {
      "display_name": "Python 3",
      "name": "python3"
    },
    "language_info": {
      "name": "python"
    }
  },
  "nbformat": 4,
  "nbformat_minor": 0
}
