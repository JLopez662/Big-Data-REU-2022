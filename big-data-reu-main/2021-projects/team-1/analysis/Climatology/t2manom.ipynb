{
 "cells": [
  {
   "cell_type": "code",
   "execution_count": 15,
   "id": "eb336f9d-1044-4074-8bcf-915147c9c5d1",
   "metadata": {},
   "outputs": [],
   "source": [
    "# load necessary packages\n",
    "import pandas as pd\n",
    "import numpy as np\n",
    "import matplotlib.pyplot as plt\n",
    "\n",
    "monthly_t2m = pd.read_csv(\"monthly_data/monthly_t2m.csv\")\n",
    "\n",
    "monthly_t2m = np.array(monthly_t2m.iloc[:, 1])\n",
    "monthly_t2m = monthly_t2m.reshape(480, 448, 304)\n",
    "\n",
    "avg_t2m = np.nanmean(monthly_t2m, axis = (1,2))\n",
    "\n",
    "date = pd.date_range(start='1979-01-10', end='2018-12-10', periods=480)\n",
    "\n",
    "df = pd.DataFrame({'datetime': date,\n",
    "                                 't2m': avg_t2m,})\n",
    "\n",
    "df.index = pd.to_datetime(df['datetime'],format='%Y-%m-%d %H:%M:%S')\n",
    "\n",
    "month_avg = df.groupby(df['datetime'].dt.month).mean().values"
   ]
  },
  {
   "cell_type": "code",
   "execution_count": 16,
   "id": "0d30ba37-f983-429e-ab10-b26f073435fe",
   "metadata": {},
   "outputs": [
    {
     "data": {
      "text/plain": [
       "array([261.99997683519257, 261.4518046837328, 264.0345881191411,\n",
       "       269.23572890236414, 275.6744567635364, 281.47681450328434,\n",
       "       285.1562624661098, 285.84150525412167, 282.6512570122355,\n",
       "       277.71769347383565, 270.52713239372224], dtype=object)"
      ]
     },
     "execution_count": 16,
     "metadata": {},
     "output_type": "execute_result"
    }
   ],
   "source": [
    "t2m18 = df[469:480].values\n",
    "t2m18 = t2m18[:,1]\n",
    "t2m18"
   ]
  },
  {
   "cell_type": "code",
   "execution_count": 17,
   "id": "393e38be-97e5-410d-9ec3-80cb6a1e4923",
   "metadata": {},
   "outputs": [],
   "source": [
    "anom18 = np.zeros(t2m18.size)\n",
    "x=0\n",
    "for x in range(len(t2m18)):\n",
    "    anom18[x] = t2m18[x]-month_avg[x]"
   ]
  },
  {
   "cell_type": "code",
   "execution_count": 18,
   "id": "7f407cd3-a271-4974-a9f0-d29eb5603ac9",
   "metadata": {},
   "outputs": [],
   "source": [
    "plt.plot(anom18)\n",
    "plt.xlabel('Month')\n",
    "plt.ylabel('t2m')\n",
    "plt.title('Monthly t2m Anomalies from 2018')\n",
    "positions = (0,2,4,6,8,10)\n",
    "labels = (\"Jan\", \"Mar\", \"May\", \"Jul\", \"Sep\", \"Nov\")\n",
    "plt.xticks(positions, labels)\n",
    "plt.savefig('anomt2m18.png', bbox_inches='tight')"
   ]
  },
  {
   "cell_type": "code",
   "execution_count": null,
   "id": "4e8adc01-29d0-49d4-b36a-a5ebe5ff4d7c",
   "metadata": {},
   "outputs": [],
   "source": []
  },
  {
   "cell_type": "code",
   "execution_count": null,
   "id": "bd8f7063-33aa-42c7-a8f8-0248391796eb",
   "metadata": {},
   "outputs": [],
   "source": []
  }
 ],
 "metadata": {
  "kernelspec": {
   "display_name": "Python 3",
   "language": "python",
   "name": "python3"
  },
  "language_info": {
   "codemirror_mode": {
    "name": "ipython",
    "version": 3
   },
   "file_extension": ".py",
   "mimetype": "text/x-python",
   "name": "python",
   "nbconvert_exporter": "python",
   "pygments_lexer": "ipython3",
   "version": "3.7.6"
  }
 },
 "nbformat": 4,
 "nbformat_minor": 5
}
