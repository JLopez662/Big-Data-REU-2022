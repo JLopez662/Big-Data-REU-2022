{
  "cells": [
    {
      "attachments": {},
      "cell_type": "markdown",
      "metadata": {},
      "source": [
        "# Mount Google Drive to Colab Environment\n",
        "This code is used to mount your Google Drive account to the Colab environment, allowing you to access the files stored in your Google Drive directly from Colab. \n",
        "\n",
        "The `drive.mount()` function creates a connection between Colab and your Google Drive account and mounts your Google Drive at the specified location (in this case, `/content/drive`).\n"
      ]
    },
    {
      "cell_type": "code",
      "execution_count": null,
      "metadata": {
        "colab": {
          "base_uri": "https://localhost:8080/"
        },
        "id": "rOfGlTRwvREg",
        "outputId": "427ba054-24b6-4652-cf6e-e7f89b2f70e1"
      },
      "outputs": [
        {
          "name": "stdout",
          "output_type": "stream",
          "text": [
            "Mounted at /content/drive\n"
          ]
        }
      ],
      "source": [
        "# Importing the 'drive' module from the 'google.colab' package\n",
        "from google.colab import drive\n",
        "\n",
        "# Mounting Google Drive to the '/content/drive' directory in the Colab environment\n",
        "drive.mount('/content/drive')"
      ]
    },
    {
      "attachments": {},
      "cell_type": "markdown",
      "metadata": {
        "id": "y4tz7rSJRx2W"
      },
      "source": [
        "# Installing Required Packages\n",
        "\n",
        "This code is used to install various required packages in the environment. \n",
        "\n",
        "The `!pip install` command is used to install the packages, and the `-U` flag is used to upgrade an already installed package to a specific version. \n",
        "\n",
        "In this case, the packages being installed are `preprocess`, `mxnet-cu101`, `d2l`, `h5py`, and `pyyaml`."
      ]
    },
    {
      "cell_type": "code",
      "execution_count": null,
      "metadata": {
        "id": "XNKk7P6_vUMX"
      },
      "outputs": [],
      "source": [
        "# Installing Required Packages\n",
        "\n",
        "# Installing the 'preprocess' package\n",
        "!pip install preprocess\n",
        "\n",
        "# Updating the 'mxnet-cu101' package to version 1.7.0\n",
        "!pip install -U mxnet-cu101==1.7.0\n",
        "\n",
        "# Installing the 'd2l' package version 1.0.0-alpha0\n",
        "!pip install d2l==1.0.0-alpha0\n",
        "\n",
        "# Installing the 'h5py' and 'pyyaml' packages\n",
        "!pip install h5py pyyaml"
      ]
    },
    {
      "attachments": {},
      "cell_type": "markdown",
      "metadata": {
        "id": "6AllCWdNy45L"
      },
      "source": [
        "# Setting up a Deep Learning Environment in TensorFlow\n",
        "\n",
        "This code is used to set up a deep learning environment in TensorFlow. \n",
        "\n",
        "The `%load_ext tensorboard` line is used to load the TensorBoard extension for Jupyter Notebook. The code then imports the required libraries, including `os`, `numpy`, `pandas`, `matplotlib`, `preprocess`, and `cv2`. \n",
        "\n",
        "Additionally, it imports various TensorFlow libraries, including `keras`, `models`, `layers`, `optimizers`, and `preprocessing`, which are used to build, compile, and train deep learning models. \n",
        "\n",
        "Finally, it imports the Python Imaging Library (PIL) to work with images.\n"
      ]
    },
    {
      "cell_type": "code",
      "execution_count": null,
      "metadata": {
        "id": "FJJquGHave81"
      },
      "outputs": [],
      "source": [
        "# Loading TensorBoard Extension\n",
        "%load_ext tensorboard\n",
        "\n",
        "# Importing Required Libraries\n",
        "import os\n",
        "import numpy as np\n",
        "import pandas as pd\n",
        "import matplotlib.pyplot as plt\n",
        "import preprocess as pp\n",
        "import cv2\n",
        "\n",
        "# Importing TensorFlow Libraries\n",
        "from tensorflow import keras\n",
        "from tensorflow.keras.datasets import cifar10\n",
        "from tensorflow.keras import models, layers\n",
        "from tensorflow.keras.models import Model, Sequential\n",
        "from tensorflow.keras.layers import Input, Dense, Dropout, Flatten, Activation\n",
        "from tensorflow.keras.layers import BatchNormalization\n",
        "from tensorflow.keras import optimizers\n",
        "from tensorflow.keras.preprocessing import sequence\n",
        "from tensorflow.keras.preprocessing.image import ImageDataGenerator, array_to_img, img_to_array, load_img\n",
        "\n",
        "# Importing PIL Library\n",
        "import PIL.Image\n"
      ]
    },
    {
      "attachments": {},
      "cell_type": "markdown",
      "metadata": {
        "id": "TGNEUx_wzEUN"
      },
      "source": [
        "# Setting GPU Configuration in TensorFlow"
      ]
    },
    {
      "cell_type": "code",
      "execution_count": null,
      "metadata": {
        "colab": {
          "base_uri": "https://localhost:8080/"
        },
        "id": "bQMidZDZQBWp",
        "outputId": "53eb0b37-820d-43ee-bbb0-218e9c193d6e"
      },
      "outputs": [
        {
          "name": "stdout",
          "output_type": "stream",
          "text": [
            "Num GPUs Available:  1\n"
          ]
        }
      ],
      "source": [
        "import tensorflow as tf\n",
        "\n",
        "#Used to get the list of physical GPUs available in the environment. \n",
        "#The `len(physical_devices)` line is used to get the number of GPUs available and `print` it.\n",
        "physical_devices = tf.config.experimental.list_physical_devices('GPU')\n",
        "print(\"Num GPUs Available: \", len(physical_devices))\n",
        "\n",
        "#Used to set the memory growth of the first GPU (at index 0) to True, \n",
        "# allowing TensorFlow to dynamically allocate memory as required by the model during training. \n",
        "tf.config.experimental.set_memory_growth(physical_devices[0], True)"
      ]
    },
    {
      "attachments": {},
      "cell_type": "markdown",
      "metadata": {
        "id": "Se-dESee0l5a"
      },
      "source": [
        "# Import the labeled dataset from  NASA’s LAADS DAAC archives. \n",
        "\n",
        "Fast Fourier Transform has been applied to the images in the dataset for denoising."
      ]
    },
    {
      "cell_type": "code",
      "execution_count": null,
      "metadata": {
        "colab": {
          "base_uri": "https://localhost:8080/"
        },
        "id": "kC7XqyjBvhhW",
        "outputId": "23bdada4-a565-44d5-aaf3-1269b7e2cdda"
      },
      "outputs": [
        {
          "name": "stdout",
          "output_type": "stream",
          "text": [
            "/content/drive/MyDrive/fft-denoised\n"
          ]
        }
      ],
      "source": [
        "# Setting the Working Directory in Python\n",
        "\n",
        "data_path = ('/content/drive/MyDrive/fft-denoised/')\n",
        "os.chdir(data_path)\n",
        "print(os.path.abspath(os.getcwd()))"
      ]
    },
    {
      "attachments": {},
      "cell_type": "markdown",
      "metadata": {
        "id": "3A8_7pz61YRq"
      },
      "source": [
        "# Loading the pre-trained model Inception V3, which was trained with imagenet dataset.\n",
        "\n",
        "All layers in the Inception V3 has been assigned to be non-trainable.\n"
      ]
    },
    {
      "cell_type": "code",
      "execution_count": null,
      "metadata": {
        "colab": {
          "base_uri": "https://localhost:8080/"
        },
        "id": "GBhVkfO1vjwX",
        "outputId": "480d18bd-1cd7-4d95-8a98-399179e50145"
      },
      "outputs": [
        {
          "name": "stdout",
          "output_type": "stream",
          "text": [
            "Downloading data from https://storage.googleapis.com/tensorflow/keras-applications/inception_v3/inception_v3_weights_tf_dim_ordering_tf_kernels_notop.h5\n",
            "87910968/87910968 [==============================] - 3s 0us/step\n"
          ]
        }
      ],
      "source": [
        "from tensorflow.keras.applications.inception_v3 import InceptionV3\n",
        "import tensorflow as tf\n",
        "\n",
        "from keras import regularizers\n",
        "from keras.models import Model\n",
        "\n",
        "base_model = InceptionV3(input_shape = (256,256,3), include_top = False, weights = 'imagenet')\n",
        "\n",
        "# Freeze all the layers\n",
        "for layer in base_model.layers:\n",
        "  layer.trainable = False\n",
        "\n",
        "# Check the trainable status of the individual layers\n",
        "\n",
        "#for layer in base_model.layers:\n",
        "  #print(layer, layer.trainable)\n",
        "\n",
        "#base_model.summary()"
      ]
    },
    {
      "attachments": {},
      "cell_type": "markdown",
      "metadata": {
        "id": "8IRVaga-1xlf"
      },
      "source": [
        "# Extracting the last layer of the InceptionV3 model. \n",
        "\n",
        "This code can be used as a feature extractor for transfer learning, where the last layer of the pre-trained model is used as input for a new, custom model.\n",
        "\n",
        "The reason for that is because for the Inception Model V3, the largest feature map is produced by this layer, and further layers have lower dimensions. So for the purpose of feature extraction, we want to use the feature map with the most dimensions possible."
      ]
    },
    {
      "cell_type": "code",
      "execution_count": null,
      "metadata": {
        "colab": {
          "base_uri": "https://localhost:8080/"
        },
        "id": "QCQlVKBovmL8",
        "outputId": "816ef507-2492-450d-ad7e-b9ff212c0cdc"
      },
      "outputs": [
        {
          "name": "stdout",
          "output_type": "stream",
          "text": [
            "last layer output shape:  (None, 14, 14, 768)\n"
          ]
        }
      ],
      "source": [
        "#The last_layer variable is assigned the value of the 'mixed7' layer of the base_model.\n",
        "last_layer = base_model.get_layer('mixed7')\n",
        "\n",
        "#The output shape of the last layer is then printed, and the last_output variable is assigned the value of the output of the last layer.\n",
        "print('last layer output shape: ', last_layer.output_shape)\n",
        "last_output = last_layer.output"
      ]
    },
    {
      "attachments": {},
      "cell_type": "markdown",
      "metadata": {
        "id": "PeeujyT22WYx"
      },
      "source": [
        "# Applying  L1 and L2 regularization to all Conv2D layers in the base_model.\n",
        "\n",
        "The if statement is checking for each layer in the base_model if it is a Conv2D layer. If it is, it adds L1 and L2 regularization to that layer using the kernel_regularizer attribute and the l1 and l2 functions from the keras.regularizers module, with a regularization factor of 0.0001 for both L1 and L2. Regularization helps to prevent overfitting in the model."
      ]
    },
    {
      "cell_type": "code",
      "execution_count": null,
      "metadata": {
        "id": "x69MD0mWvnK4"
      },
      "outputs": [],
      "source": [
        "#Adding L1 and L2 regularization to the Conv2D layers in the base_model.\n",
        "for layer in base_model.layers:\n",
        "  if layer.__class__.__name__ == 'Conv2D':\n",
        "    layer.kernel_regularizer = keras.regularizers.l1(0.0001)\n",
        "    layer.kernel_regularizer = keras.regularizers.l2(0.0001)"
      ]
    },
    {
      "attachments": {},
      "cell_type": "markdown",
      "metadata": {
        "id": "jWZVnfwdYAKO"
      },
      "source": [
        "# Defining Custom Model with trainable layers\n",
        "\n",
        "Defining a function model_call() which returns a deep learning model that can be used for binary classification tasks. \n",
        "\n",
        "The function uses the Model class from the TensorFlow library to create a model that takes the pre-trained InceptionV3 model as its base and adds a custom top layer for classification."
      ]
    },
    {
      "cell_type": "code",
      "execution_count": null,
      "metadata": {
        "id": "z-_mwxyFOLs5"
      },
      "outputs": [],
      "source": [
        "# Import required libraries\n",
        "from tensorflow.keras import activations\n",
        "from tensorflow.keras.optimizers import RMSprop, SGD, Adam\n",
        "from tensorflow.keras.layers import Conv2D, Convolution2D, MaxPooling2D, AveragePooling2D, GlobalAveragePooling2D\n",
        "import tensorflow as tf\n",
        "from tensorflow.keras.callbacks import EarlyStopping\n",
        "from tensorflow.keras.utils import plot_model\n",
        "\n",
        "# Define the model_call function\n",
        "def model_call():\n",
        "\n",
        "  # Flatten the output from the mixed7 layer of the base model\n",
        "  x = layers.Flatten()(last_output) #mixed 7\n",
        "\n",
        "  # Add a fully connected layer with 1,024 hidden units and ReLU activation\n",
        "  x = layers.Dense(1024, activation='relu')(x)\n",
        "\n",
        "  # Add dropout regularization to the fully connected layer\n",
        "  x = layers.Dropout(0.3)(x)      \n",
        "\n",
        "  # Add a final sigmoid layer for classification\n",
        "  x = layers.Dense(1, activation='sigmoid')(x)         \n",
        "\n",
        "  # Create the model by using the base model as input and the sigmoid layer as output\n",
        "  model = Model(base_model.input, x)\n",
        "\n",
        "  # Compile the model using the Adam optimizer, binary crossentropy loss, and accuracy metrics\n",
        "  model.compile(optimizer = Adam(lr=1e-04),\n",
        "                loss = 'binary_crossentropy', \n",
        "                metrics = ['accuracy'])\n",
        "                \n",
        "  # Return the compiled model\n",
        "  return model"
      ]
    },
    {
      "attachments": {},
      "cell_type": "markdown",
      "metadata": {},
      "source": [
        "# Displaying a Summary of the custom model on top of the pre-trained model\n",
        "\n",
        "The summary includes information about the layers in the model, the shapes of their outputs, the number of parameters in each layer, and the total number of parameters in the model. This is a useful tool for understanding the structure and complexity of the model, and for identifying any potential issues or problems with the architecture."
      ]
    },
    {
      "cell_type": "code",
      "execution_count": null,
      "metadata": {
        "id": "y9tUmSzLqHfA"
      },
      "outputs": [],
      "source": [
        "model.summary()"
      ]
    },
    {
      "attachments": {},
      "cell_type": "markdown",
      "metadata": {
        "id": "nw4guykK2d02"
      },
      "source": [
        "#  Custom callback class myCallback.\n",
        "\n",
        "The class is used to monitor the accuracy of a model during training and print out messages based on the accuracy values achieved. The class implements the on_epoch_end method which is called at the end of each epoch during model training.\n",
        "\n",
        "The method checks the accuracy value stored in the logs dictionary at the end of each epoch and based on the accuracy value, it prints out various messages. If the accuracy reaches 99%, the training will stop as the message \"Reached 99% accuracy so cancelling training!\" is printed. If the validation accuracy reaches 95% or more, the training will stop with the message \"Reached 95% or more validation accuracy, training finished.\". The code also prints messages if the validation accuracy reaches 93% and 90%."
      ]
    },
    {
      "cell_type": "code",
      "execution_count": null,
      "metadata": {
        "id": "MoPI007BXBn6"
      },
      "outputs": [],
      "source": [
        "# Defining a callback to monitor the accuracy during training\n",
        "class myCallback(tf.keras.callbacks.Callback):\n",
        "  def on_epoch_end(self, epoch, logs={}):\n",
        "\n",
        "    # Check if accuracy is greater than 99% to make early stop\n",
        "    if(logs.get('accuracy')>0.99):\n",
        "      print(\"\\nReached 99% accuracy so cancelling training!\")\n",
        "      self.model.stop_training = True\n",
        "\n",
        "    # Check if validation accuracy is greater than or equal to 95%, to make early stop\n",
        "    elif(logs.get('val_accuracy')>0.9499):\n",
        "      print(\"\\nReached 95% or more validation accuracy, training finished.\")\n",
        "      self.model.stop_training = True\n",
        "\n",
        "    # Check if validation accuracy is greater than or equal to 93%\n",
        "    elif(logs.get('val_accuracy')>0.93):\n",
        "      print(f\"\\nReached 93% validation accuracy mark!!!\")\n",
        "      \n",
        "    # Check if validation accuracy is greater than or equal to 90%\n",
        "    elif(logs.get('val_accuracy')>0.8999):\n",
        "      print(f\"\\nReached 90% validation accuracy mark!\")\n",
        "\n",
        "# Initializing the callback object\n",
        "accstop = myCallback()"
      ]
    },
    {
      "attachments": {},
      "cell_type": "markdown",
      "metadata": {
        "id": "yyQUkyDG3CBF"
      },
      "source": [
        "# Defining parameters to create image data generators for training, validation, and testing datasets.\n",
        "\n",
        "The train_datagen generator is defined using the ImageDataGenerator class from TensorFlow's Keras library. This generator will be used to augment the training data.\n",
        "\n",
        "The test_datagen generator is then defined using the same ImageDataGenerator class, but only with the rescale parameter set to normalize the pixel values.\n",
        "\n",
        "Next, the training generator is defined using the train_datagen generator.\n",
        "\n",
        "Training data is then extracted from the generator and stored in a list. This list is then converted to a numpy array, which is stored in the train_array variable.\n",
        "\n",
        "Similarly, the validation generator is defined using the train_datagen generator, with the directory set to ./validation. The validation data is then extracted from the generator and stored in a numpy array, which is stored in the validation_array variable.\n",
        "\n",
        "Finally, the testing generator is defined using the test_datagen generator, with the directory set to ./test. The testing data is then extracted from the generator and stored in a numpy array, which is stored in the test_array variable.\n",
        "\n"
      ]
    },
    {
      "cell_type": "code",
      "execution_count": null,
      "metadata": {
        "colab": {
          "base_uri": "https://localhost:8080/"
        },
        "id": "zYcH07DPvptN",
        "outputId": "2e6c0ca9-f43b-4571-94d0-1d7178ddfa67"
      },
      "outputs": [
        {
          "name": "stdout",
          "output_type": "stream",
          "text": [
            "Found 348 images belonging to 2 classes.\n"
          ]
        },
        {
          "name": "stderr",
          "output_type": "stream",
          "text": [
            "/usr/local/lib/python3.7/dist-packages/ipykernel_launcher.py:32: VisibleDeprecationWarning: Creating an ndarray from ragged nested sequences (which is a list-or-tuple of lists-or-tuples-or ndarrays with different lengths or shapes) is deprecated. If you meant to do this, you must specify 'dtype=object' when creating the ndarray.\n"
          ]
        },
        {
          "name": "stdout",
          "output_type": "stream",
          "text": [
            "Found 58 images belonging to 2 classes.\n"
          ]
        },
        {
          "name": "stderr",
          "output_type": "stream",
          "text": [
            "/usr/local/lib/python3.7/dist-packages/ipykernel_launcher.py:51: VisibleDeprecationWarning: Creating an ndarray from ragged nested sequences (which is a list-or-tuple of lists-or-tuples-or ndarrays with different lengths or shapes) is deprecated. If you meant to do this, you must specify 'dtype=object' when creating the ndarray.\n"
          ]
        },
        {
          "name": "stdout",
          "output_type": "stream",
          "text": [
            "Found 236 images belonging to 2 classes.\n"
          ]
        },
        {
          "name": "stderr",
          "output_type": "stream",
          "text": [
            "/usr/local/lib/python3.7/dist-packages/ipykernel_launcher.py:69: VisibleDeprecationWarning: Creating an ndarray from ragged nested sequences (which is a list-or-tuple of lists-or-tuples-or ndarrays with different lengths or shapes) is deprecated. If you meant to do this, you must specify 'dtype=object' when creating the ndarray.\n"
          ]
        }
      ],
      "source": [
        "# Define the batch size for training and testing\n",
        "batch_size = 35\n",
        "\n",
        "# Create ImageDataGenerator for training data with data augmentation\n",
        "train_datagen = ImageDataGenerator(\n",
        "        width_shift_range = 0.2, # randomly shift images horizontally\n",
        "        rescale=1/255,           # normalize pixel values\n",
        "        shear_range=0.2,         # apply random shear transformation\n",
        "        horizontal_flip=True,    # randomly flip images horizontally\n",
        "        )\n",
        "\n",
        "# Create ImageDataGenerator for test data without data augmentation\n",
        "test_datagen = ImageDataGenerator(\n",
        "        rescale=1/255)           # normalize pixel values\n",
        "\n",
        "# Create a generator for the training data and retrieve all images\n",
        "train_generator = train_datagen.flow_from_directory(\n",
        "        './train',               # path to the training data directory\n",
        "        target_size=(256, 256),  # target image size\n",
        "        batch_size= batch_size,  # batch size defined above\n",
        "        shuffle = True,          # shuffle the images\n",
        "        class_mode='binary')     # binary classification problem\n",
        "\n",
        "# Create a list to store all the training images\n",
        "train_list = []\n",
        "batch_index = 0\n",
        "while batch_index <= train_generator.batch_index:\n",
        "  train = train_generator.next()\n",
        "  train_list.append(train[0])    # append the images to the list\n",
        "  batch_index = batch_index + 1\n",
        "\n",
        "# Convert the list of images to a numpy array\n",
        "train_array = np.asarray(train_list)\n",
        "\n",
        "# Create a generator for the validation data and retrieve all images\n",
        "validation_generator = train_datagen.flow_from_directory(\n",
        "        './validation',          # path to the validation data directory\n",
        "        target_size=(256, 256),  # target image size\n",
        "        batch_size= 35,          # batch size defined as 35\n",
        "        class_mode='binary')     # binary classification problem\n",
        "\n",
        "# Create a list to store all the validation images\n",
        "validation_list = []\n",
        "batch_index = 0\n",
        "while batch_index <= validation_generator.batch_index:\n",
        "  validation = validation_generator.next()\n",
        "  validation_list.append(validation[0])    # append the images to the list\n",
        "  batch_index = batch_index + 1\n",
        "\n",
        "# Convert the list of images to a numpy array\n",
        "validation_array = np.asarray(validation_list)\n",
        "\n",
        "# Create a generator for the test data and retrieve all images\n",
        "test_generator = test_datagen.flow_from_directory(\n",
        "        './test',                # path to the test data directory\n",
        "        target_size=(256, 256),  # target image size\n",
        "        batch_size= batch_size,  # batch size defined above\n",
        "        class_mode= 'binary')    # binary classification problem\n",
        "\n",
        "# Create a list to store all the test images\n",
        "test_list = []\n",
        "batch_index = 0\n",
        "while batch_index <= test_generator.batch_index:\n",
        "  test = test_generator.next()\n",
        "  test_list.append(test[0])      # append the images to the list\n",
        "  batch_index = batch_index + 1 \n",
        "\n",
        "# Convert the list of images to a numpy array\n",
        "test_array = np.asarray(test_list)"
      ]
    },
    {
      "attachments": {},
      "cell_type": "markdown",
      "metadata": {
        "id": "63l-3b6fYQhq"
      },
      "source": [
        "# Displaying Images after Data Augmentation\n",
        "\n",
        "The code uses the Matplotlib library to generate and display 9 subplots.\n",
        "\n"
      ]
    },
    {
      "cell_type": "code",
      "execution_count": null,
      "metadata": {
        "colab": {
          "base_uri": "https://localhost:8080/",
          "height": 269
        },
        "id": "4J3-boDNXcCo",
        "outputId": "9c6c424d-2bc6-44e1-89be-73a9a077e6a3"
      },
      "outputs": [
        {
          "data": {
            "image/png": "[encoded data removed]",
            "text/plain": [
              "<Figure size 432x288 with 9 Axes>"
            ]
          },
          "metadata": {},
          "output_type": "display_data"
        }
      ],
      "source": [
        "# This code generates and displays 9 subplots using the Matplotlib library\n",
        "\n",
        "for i in range(9):\n",
        "    # This creates a subplot with a 3x3 grid, with the current subplot being located at (3, 3, i+1)\n",
        "    plt.subplot(330 + 1 + i) \n",
        "    \n",
        "    # This retrieves the next set of images and labels from the training generator\n",
        "    images, labels = train_generator.next() \n",
        "    \n",
        "    # This rescales the image from 0-1 to 0-255 and converts it to an 8-bit unsigned integer\n",
        "    image = (images[0]*255).astype('uint8') \n",
        "    \n",
        "    # This displays the image on the current subplot\n",
        "    plt.imshow(image) \n"
      ]
    },
    {
      "attachments": {},
      "cell_type": "markdown",
      "metadata": {
        "id": "408qHSwbYaOM"
      },
      "source": [
        "# Defining a neural network model by calling a function named model_call(). \n",
        "\n",
        "After the model is defined, the code plots a graphical representation of the model using the plot_model() function from the keras.utils module. \n",
        "\n",
        "The plot_model() function takes the model as an argument and plots the architecture of the model. \n",
        "\n",
        "The to_file argument is used to specify the name and location of the file where the plot will be saved. \n",
        "\n",
        "The show_shapes argument is set to True to indicate that the shapes of the model inputs and outputs should be displayed on the plot. The show_layer_names argument is set to True to indicate that the names of the model layers should be displayed on the plot."
      ]
    },
    {
      "cell_type": "code",
      "execution_count": null,
      "metadata": {
        "colab": {
          "background_save": true
        },
        "id": "hyr5MYInMutR"
      },
      "outputs": [],
      "source": [
        "# Initialize the model\n",
        "model1 = model_call()\n",
        "\n",
        "# Plot the model architecture\n",
        "# 'model_plot.png' is the file name to save the plot\n",
        "# 'show_shapes' argument is set to True to show the shapes of the layers in the plot\n",
        "# 'show_layer_names' argument is set to True to show the names of the layers in the plot\n",
        "plot_model(model1, to_file='model_plot.png', show_shapes=True, show_layer_names=True) "
      ]
    },
    {
      "attachments": {},
      "cell_type": "markdown",
      "metadata": {
        "id": "wgtvk3ZeNQ8F"
      },
      "source": [
        "# Training the Custom Model \n",
        "\n",
        "1. Imports the callbacks module from TensorFlow's Keras library.\n",
        "\n",
        "2. Initializes two lists, test_acc_per_fold and test_loss_per_fold to store the accuracy and loss per fold for testing.\n",
        "\n",
        "3. Initialized the Learning Rate Scheduler to lower learning rate of training if there is no improvement in the accuracy or loss values.\n",
        "\n",
        "4. Calls the model_call() function to create the model.\n",
        "\n",
        "5. Sets the number of epochs to 300.\n",
        "\n",
        "6. Fits the model on the training data using the train_generator generator, with 3 steps per epoch, 300 epochs, validation data from validation_generator, and the accstop callback. The number of validation steps is set to 1.\n",
        "\n",
        "7. Evaluates the model on the training data using train_generator.\n",
        "\n",
        "8. Evaluates the model on the validation data using validation_generator.\n",
        "\n",
        "9. Evaluates the model on the test data using test_generator.\n",
        "\n",
        "10. Finds the best accuracy, loss, validation accuracy, and validation loss from the history of the model training."
      ]
    },
    {
      "cell_type": "code",
      "execution_count": null,
      "metadata": {
        "colab": {
          "base_uri": "https://localhost:8080/"
        },
        "id": "EGsSROrdF69I",
        "outputId": "c21da198-faf7-4a47-8fa5-004ca26069af"
      },
      "outputs": [
        {
          "name": "stderr",
          "output_type": "stream",
          "text": [
            "/usr/local/lib/python3.7/dist-packages/keras/optimizer_v2/adam.py:105: UserWarning: The `lr` argument is deprecated, use `learning_rate` instead.\n",
            "  super(Adam, self).__init__(name, **kwargs)\n"
          ]
        },
        {
          "name": "stdout",
          "output_type": "stream",
          "text": [
            "Epoch 1/300\n",
            "3/3 [==============================] - 9s 3s/step - loss: 1.4829 - accuracy: 0.4321 - val_loss: 0.9778 - val_accuracy: 0.4500 - lr: 1.0000e-04\n",
            "Epoch 2/300\n",
            "3/3 [==============================] - 4s 2s/step - loss: 0.7962 - accuracy: 0.4938 - val_loss: 0.6417 - val_accuracy: 0.7000 - lr: 1.0000e-04\n",
            "Epoch 3/300\n",
            "3/3 [==============================] - 4s 2s/step - loss: 0.6194 - accuracy: 0.6129 - val_loss: 0.6342 - val_accuracy: 0.6500 - lr: 1.0000e-04\n",
            "Epoch 4/300\n",
            "3/3 [==============================] - 4s 2s/step - loss: 0.6841 - accuracy: 0.5645 - val_loss: 0.5899 - val_accuracy: 0.6500 - lr: 1.0000e-04\n",
            "Epoch 5/300\n",
            "3/3 [==============================] - 4s 2s/step - loss: 0.6182 - accuracy: 0.6049 - val_loss: 0.4668 - val_accuracy: 0.8500 - lr: 1.0000e-04\n",
            "Epoch 6/300\n",
            "3/3 [==============================] - 5s 2s/step - loss: 0.6428 - accuracy: 0.6296 - val_loss: 0.5185 - val_accuracy: 0.7000 - lr: 1.0000e-04\n",
            "Epoch 7/300\n",
            "3/3 [==============================] - 5s 2s/step - loss: 0.5466 - accuracy: 0.6790 - val_loss: 0.6760 - val_accuracy: 0.6000 - lr: 1.0000e-04\n",
            "Epoch 8/300\n",
            "3/3 [==============================] - 4s 2s/step - loss: 0.6106 - accuracy: 0.6667 - val_loss: 0.7495 - val_accuracy: 0.6000 - lr: 1.0000e-04\n",
            "Epoch 9/300\n",
            "3/3 [==============================] - 4s 2s/step - loss: 0.4649 - accuracy: 0.7901 - val_loss: 0.5577 - val_accuracy: 0.6500 - lr: 1.0000e-04\n",
            "Epoch 10/300\n",
            "3/3 [==============================] - 4s 2s/step - loss: 0.4959 - accuracy: 0.7160 - val_loss: 0.3877 - val_accuracy: 0.8500 - lr: 1.0000e-04\n",
            "Epoch 11/300\n",
            "3/3 [==============================] - 5s 2s/step - loss: 0.4083 - accuracy: 0.7901 - val_loss: 0.7060 - val_accuracy: 0.7000 - lr: 1.0000e-04\n",
            "Epoch 12/300\n",
            "3/3 [==============================] - 4s 2s/step - loss: 0.5105 - accuracy: 0.7531 - val_loss: 0.5611 - val_accuracy: 0.6500 - lr: 1.0000e-04\n",
            "Epoch 13/300\n",
            "3/3 [==============================] - 5s 2s/step - loss: 0.5648 - accuracy: 0.6914 - val_loss: 0.7763 - val_accuracy: 0.5000 - lr: 1.0000e-04\n",
            "Epoch 14/300\n",
            "3/3 [==============================] - 4s 2s/step - loss: 0.5205 - accuracy: 0.6914 - val_loss: 0.6186 - val_accuracy: 0.6500 - lr: 1.0000e-04\n",
            "Epoch 15/300\n",
            "3/3 [==============================] - 4s 2s/step - loss: 0.4726 - accuracy: 0.7654 - val_loss: 0.6038 - val_accuracy: 0.6500 - lr: 1.0000e-04\n",
            "Epoch 16/300\n",
            "3/3 [==============================] - 4s 2s/step - loss: 0.4257 - accuracy: 0.7778 - val_loss: 0.5800 - val_accuracy: 0.7500 - lr: 1.0000e-04\n",
            "Epoch 17/300\n",
            "3/3 [==============================] - 4s 2s/step - loss: 0.3890 - accuracy: 0.8642 - val_loss: 0.4142 - val_accuracy: 0.8500 - lr: 1.0000e-04\n",
            "Epoch 18/300\n",
            "3/3 [==============================] - 4s 2s/step - loss: 0.5378 - accuracy: 0.7407 - val_loss: 0.4542 - val_accuracy: 0.8500 - lr: 1.0000e-04\n",
            "Epoch 19/300\n",
            "3/3 [==============================] - 4s 2s/step - loss: 0.4386 - accuracy: 0.8025 - val_loss: 0.3340 - val_accuracy: 0.8500 - lr: 1.0000e-04\n",
            "Epoch 20/300\n",
            "3/3 [==============================] - 4s 2s/step - loss: 0.5512 - accuracy: 0.7531 - val_loss: 0.5812 - val_accuracy: 0.6500 - lr: 1.0000e-04\n",
            "Epoch 21/300\n",
            "3/3 [==============================] - 5s 2s/step - loss: 0.4227 - accuracy: 0.7901 - val_loss: 0.4707 - val_accuracy: 0.7000 - lr: 1.0000e-04\n",
            "Epoch 22/300\n",
            "3/3 [==============================] - 4s 2s/step - loss: 0.4839 - accuracy: 0.7778 - val_loss: 0.4563 - val_accuracy: 0.7500 - lr: 1.0000e-04\n",
            "Epoch 23/300\n",
            "3/3 [==============================] - 4s 2s/step - loss: 0.4560 - accuracy: 0.7778 - val_loss: 0.3773 - val_accuracy: 0.8000 - lr: 1.0000e-04\n",
            "Epoch 24/300\n",
            "3/3 [==============================] - ETA: 0s - loss: 0.3602 - accuracy: 0.8519\n",
            "Reached 90% validation accuracy mark!\n",
            "3/3 [==============================] - 4s 2s/step - loss: 0.3602 - accuracy: 0.8519 - val_loss: 0.3759 - val_accuracy: 0.9000 - lr: 1.0000e-04\n",
            "Epoch 25/300\n",
            "3/3 [==============================] - 4s 1s/step - loss: 0.4240 - accuracy: 0.7903 - val_loss: 0.6142 - val_accuracy: 0.6500 - lr: 1.0000e-04\n",
            "Epoch 26/300\n",
            "3/3 [==============================] - 4s 2s/step - loss: 0.3531 - accuracy: 0.8272 - val_loss: 0.6272 - val_accuracy: 0.7500 - lr: 1.0000e-04\n",
            "Epoch 27/300\n",
            "3/3 [==============================] - 4s 2s/step - loss: 0.4503 - accuracy: 0.8148 - val_loss: 0.4367 - val_accuracy: 0.8000 - lr: 1.0000e-04\n",
            "Epoch 28/300\n",
            "3/3 [==============================] - 4s 2s/step - loss: 0.5126 - accuracy: 0.7284 - val_loss: 0.4910 - val_accuracy: 0.7500 - lr: 1.0000e-04\n",
            "Epoch 29/300\n",
            "3/3 [==============================] - 5s 2s/step - loss: 0.3045 - accuracy: 0.8889 - val_loss: 0.5218 - val_accuracy: 0.7000 - lr: 1.0000e-04\n",
            "Epoch 30/300\n",
            "3/3 [==============================] - 4s 2s/step - loss: 0.3407 - accuracy: 0.8642 - val_loss: 0.4490 - val_accuracy: 0.8000 - lr: 1.0000e-04\n",
            "Epoch 31/300\n",
            "3/3 [==============================] - 5s 2s/step - loss: 0.4566 - accuracy: 0.7284 - val_loss: 0.4638 - val_accuracy: 0.8000 - lr: 1.0000e-04\n",
            "Epoch 32/300\n",
            "3/3 [==============================] - 4s 2s/step - loss: 0.4820 - accuracy: 0.8025 - val_loss: 0.5829 - val_accuracy: 0.6000 - lr: 1.0000e-04\n",
            "Epoch 33/300\n",
            "3/3 [==============================] - 4s 1s/step - loss: 0.4039 - accuracy: 0.7581 - val_loss: 0.7662 - val_accuracy: 0.6000 - lr: 1.0000e-04\n",
            "Epoch 34/300\n",
            "3/3 [==============================] - 4s 2s/step - loss: 0.5133 - accuracy: 0.7901 - val_loss: 0.4169 - val_accuracy: 0.8500 - lr: 1.0000e-04\n",
            "Epoch 35/300\n",
            "3/3 [==============================] - 4s 2s/step - loss: 0.4579 - accuracy: 0.7407 - val_loss: 0.6379 - val_accuracy: 0.7500 - lr: 1.0000e-04\n",
            "Epoch 36/300\n",
            "3/3 [==============================] - 5s 2s/step - loss: 0.4528 - accuracy: 0.7531 - val_loss: 0.7422 - val_accuracy: 0.6500 - lr: 1.0000e-04\n",
            "Epoch 37/300\n",
            "3/3 [==============================] - 4s 2s/step - loss: 0.5073 - accuracy: 0.7778 - val_loss: 0.5475 - val_accuracy: 0.7000 - lr: 1.0000e-04\n",
            "Epoch 38/300\n",
            "3/3 [==============================] - 4s 2s/step - loss: 0.3838 - accuracy: 0.8642 - val_loss: 0.5576 - val_accuracy: 0.7000 - lr: 1.0000e-04\n",
            "Epoch 39/300\n",
            "3/3 [==============================] - 4s 2s/step - loss: 0.4909 - accuracy: 0.7901 - val_loss: 0.4386 - val_accuracy: 0.8500 - lr: 1.0000e-04\n",
            "Epoch 40/300\n",
            "3/3 [==============================] - 4s 2s/step - loss: 0.4608 - accuracy: 0.8025 - val_loss: 0.5995 - val_accuracy: 0.7000 - lr: 1.0000e-05\n",
            "Epoch 41/300\n",
            "3/3 [==============================] - 4s 2s/step - loss: 0.4964 - accuracy: 0.8025 - val_loss: 0.5574 - val_accuracy: 0.6500 - lr: 1.0000e-05\n",
            "Epoch 42/300\n",
            "3/3 [==============================] - 5s 2s/step - loss: 0.4014 - accuracy: 0.8395 - val_loss: 0.7630 - val_accuracy: 0.6000 - lr: 1.0000e-05\n",
            "Epoch 43/300\n",
            "3/3 [==============================] - 4s 2s/step - loss: 0.4025 - accuracy: 0.7778 - val_loss: 0.5810 - val_accuracy: 0.7000 - lr: 1.0000e-05\n",
            "Epoch 44/300\n",
            "3/3 [==============================] - 5s 2s/step - loss: 0.3650 - accuracy: 0.8148 - val_loss: 0.5798 - val_accuracy: 0.7000 - lr: 1.0000e-05\n",
            "Epoch 45/300\n",
            "3/3 [==============================] - 5s 2s/step - loss: 0.4101 - accuracy: 0.8148 - val_loss: 0.4886 - val_accuracy: 0.7500 - lr: 1.0000e-05\n",
            "Epoch 46/300\n",
            "3/3 [==============================] - 4s 2s/step - loss: 0.3099 - accuracy: 0.8765 - val_loss: 0.5469 - val_accuracy: 0.8500 - lr: 1.0000e-05\n",
            "Epoch 47/300\n",
            "3/3 [==============================] - 5s 2s/step - loss: 0.3020 - accuracy: 0.9259 - val_loss: 0.3573 - val_accuracy: 0.8500 - lr: 1.0000e-05\n",
            "Epoch 48/300\n",
            "3/3 [==============================] - 4s 1s/step - loss: 0.2296 - accuracy: 0.9194 - val_loss: 0.4864 - val_accuracy: 0.8000 - lr: 1.0000e-05\n",
            "Epoch 49/300\n",
            "3/3 [==============================] - 4s 2s/step - loss: 0.2874 - accuracy: 0.9136 - val_loss: 0.5580 - val_accuracy: 0.7000 - lr: 1.0000e-05\n",
            "Epoch 50/300\n",
            "3/3 [==============================] - 5s 2s/step - loss: 0.3985 - accuracy: 0.8148 - val_loss: 0.7026 - val_accuracy: 0.5000 - lr: 1.0000e-05\n",
            "Epoch 51/300\n",
            "3/3 [==============================] - 4s 1s/step - loss: 0.3905 - accuracy: 0.8387 - val_loss: 0.5916 - val_accuracy: 0.6500 - lr: 1.0000e-05\n",
            "Epoch 52/300\n",
            "3/3 [==============================] - 5s 2s/step - loss: 0.5243 - accuracy: 0.7901 - val_loss: 0.9327 - val_accuracy: 0.5000 - lr: 1.0000e-05\n",
            "Epoch 53/300\n",
            "3/3 [==============================] - 4s 2s/step - loss: 0.3464 - accuracy: 0.8395 - val_loss: 0.5541 - val_accuracy: 0.6500 - lr: 1.0000e-05\n",
            "Epoch 54/300\n",
            "3/3 [==============================] - 4s 2s/step - loss: 0.3347 - accuracy: 0.8889 - val_loss: 0.3278 - val_accuracy: 0.8500 - lr: 1.0000e-05\n",
            "Epoch 55/300\n",
            "3/3 [==============================] - 4s 2s/step - loss: 0.4120 - accuracy: 0.8148 - val_loss: 0.6380 - val_accuracy: 0.7000 - lr: 1.0000e-05\n",
            "Epoch 56/300\n",
            "3/3 [==============================] - 4s 2s/step - loss: 0.2791 - accuracy: 0.9012 - val_loss: 0.6902 - val_accuracy: 0.6500 - lr: 1.0000e-05\n",
            "Epoch 57/300\n",
            "3/3 [==============================] - 5s 2s/step - loss: 0.3596 - accuracy: 0.8519 - val_loss: 0.3510 - val_accuracy: 0.8000 - lr: 1.0000e-05\n",
            "Epoch 58/300\n",
            "3/3 [==============================] - 4s 2s/step - loss: 0.3274 - accuracy: 0.8642 - val_loss: 0.6402 - val_accuracy: 0.7500 - lr: 1.0000e-05\n",
            "Epoch 59/300\n",
            "3/3 [==============================] - 5s 2s/step - loss: 0.3876 - accuracy: 0.8395 - val_loss: 0.5530 - val_accuracy: 0.8000 - lr: 1.0000e-05\n",
            "Epoch 60/300\n",
            "3/3 [==============================] - 4s 2s/step - loss: 0.3216 - accuracy: 0.8387 - val_loss: 0.6136 - val_accuracy: 0.6500 - lr: 1.0000e-05\n",
            "Epoch 61/300\n",
            "3/3 [==============================] - 4s 2s/step - loss: 0.2882 - accuracy: 0.9032 - val_loss: 0.6064 - val_accuracy: 0.8000 - lr: 1.0000e-05\n",
            "Epoch 62/300\n",
            "3/3 [==============================] - 4s 2s/step - loss: 0.3026 - accuracy: 0.9012 - val_loss: 0.7963 - val_accuracy: 0.6000 - lr: 1.0000e-05\n",
            "Epoch 63/300\n",
            "3/3 [==============================] - 4s 2s/step - loss: 0.3025 - accuracy: 0.8519 - val_loss: 0.6534 - val_accuracy: 0.6500 - lr: 1.0000e-05\n",
            "Epoch 64/300\n",
            "3/3 [==============================] - 4s 2s/step - loss: 0.2756 - accuracy: 0.8889 - val_loss: 0.5589 - val_accuracy: 0.7000 - lr: 1.0000e-05\n",
            "Epoch 65/300\n",
            "3/3 [==============================] - ETA: 0s - loss: 0.3050 - accuracy: 0.8642\n",
            "Reached 90% validation accuracy mark!\n",
            "3/3 [==============================] - 4s 2s/step - loss: 0.3050 - accuracy: 0.8642 - val_loss: 0.3194 - val_accuracy: 0.9000 - lr: 1.0000e-05\n",
            "Epoch 66/300\n",
            "3/3 [==============================] - 4s 2s/step - loss: 0.3843 - accuracy: 0.8148 - val_loss: 0.6493 - val_accuracy: 0.6500 - lr: 1.0000e-05\n",
            "Epoch 67/300\n",
            "3/3 [==============================] - 4s 2s/step - loss: 0.3886 - accuracy: 0.8272 - val_loss: 0.7055 - val_accuracy: 0.7000 - lr: 1.0000e-05\n",
            "Epoch 68/300\n",
            "3/3 [==============================] - 4s 2s/step - loss: 0.4269 - accuracy: 0.8025 - val_loss: 0.5422 - val_accuracy: 0.7500 - lr: 1.0000e-05\n",
            "Epoch 69/300\n",
            "3/3 [==============================] - 4s 2s/step - loss: 0.3016 - accuracy: 0.9012 - val_loss: 0.3568 - val_accuracy: 0.8500 - lr: 1.0000e-05\n",
            "Epoch 70/300\n",
            "3/3 [==============================] - ETA: 0s - loss: 0.2415 - accuracy: 0.8889\n",
            "Reached 90% validation accuracy mark!\n",
            "3/3 [==============================] - 4s 2s/step - loss: 0.2415 - accuracy: 0.8889 - val_loss: 0.3552 - val_accuracy: 0.9000 - lr: 1.0000e-05\n",
            "Epoch 71/300\n",
            "3/3 [==============================] - 4s 2s/step - loss: 0.3227 - accuracy: 0.8642 - val_loss: 0.4479 - val_accuracy: 0.7000 - lr: 1.0000e-05\n",
            "Epoch 72/300\n",
            "3/3 [==============================] - 4s 2s/step - loss: 0.3178 - accuracy: 0.9012 - val_loss: 0.4466 - val_accuracy: 0.8000 - lr: 1.0000e-05\n",
            "Epoch 73/300\n",
            "3/3 [==============================] - 4s 2s/step - loss: 0.3000 - accuracy: 0.9012 - val_loss: 0.3952 - val_accuracy: 0.7500 - lr: 1.0000e-05\n",
            "Epoch 74/300\n",
            "3/3 [==============================] - 4s 2s/step - loss: 0.2925 - accuracy: 0.9259 - val_loss: 0.4961 - val_accuracy: 0.7500 - lr: 1.0000e-05\n",
            "Epoch 75/300\n",
            "3/3 [==============================] - ETA: 0s - loss: 0.4118 - accuracy: 0.7778\n",
            "Reached 90% validation accuracy mark!\n",
            "3/3 [==============================] - 4s 2s/step - loss: 0.4118 - accuracy: 0.7778 - val_loss: 0.2658 - val_accuracy: 0.9000 - lr: 1.0000e-05\n",
            "Epoch 76/300\n",
            "3/3 [==============================] - 4s 2s/step - loss: 0.2946 - accuracy: 0.9136 - val_loss: 0.3818 - val_accuracy: 0.7500 - lr: 1.0000e-05\n",
            "Epoch 77/300\n",
            "3/3 [==============================] - 4s 2s/step - loss: 0.2443 - accuracy: 0.9259 - val_loss: 0.6527 - val_accuracy: 0.6000 - lr: 1.0000e-05\n",
            "Epoch 78/300\n",
            "3/3 [==============================] - ETA: 0s - loss: 0.2809 - accuracy: 0.9012\n",
            "Reached 95% or more validation accuracy, training finished.\n",
            "3/3 [==============================] - 4s 2s/step - loss: 0.2809 - accuracy: 0.9012 - val_loss: 0.2298 - val_accuracy: 0.9500 - lr: 1.0000e-05\n",
            "Epoch 79/300\n",
            "3/3 [==============================] - 4s 2s/step - loss: 0.2943 - accuracy: 0.9012 - val_loss: 0.5209 - val_accuracy: 0.7500 - lr: 1.0000e-05\n",
            "Epoch 80/300\n",
            "3/3 [==============================] - 4s 2s/step - loss: 0.3946 - accuracy: 0.8226 - val_loss: 0.6132 - val_accuracy: 0.7000 - lr: 1.0000e-05\n",
            "Epoch 81/300\n",
            "3/3 [==============================] - 5s 2s/step - loss: 0.3893 - accuracy: 0.8519 - val_loss: 0.5620 - val_accuracy: 0.6000 - lr: 1.0000e-05\n",
            "Epoch 82/300\n",
            "3/3 [==============================] - ETA: 0s - loss: 0.2167 - accuracy: 0.9506\n",
            "Reached 95%  accuracy!\n",
            "3/3 [==============================] - 4s 2s/step - loss: 0.2167 - accuracy: 0.9506 - val_loss: 0.7179 - val_accuracy: 0.5500 - lr: 1.0000e-05\n",
            "Epoch 83/300\n",
            "3/3 [==============================] - 5s 2s/step - loss: 0.2541 - accuracy: 0.8765 - val_loss: 0.4139 - val_accuracy: 0.7500 - lr: 1.0000e-05\n",
            "Epoch 84/300\n",
            "3/3 [==============================] - 4s 2s/step - loss: 0.3227 - accuracy: 0.8519 - val_loss: 0.6703 - val_accuracy: 0.6000 - lr: 1.0000e-05\n",
            "Epoch 85/300\n",
            "3/3 [==============================] - 5s 2s/step - loss: 0.3121 - accuracy: 0.8889 - val_loss: 0.6425 - val_accuracy: 0.7500 - lr: 1.0000e-05\n",
            "Epoch 86/300\n",
            "3/3 [==============================] - 4s 2s/step - loss: 0.2550 - accuracy: 0.9012 - val_loss: 0.4013 - val_accuracy: 0.8500 - lr: 1.0000e-05\n",
            "Epoch 87/300\n",
            "3/3 [==============================] - 4s 2s/step - loss: 0.3009 - accuracy: 0.8395 - val_loss: 0.3667 - val_accuracy: 0.8500 - lr: 1.0000e-05\n",
            "Epoch 88/300\n",
            "3/3 [==============================] - 4s 2s/step - loss: 0.3232 - accuracy: 0.8642 - val_loss: 0.6683 - val_accuracy: 0.6000 - lr: 1.0000e-05\n",
            "Epoch 89/300\n",
            "3/3 [==============================] - 4s 2s/step - loss: 0.3803 - accuracy: 0.8272 - val_loss: 0.7192 - val_accuracy: 0.7000 - lr: 1.0000e-05\n",
            "Epoch 90/300\n",
            "3/3 [==============================] - 4s 1s/step - loss: 0.2569 - accuracy: 0.9194 - val_loss: 0.4696 - val_accuracy: 0.8000 - lr: 1.0000e-05\n",
            "Epoch 91/300\n",
            "3/3 [==============================] - 4s 1s/step - loss: 0.2932 - accuracy: 0.8548 - val_loss: 0.6311 - val_accuracy: 0.7500 - lr: 1.0000e-05\n",
            "Epoch 92/300\n",
            "3/3 [==============================] - 4s 2s/step - loss: 0.3867 - accuracy: 0.8148 - val_loss: 0.3699 - val_accuracy: 0.8500 - lr: 1.0000e-05\n",
            "Epoch 93/300\n",
            "3/3 [==============================] - 4s 1s/step - loss: 0.3443 - accuracy: 0.8548 - val_loss: 0.6435 - val_accuracy: 0.6500 - lr: 1.0000e-05\n",
            "Epoch 94/300\n",
            "3/3 [==============================] - 4s 2s/step - loss: 0.2853 - accuracy: 0.8765 - val_loss: 0.4918 - val_accuracy: 0.8000 - lr: 1.0000e-05\n",
            "Epoch 95/300\n",
            "3/3 [==============================] - 4s 2s/step - loss: 0.3178 - accuracy: 0.8395 - val_loss: 0.4734 - val_accuracy: 0.7000 - lr: 1.0000e-05\n",
            "Epoch 96/300\n",
            "3/3 [==============================] - 5s 2s/step - loss: 0.3180 - accuracy: 0.8519 - val_loss: 0.5547 - val_accuracy: 0.8000 - lr: 1.0000e-05\n",
            "Epoch 97/300\n",
            "3/3 [==============================] - 4s 2s/step - loss: 0.3010 - accuracy: 0.9012 - val_loss: 0.6730 - val_accuracy: 0.7500 - lr: 1.0000e-05\n",
            "Epoch 98/300\n",
            "3/3 [==============================] - 4s 2s/step - loss: 0.3478 - accuracy: 0.8519 - val_loss: 0.7363 - val_accuracy: 0.6500 - lr: 1.0000e-05\n",
            "Epoch 99/300\n",
            "3/3 [==============================] - 4s 2s/step - loss: 0.2339 - accuracy: 0.9383 - val_loss: 0.6051 - val_accuracy: 0.7000 - lr: 1.0000e-06\n",
            "Epoch 100/300\n",
            "3/3 [==============================] - 5s 2s/step - loss: 0.3531 - accuracy: 0.8642 - val_loss: 0.6438 - val_accuracy: 0.6500 - lr: 1.0000e-06\n",
            "Epoch 101/300\n",
            "3/3 [==============================] - ETA: 0s - loss: 0.1805 - accuracy: 0.9677\n",
            "Reached 95%  accuracy!\n",
            "3/3 [==============================] - 4s 1s/step - loss: 0.1805 - accuracy: 0.9677 - val_loss: 0.3813 - val_accuracy: 0.8500 - lr: 1.0000e-06\n",
            "Epoch 102/300\n",
            "3/3 [==============================] - 4s 2s/step - loss: 0.3195 - accuracy: 0.8519 - val_loss: 0.4247 - val_accuracy: 0.8000 - lr: 1.0000e-06\n",
            "Epoch 103/300\n",
            "3/3 [==============================] - 4s 2s/step - loss: 0.3251 - accuracy: 0.8765 - val_loss: 0.3532 - val_accuracy: 0.8500 - lr: 1.0000e-06\n",
            "Epoch 104/300\n",
            "3/3 [==============================] - 4s 2s/step - loss: 0.4430 - accuracy: 0.7778 - val_loss: 0.6743 - val_accuracy: 0.5500 - lr: 1.0000e-06\n",
            "Epoch 105/300\n",
            "3/3 [==============================] - 4s 2s/step - loss: 0.3245 - accuracy: 0.8519 - val_loss: 0.4949 - val_accuracy: 0.7500 - lr: 1.0000e-06\n",
            "Epoch 106/300\n",
            "3/3 [==============================] - 4s 2s/step - loss: 0.2968 - accuracy: 0.8889 - val_loss: 0.4283 - val_accuracy: 0.8000 - lr: 1.0000e-06\n",
            "Epoch 107/300\n",
            "3/3 [==============================] - 4s 2s/step - loss: 0.3368 - accuracy: 0.8519 - val_loss: 0.5556 - val_accuracy: 0.7500 - lr: 1.0000e-06\n",
            "Epoch 108/300\n",
            "3/3 [==============================] - 5s 2s/step - loss: 0.3450 - accuracy: 0.8395 - val_loss: 0.5360 - val_accuracy: 0.6500 - lr: 1.0000e-06\n",
            "Epoch 109/300\n",
            "3/3 [==============================] - 4s 2s/step - loss: 0.2731 - accuracy: 0.8519 - val_loss: 0.6863 - val_accuracy: 0.6500 - lr: 1.0000e-06\n",
            "Epoch 110/300\n",
            "3/3 [==============================] - 5s 2s/step - loss: 0.2654 - accuracy: 0.8889 - val_loss: 0.5258 - val_accuracy: 0.7500 - lr: 1.0000e-06\n",
            "Epoch 111/300\n",
            "3/3 [==============================] - 5s 2s/step - loss: 0.3196 - accuracy: 0.8765 - val_loss: 0.3542 - val_accuracy: 0.8000 - lr: 1.0000e-06\n",
            "Epoch 112/300\n",
            "3/3 [==============================] - 5s 2s/step - loss: 0.3786 - accuracy: 0.8148 - val_loss: 0.3845 - val_accuracy: 0.7500 - lr: 1.0000e-06\n",
            "Epoch 113/300\n",
            "3/3 [==============================] - 4s 2s/step - loss: 0.3618 - accuracy: 0.8519 - val_loss: 0.5393 - val_accuracy: 0.7000 - lr: 1.0000e-06\n",
            "Epoch 114/300\n",
            "3/3 [==============================] - 4s 1s/step - loss: 0.2921 - accuracy: 0.9194 - val_loss: 0.5064 - val_accuracy: 0.7500 - lr: 1.0000e-06\n",
            "Epoch 115/300\n",
            "3/3 [==============================] - 5s 2s/step - loss: 0.2362 - accuracy: 0.8765 - val_loss: 0.5085 - val_accuracy: 0.7500 - lr: 1.0000e-06\n",
            "Epoch 116/300\n",
            "3/3 [==============================] - 4s 2s/step - loss: 0.3201 - accuracy: 0.8642 - val_loss: 0.5450 - val_accuracy: 0.7500 - lr: 1.0000e-06\n",
            "Epoch 117/300\n",
            "3/3 [==============================] - 4s 2s/step - loss: 0.2802 - accuracy: 0.8765 - val_loss: 0.3429 - val_accuracy: 0.8500 - lr: 1.0000e-06\n",
            "Epoch 118/300\n",
            "3/3 [==============================] - 4s 2s/step - loss: 0.2020 - accuracy: 0.9259 - val_loss: 0.4664 - val_accuracy: 0.7500 - lr: 1.0000e-06\n",
            "Epoch 119/300\n",
            "3/3 [==============================] - 4s 1s/step - loss: 0.3072 - accuracy: 0.8387 - val_loss: 0.5683 - val_accuracy: 0.7000 - lr: 1.0000e-07\n",
            "Epoch 120/300\n",
            "3/3 [==============================] - ETA: 0s - loss: 0.2934 - accuracy: 0.8765\n",
            "Reached 90% validation accuracy mark!\n",
            "3/3 [==============================] - 4s 2s/step - loss: 0.2934 - accuracy: 0.8765 - val_loss: 0.3493 - val_accuracy: 0.9000 - lr: 1.0000e-07\n",
            "Epoch 121/300\n",
            "3/3 [==============================] - 4s 2s/step - loss: 0.3120 - accuracy: 0.8889 - val_loss: 0.5525 - val_accuracy: 0.7000 - lr: 1.0000e-07\n",
            "Epoch 122/300\n",
            "3/3 [==============================] - 4s 2s/step - loss: 0.3248 - accuracy: 0.8642 - val_loss: 0.5366 - val_accuracy: 0.7500 - lr: 1.0000e-07\n",
            "Epoch 123/300\n",
            "3/3 [==============================] - 4s 2s/step - loss: 0.1959 - accuracy: 0.9383 - val_loss: 0.5619 - val_accuracy: 0.6500 - lr: 1.0000e-07\n",
            "Epoch 124/300\n",
            "3/3 [==============================] - 4s 1s/step - loss: 0.3829 - accuracy: 0.8387 - val_loss: 0.4351 - val_accuracy: 0.8500 - lr: 1.0000e-07\n",
            "Epoch 125/300\n",
            "3/3 [==============================] - 4s 2s/step - loss: 0.2273 - accuracy: 0.9383 - val_loss: 0.5544 - val_accuracy: 0.7000 - lr: 1.0000e-07\n",
            "Epoch 126/300\n",
            "3/3 [==============================] - 4s 2s/step - loss: 0.3124 - accuracy: 0.8889 - val_loss: 0.5188 - val_accuracy: 0.7000 - lr: 1.0000e-07\n",
            "Epoch 127/300\n",
            "3/3 [==============================] - 4s 2s/step - loss: 0.2327 - accuracy: 0.9136 - val_loss: 0.2917 - val_accuracy: 0.8500 - lr: 1.0000e-07\n",
            "Epoch 128/300\n",
            "3/3 [==============================] - 4s 2s/step - loss: 0.3243 - accuracy: 0.8272 - val_loss: 0.3846 - val_accuracy: 0.8500 - lr: 1.0000e-07\n",
            "Epoch 129/300\n",
            "3/3 [==============================] - 4s 2s/step - loss: 0.2962 - accuracy: 0.8765 - val_loss: 0.7067 - val_accuracy: 0.6500 - lr: 1.0000e-07\n",
            "Epoch 130/300\n",
            "3/3 [==============================] - 4s 2s/step - loss: 0.3242 - accuracy: 0.8272 - val_loss: 0.5871 - val_accuracy: 0.7500 - lr: 1.0000e-07\n",
            "Epoch 131/300\n",
            "3/3 [==============================] - ETA: 0s - loss: 0.2982 - accuracy: 0.8548\n",
            "Reached 90% validation accuracy mark!\n",
            "3/3 [==============================] - 4s 1s/step - loss: 0.2982 - accuracy: 0.8548 - val_loss: 0.3426 - val_accuracy: 0.9000 - lr: 1.0000e-07\n",
            "Epoch 132/300\n",
            "3/3 [==============================] - 5s 2s/step - loss: 0.2096 - accuracy: 0.9259 - val_loss: 0.4422 - val_accuracy: 0.8000 - lr: 1.0000e-07\n",
            "Epoch 133/300\n",
            "3/3 [==============================] - 4s 2s/step - loss: 0.3035 - accuracy: 0.8519 - val_loss: 0.5581 - val_accuracy: 0.7000 - lr: 1.0000e-07\n",
            "Epoch 134/300\n",
            "3/3 [==============================] - 4s 2s/step - loss: 0.3194 - accuracy: 0.8642 - val_loss: 0.7341 - val_accuracy: 0.6500 - lr: 1.0000e-07\n",
            "Epoch 135/300\n",
            "3/3 [==============================] - 5s 2s/step - loss: 0.3189 - accuracy: 0.8642 - val_loss: 0.5336 - val_accuracy: 0.7000 - lr: 1.0000e-07\n",
            "Epoch 136/300\n",
            "3/3 [==============================] - 4s 2s/step - loss: 0.2875 - accuracy: 0.8889 - val_loss: 0.5067 - val_accuracy: 0.7500 - lr: 1.0000e-07\n",
            "Epoch 137/300\n",
            "3/3 [==============================] - 4s 2s/step - loss: 0.2597 - accuracy: 0.9136 - val_loss: 0.6903 - val_accuracy: 0.5000 - lr: 1.0000e-07\n",
            "Epoch 138/300\n",
            "3/3 [==============================] - 5s 2s/step - loss: 0.2669 - accuracy: 0.9136 - val_loss: 0.5582 - val_accuracy: 0.8000 - lr: 1.0000e-07\n",
            "Epoch 139/300\n",
            "3/3 [==============================] - 4s 2s/step - loss: 0.2460 - accuracy: 0.9136 - val_loss: 0.5290 - val_accuracy: 0.8000 - lr: 1.0000e-08\n",
            "Epoch 140/300\n",
            "3/3 [==============================] - 4s 2s/step - loss: 0.3471 - accuracy: 0.8765 - val_loss: 0.5923 - val_accuracy: 0.5500 - lr: 1.0000e-08\n",
            "Epoch 141/300\n",
            "3/3 [==============================] - 4s 2s/step - loss: 0.2418 - accuracy: 0.9012 - val_loss: 0.4450 - val_accuracy: 0.8500 - lr: 1.0000e-08\n",
            "Epoch 142/300\n",
            "3/3 [==============================] - 4s 2s/step - loss: 0.3287 - accuracy: 0.8765 - val_loss: 0.5752 - val_accuracy: 0.6500 - lr: 1.0000e-08\n",
            "Epoch 143/300\n",
            "3/3 [==============================] - 4s 2s/step - loss: 0.3748 - accuracy: 0.7654 - val_loss: 0.7151 - val_accuracy: 0.6000 - lr: 1.0000e-08\n",
            "Epoch 144/300\n",
            "3/3 [==============================] - 4s 2s/step - loss: 0.3207 - accuracy: 0.8642 - val_loss: 0.7164 - val_accuracy: 0.8000 - lr: 1.0000e-08\n",
            "Epoch 145/300\n",
            "3/3 [==============================] - 4s 1s/step - loss: 0.3143 - accuracy: 0.9194 - val_loss: 0.3670 - val_accuracy: 0.8500 - lr: 1.0000e-08\n",
            "Epoch 146/300\n",
            "3/3 [==============================] - 4s 2s/step - loss: 0.2653 - accuracy: 0.9012 - val_loss: 0.7461 - val_accuracy: 0.5500 - lr: 1.0000e-08\n",
            "Epoch 147/300\n",
            "3/3 [==============================] - 5s 2s/step - loss: 0.2643 - accuracy: 0.9012 - val_loss: 0.5567 - val_accuracy: 0.7500 - lr: 1.0000e-08\n",
            "Epoch 148/300\n",
            "3/3 [==============================] - 4s 1s/step - loss: 0.3311 - accuracy: 0.8871 - val_loss: 0.5806 - val_accuracy: 0.7500 - lr: 1.0000e-08\n",
            "Epoch 149/300\n",
            "3/3 [==============================] - 4s 2s/step - loss: 0.3115 - accuracy: 0.8765 - val_loss: 0.5512 - val_accuracy: 0.7000 - lr: 1.0000e-08\n",
            "Epoch 150/300\n",
            "3/3 [==============================] - 4s 2s/step - loss: 0.3699 - accuracy: 0.8148 - val_loss: 0.7220 - val_accuracy: 0.7500 - lr: 1.0000e-08\n",
            "Epoch 151/300\n",
            "3/3 [==============================] - 4s 2s/step - loss: 0.2768 - accuracy: 0.9136 - val_loss: 0.4409 - val_accuracy: 0.7500 - lr: 1.0000e-08\n",
            "Epoch 152/300\n",
            "3/3 [==============================] - 4s 2s/step - loss: 0.3346 - accuracy: 0.9012 - val_loss: 0.4198 - val_accuracy: 0.8500 - lr: 1.0000e-08\n",
            "Epoch 153/300\n",
            "3/3 [==============================] - 4s 2s/step - loss: 0.3743 - accuracy: 0.8889 - val_loss: 0.3796 - val_accuracy: 0.8000 - lr: 1.0000e-08\n",
            "Epoch 154/300\n",
            "3/3 [==============================] - 4s 2s/step - loss: 0.2674 - accuracy: 0.8889 - val_loss: 0.6745 - val_accuracy: 0.6000 - lr: 1.0000e-08\n",
            "Epoch 155/300\n",
            "3/3 [==============================] - 4s 2s/step - loss: 0.3367 - accuracy: 0.8765 - val_loss: 0.4051 - val_accuracy: 0.7500 - lr: 1.0000e-08\n",
            "Epoch 156/300\n",
            "3/3 [==============================] - 4s 2s/step - loss: 0.2586 - accuracy: 0.8889 - val_loss: 0.5527 - val_accuracy: 0.7000 - lr: 1.0000e-08\n",
            "Epoch 157/300\n",
            "3/3 [==============================] - 4s 2s/step - loss: 0.3358 - accuracy: 0.8519 - val_loss: 0.4281 - val_accuracy: 0.8000 - lr: 1.0000e-08\n",
            "Epoch 158/300\n",
            "3/3 [==============================] - 5s 2s/step - loss: 0.2764 - accuracy: 0.9259 - val_loss: 0.4374 - val_accuracy: 0.8000 - lr: 1.0000e-08\n",
            "Epoch 159/300\n",
            "3/3 [==============================] - 4s 2s/step - loss: 0.2418 - accuracy: 0.9012 - val_loss: 0.5274 - val_accuracy: 0.8500 - lr: 1.0000e-09\n",
            "Epoch 160/300\n",
            "3/3 [==============================] - 5s 2s/step - loss: 0.2960 - accuracy: 0.8642 - val_loss: 0.4920 - val_accuracy: 0.6500 - lr: 1.0000e-09\n",
            "Epoch 161/300\n",
            "3/3 [==============================] - 4s 2s/step - loss: 0.2596 - accuracy: 0.8642 - val_loss: 0.6832 - val_accuracy: 0.5500 - lr: 1.0000e-09\n",
            "Epoch 162/300\n",
            "3/3 [==============================] - 4s 2s/step - loss: 0.1979 - accuracy: 0.9136 - val_loss: 0.6122 - val_accuracy: 0.7500 - lr: 1.0000e-09\n",
            "Epoch 163/300\n",
            "3/3 [==============================] - 5s 2s/step - loss: 0.2533 - accuracy: 0.9012 - val_loss: 0.4798 - val_accuracy: 0.7500 - lr: 1.0000e-09\n",
            "Epoch 164/300\n",
            "3/3 [==============================] - 4s 2s/step - loss: 0.3073 - accuracy: 0.8642 - val_loss: 0.4693 - val_accuracy: 0.7000 - lr: 1.0000e-09\n",
            "Epoch 165/300\n",
            "3/3 [==============================] - 4s 2s/step - loss: 0.2886 - accuracy: 0.8395 - val_loss: 0.5055 - val_accuracy: 0.8000 - lr: 1.0000e-09\n",
            "Epoch 166/300\n",
            "3/3 [==============================] - 4s 2s/step - loss: 0.3285 - accuracy: 0.8148 - val_loss: 0.4915 - val_accuracy: 0.7000 - lr: 1.0000e-09\n",
            "Epoch 167/300\n",
            "3/3 [==============================] - 4s 2s/step - loss: 0.2500 - accuracy: 0.8765 - val_loss: 0.3814 - val_accuracy: 0.8500 - lr: 1.0000e-09\n",
            "Epoch 168/300\n",
            "3/3 [==============================] - 4s 2s/step - loss: 0.4748 - accuracy: 0.8025 - val_loss: 0.4710 - val_accuracy: 0.8000 - lr: 1.0000e-09\n",
            "Epoch 169/300\n",
            "3/3 [==============================] - 5s 2s/step - loss: 0.3727 - accuracy: 0.8519 - val_loss: 0.4969 - val_accuracy: 0.8000 - lr: 1.0000e-09\n",
            "Epoch 170/300\n",
            "3/3 [==============================] - 4s 2s/step - loss: 0.2662 - accuracy: 0.9136 - val_loss: 0.4316 - val_accuracy: 0.8500 - lr: 1.0000e-09\n",
            "Epoch 171/300\n",
            "3/3 [==============================] - 4s 2s/step - loss: 0.3322 - accuracy: 0.8272 - val_loss: 0.5914 - val_accuracy: 0.7000 - lr: 1.0000e-09\n",
            "Epoch 172/300\n",
            "3/3 [==============================] - 4s 2s/step - loss: 0.3095 - accuracy: 0.8765 - val_loss: 0.5104 - val_accuracy: 0.7000 - lr: 1.0000e-09\n",
            "Epoch 173/300\n",
            "3/3 [==============================] - ETA: 0s - loss: 0.3284 - accuracy: 0.9032\n",
            "Reached 90% validation accuracy mark!\n",
            "3/3 [==============================] - 4s 2s/step - loss: 0.3284 - accuracy: 0.9032 - val_loss: 0.2850 - val_accuracy: 0.9000 - lr: 1.0000e-09\n",
            "Epoch 174/300\n",
            "3/3 [==============================] - 4s 2s/step - loss: 0.3692 - accuracy: 0.8395 - val_loss: 0.5510 - val_accuracy: 0.7000 - lr: 1.0000e-09\n",
            "Epoch 175/300\n",
            "3/3 [==============================] - 4s 2s/step - loss: 0.3488 - accuracy: 0.8395 - val_loss: 0.5933 - val_accuracy: 0.7000 - lr: 1.0000e-09\n",
            "Epoch 176/300\n",
            "3/3 [==============================] - 4s 2s/step - loss: 0.3346 - accuracy: 0.8642 - val_loss: 0.3524 - val_accuracy: 0.8500 - lr: 1.0000e-09\n",
            "Epoch 177/300\n",
            "3/3 [==============================] - 4s 2s/step - loss: 0.2453 - accuracy: 0.9136 - val_loss: 0.5461 - val_accuracy: 0.7000 - lr: 1.0000e-09\n",
            "Epoch 178/300\n",
            "3/3 [==============================] - 4s 2s/step - loss: 0.2261 - accuracy: 0.9383 - val_loss: 0.6817 - val_accuracy: 0.6000 - lr: 1.0000e-09\n",
            "Epoch 179/300\n",
            "3/3 [==============================] - 4s 2s/step - loss: 0.3086 - accuracy: 0.8889 - val_loss: 0.7147 - val_accuracy: 0.6500 - lr: 1.0000e-10\n",
            "Epoch 180/300\n",
            "3/3 [==============================] - 4s 2s/step - loss: 0.2624 - accuracy: 0.9012 - val_loss: 0.4207 - val_accuracy: 0.7500 - lr: 1.0000e-10\n",
            "Epoch 181/300\n",
            "3/3 [==============================] - 4s 2s/step - loss: 0.2359 - accuracy: 0.8889 - val_loss: 0.4711 - val_accuracy: 0.7500 - lr: 1.0000e-10\n",
            "Epoch 182/300\n",
            "3/3 [==============================] - 4s 2s/step - loss: 0.4434 - accuracy: 0.8025 - val_loss: 0.5468 - val_accuracy: 0.7500 - lr: 1.0000e-10\n",
            "Epoch 183/300\n",
            "3/3 [==============================] - 5s 2s/step - loss: 0.2171 - accuracy: 0.9383 - val_loss: 0.4653 - val_accuracy: 0.7500 - lr: 1.0000e-10\n",
            "Epoch 184/300\n",
            "3/3 [==============================] - 4s 2s/step - loss: 0.3319 - accuracy: 0.8765 - val_loss: 0.6469 - val_accuracy: 0.7000 - lr: 1.0000e-10\n",
            "Epoch 185/300\n",
            "3/3 [==============================] - 4s 2s/step - loss: 0.3053 - accuracy: 0.8765 - val_loss: 0.6216 - val_accuracy: 0.7500 - lr: 1.0000e-10\n",
            "Epoch 186/300\n",
            "3/3 [==============================] - 5s 2s/step - loss: 0.2849 - accuracy: 0.8765 - val_loss: 0.6485 - val_accuracy: 0.6000 - lr: 1.0000e-10\n",
            "Epoch 187/300\n",
            "3/3 [==============================] - 4s 2s/step - loss: 0.4320 - accuracy: 0.8025 - val_loss: 0.4810 - val_accuracy: 0.7500 - lr: 1.0000e-10\n",
            "Epoch 188/300\n",
            "3/3 [==============================] - 4s 2s/step - loss: 0.3433 - accuracy: 0.8642 - val_loss: 0.6273 - val_accuracy: 0.7000 - lr: 1.0000e-10\n",
            "Epoch 189/300\n",
            "3/3 [==============================] - ETA: 0s - loss: 0.2061 - accuracy: 0.9506\n",
            "Reached 95%  accuracy!\n",
            "3/3 [==============================] - 5s 2s/step - loss: 0.2061 - accuracy: 0.9506 - val_loss: 0.6964 - val_accuracy: 0.6500 - lr: 1.0000e-10\n",
            "Epoch 190/300\n",
            "3/3 [==============================] - 4s 2s/step - loss: 0.3143 - accuracy: 0.8519 - val_loss: 0.4604 - val_accuracy: 0.8500 - lr: 1.0000e-10\n",
            "Epoch 191/300\n",
            "3/3 [==============================] - 5s 2s/step - loss: 0.2289 - accuracy: 0.9136 - val_loss: 0.5328 - val_accuracy: 0.6500 - lr: 1.0000e-10\n",
            "Epoch 192/300\n",
            "3/3 [==============================] - ETA: 0s - loss: 0.2633 - accuracy: 0.8889\n",
            "Reached 90% validation accuracy mark!\n",
            "3/3 [==============================] - 4s 2s/step - loss: 0.2633 - accuracy: 0.8889 - val_loss: 0.3114 - val_accuracy: 0.9000 - lr: 1.0000e-10\n",
            "Epoch 193/300\n",
            "3/3 [==============================] - 4s 2s/step - loss: 0.2878 - accuracy: 0.8765 - val_loss: 0.4406 - val_accuracy: 0.8000 - lr: 1.0000e-10\n",
            "Epoch 194/300\n",
            "3/3 [==============================] - 4s 2s/step - loss: 0.2935 - accuracy: 0.8519 - val_loss: 0.3336 - val_accuracy: 0.8500 - lr: 1.0000e-10\n",
            "Epoch 195/300\n",
            "3/3 [==============================] - 4s 2s/step - loss: 0.3995 - accuracy: 0.8519 - val_loss: 0.4101 - val_accuracy: 0.8000 - lr: 1.0000e-10\n",
            "Epoch 196/300\n",
            "3/3 [==============================] - 4s 2s/step - loss: 0.2529 - accuracy: 0.9012 - val_loss: 0.6946 - val_accuracy: 0.6500 - lr: 1.0000e-10\n",
            "Epoch 197/300\n",
            "3/3 [==============================] - 4s 2s/step - loss: 0.3111 - accuracy: 0.8642 - val_loss: 0.5629 - val_accuracy: 0.7000 - lr: 1.0000e-10\n",
            "Epoch 198/300\n",
            "3/3 [==============================] - 4s 2s/step - loss: 0.2764 - accuracy: 0.8871 - val_loss: 0.4752 - val_accuracy: 0.7000 - lr: 1.0000e-10\n",
            "Epoch 199/300\n",
            "3/3 [==============================] - 4s 2s/step - loss: 0.3059 - accuracy: 0.9136 - val_loss: 0.6355 - val_accuracy: 0.6500 - lr: 1.0000e-11\n",
            "Epoch 200/300\n",
            "3/3 [==============================] - ETA: 0s - loss: 0.2279 - accuracy: 0.8889\n",
            "Reached 95% or more validation accuracy, training finished.\n",
            "3/3 [==============================] - 5s 2s/step - loss: 0.2279 - accuracy: 0.8889 - val_loss: 0.2922 - val_accuracy: 0.9500 - lr: 1.0000e-11\n",
            "Epoch 201/300\n",
            "3/3 [==============================] - 4s 2s/step - loss: 0.3199 - accuracy: 0.8272 - val_loss: 0.5324 - val_accuracy: 0.8000 - lr: 1.0000e-11\n",
            "Epoch 202/300\n",
            "3/3 [==============================] - 4s 2s/step - loss: 0.2257 - accuracy: 0.9136 - val_loss: 0.8013 - val_accuracy: 0.5500 - lr: 1.0000e-11\n",
            "Epoch 203/300\n",
            "3/3 [==============================] - 5s 2s/step - loss: 0.2958 - accuracy: 0.8765 - val_loss: 0.5107 - val_accuracy: 0.8000 - lr: 1.0000e-11\n",
            "Epoch 204/300\n",
            "3/3 [==============================] - 4s 2s/step - loss: 0.3041 - accuracy: 0.8642 - val_loss: 0.5682 - val_accuracy: 0.6500 - lr: 1.0000e-11\n",
            "Epoch 205/300\n",
            "3/3 [==============================] - 4s 2s/step - loss: 0.3128 - accuracy: 0.8765 - val_loss: 0.5643 - val_accuracy: 0.8000 - lr: 1.0000e-11\n",
            "Epoch 206/300\n",
            "3/3 [==============================] - 5s 2s/step - loss: 0.3547 - accuracy: 0.8272 - val_loss: 0.4994 - val_accuracy: 0.7500 - lr: 1.0000e-11\n",
            "Epoch 207/300\n",
            "3/3 [==============================] - ETA: 0s - loss: 0.2480 - accuracy: 0.9012\n",
            "Reached 90% validation accuracy mark!\n",
            "3/3 [==============================] - 4s 2s/step - loss: 0.2480 - accuracy: 0.9012 - val_loss: 0.2696 - val_accuracy: 0.9000 - lr: 1.0000e-11\n",
            "Epoch 208/300\n",
            "3/3 [==============================] - 5s 2s/step - loss: 0.2918 - accuracy: 0.9012 - val_loss: 0.4814 - val_accuracy: 0.8000 - lr: 1.0000e-11\n",
            "Epoch 209/300\n",
            "3/3 [==============================] - 4s 2s/step - loss: 0.2111 - accuracy: 0.9136 - val_loss: 0.4008 - val_accuracy: 0.8500 - lr: 1.0000e-11\n",
            "Epoch 210/300\n",
            "3/3 [==============================] - 5s 2s/step - loss: 0.3020 - accuracy: 0.8642 - val_loss: 0.3885 - val_accuracy: 0.8000 - lr: 1.0000e-11\n",
            "Epoch 211/300\n",
            "3/3 [==============================] - ETA: 0s - loss: 0.2513 - accuracy: 0.9516\n",
            "Reached 95%  accuracy!\n",
            "3/3 [==============================] - 4s 1s/step - loss: 0.2513 - accuracy: 0.9516 - val_loss: 0.4368 - val_accuracy: 0.8500 - lr: 1.0000e-11\n",
            "Epoch 212/300\n",
            "3/3 [==============================] - 4s 2s/step - loss: 0.3370 - accuracy: 0.8519 - val_loss: 0.7273 - val_accuracy: 0.6000 - lr: 1.0000e-11\n",
            "Epoch 213/300\n",
            "3/3 [==============================] - ETA: 0s - loss: 0.3158 - accuracy: 0.8519\n",
            "Reached 90% validation accuracy mark!\n",
            "3/3 [==============================] - 4s 2s/step - loss: 0.3158 - accuracy: 0.8519 - val_loss: 0.3165 - val_accuracy: 0.9000 - lr: 1.0000e-11\n",
            "Epoch 214/300\n",
            "3/3 [==============================] - 4s 2s/step - loss: 0.3045 - accuracy: 0.8642 - val_loss: 0.4475 - val_accuracy: 0.8000 - lr: 1.0000e-11\n",
            "Epoch 215/300\n",
            "3/3 [==============================] - 4s 2s/step - loss: 0.2655 - accuracy: 0.8889 - val_loss: 0.5424 - val_accuracy: 0.7000 - lr: 1.0000e-11\n",
            "Epoch 216/300\n",
            "3/3 [==============================] - 4s 2s/step - loss: 0.3187 - accuracy: 0.8889 - val_loss: 0.6035 - val_accuracy: 0.8000 - lr: 1.0000e-11\n",
            "Epoch 217/300\n",
            "3/3 [==============================] - 5s 2s/step - loss: 0.2400 - accuracy: 0.9136 - val_loss: 0.4413 - val_accuracy: 0.8000 - lr: 1.0000e-11\n",
            "Epoch 218/300\n",
            "3/3 [==============================] - 5s 2s/step - loss: 0.3643 - accuracy: 0.8642 - val_loss: 0.7158 - val_accuracy: 0.5500 - lr: 1.0000e-11\n",
            "Epoch 219/300\n",
            "3/3 [==============================] - 6s 2s/step - loss: 0.2996 - accuracy: 0.8765 - val_loss: 0.5102 - val_accuracy: 0.7000 - lr: 1.0000e-12\n",
            "Epoch 220/300\n",
            "3/3 [==============================] - 5s 2s/step - loss: 0.2706 - accuracy: 0.8889 - val_loss: 0.8803 - val_accuracy: 0.5000 - lr: 1.0000e-12\n",
            "Epoch 221/300\n",
            "3/3 [==============================] - 6s 2s/step - loss: 0.3038 - accuracy: 0.8642 - val_loss: 0.4081 - val_accuracy: 0.8500 - lr: 1.0000e-12\n",
            "Epoch 222/300\n",
            "3/3 [==============================] - 5s 2s/step - loss: 0.3500 - accuracy: 0.8642 - val_loss: 0.5215 - val_accuracy: 0.8000 - lr: 1.0000e-12\n",
            "Epoch 223/300\n",
            "3/3 [==============================] - 5s 2s/step - loss: 0.2676 - accuracy: 0.8765 - val_loss: 0.4020 - val_accuracy: 0.8000 - lr: 1.0000e-12\n",
            "Epoch 224/300\n",
            "3/3 [==============================] - 5s 2s/step - loss: 0.3256 - accuracy: 0.8395 - val_loss: 0.3859 - val_accuracy: 0.8500 - lr: 1.0000e-12\n",
            "Epoch 225/300\n",
            "3/3 [==============================] - 4s 2s/step - loss: 0.2860 - accuracy: 0.8387 - val_loss: 0.4927 - val_accuracy: 0.7500 - lr: 1.0000e-12\n",
            "Epoch 226/300\n",
            "3/3 [==============================] - 5s 2s/step - loss: 0.2996 - accuracy: 0.8642 - val_loss: 0.6174 - val_accuracy: 0.7500 - lr: 1.0000e-12\n",
            "Epoch 227/300\n",
            "3/3 [==============================] - 5s 2s/step - loss: 0.2327 - accuracy: 0.9383 - val_loss: 0.5400 - val_accuracy: 0.6500 - lr: 1.0000e-12\n",
            "Epoch 228/300\n",
            "3/3 [==============================] - 4s 2s/step - loss: 0.3313 - accuracy: 0.8519 - val_loss: 0.5097 - val_accuracy: 0.8000 - lr: 1.0000e-12\n",
            "Epoch 229/300\n",
            "3/3 [==============================] - 4s 2s/step - loss: 0.2550 - accuracy: 0.9012 - val_loss: 0.7462 - val_accuracy: 0.6000 - lr: 1.0000e-12\n",
            "Epoch 230/300\n",
            "3/3 [==============================] - 5s 2s/step - loss: 0.2953 - accuracy: 0.8765 - val_loss: 0.6391 - val_accuracy: 0.6500 - lr: 1.0000e-12\n",
            "Epoch 231/300\n",
            "3/3 [==============================] - 4s 1s/step - loss: 0.3758 - accuracy: 0.8387 - val_loss: 0.5387 - val_accuracy: 0.7000 - lr: 1.0000e-12\n",
            "Epoch 232/300\n",
            "3/3 [==============================] - 4s 2s/step - loss: 0.2967 - accuracy: 0.8765 - val_loss: 0.5102 - val_accuracy: 0.8500 - lr: 1.0000e-12\n",
            "Epoch 233/300\n",
            "3/3 [==============================] - ETA: 0s - loss: 0.2579 - accuracy: 0.9259\n",
            "Reached 90% validation accuracy mark!\n",
            "3/3 [==============================] - 4s 2s/step - loss: 0.2579 - accuracy: 0.9259 - val_loss: 0.3521 - val_accuracy: 0.9000 - lr: 1.0000e-12\n",
            "Epoch 234/300\n",
            "3/3 [==============================] - 4s 1s/step - loss: 0.3419 - accuracy: 0.8387 - val_loss: 0.5911 - val_accuracy: 0.7000 - lr: 1.0000e-12\n",
            "Epoch 235/300\n",
            "3/3 [==============================] - 4s 2s/step - loss: 0.2382 - accuracy: 0.8765 - val_loss: 0.5702 - val_accuracy: 0.7000 - lr: 1.0000e-12\n",
            "Epoch 236/300\n",
            "3/3 [==============================] - 4s 2s/step - loss: 0.3150 - accuracy: 0.8519 - val_loss: 0.5888 - val_accuracy: 0.7000 - lr: 1.0000e-12\n",
            "Epoch 237/300\n",
            "3/3 [==============================] - 4s 2s/step - loss: 0.2822 - accuracy: 0.8889 - val_loss: 0.4862 - val_accuracy: 0.8500 - lr: 1.0000e-12\n",
            "Epoch 238/300\n",
            "3/3 [==============================] - 4s 2s/step - loss: 0.2789 - accuracy: 0.9012 - val_loss: 0.4069 - val_accuracy: 0.8000 - lr: 1.0000e-12\n",
            "Epoch 239/300\n",
            "3/3 [==============================] - 4s 2s/step - loss: 0.2445 - accuracy: 0.9136 - val_loss: 0.6077 - val_accuracy: 0.6000 - lr: 1.0000e-13\n",
            "Epoch 240/300\n",
            "3/3 [==============================] - ETA: 0s - loss: 0.2563 - accuracy: 0.9136\n",
            "Reached 95% or more validation accuracy, training finished.\n",
            "3/3 [==============================] - 4s 2s/step - loss: 0.2563 - accuracy: 0.9136 - val_loss: 0.2508 - val_accuracy: 0.9500 - lr: 1.0000e-13\n",
            "Epoch 241/300\n",
            "3/3 [==============================] - 4s 2s/step - loss: 0.2272 - accuracy: 0.9383 - val_loss: 0.4501 - val_accuracy: 0.8500 - lr: 1.0000e-13\n",
            "Epoch 242/300\n",
            "3/3 [==============================] - 4s 2s/step - loss: 0.2385 - accuracy: 0.9012 - val_loss: 0.4942 - val_accuracy: 0.8500 - lr: 1.0000e-13\n",
            "Epoch 243/300\n",
            "3/3 [==============================] - 5s 2s/step - loss: 0.2599 - accuracy: 0.9136 - val_loss: 0.3927 - val_accuracy: 0.8000 - lr: 1.0000e-13\n",
            "Epoch 244/300\n",
            "3/3 [==============================] - 4s 2s/step - loss: 0.3508 - accuracy: 0.8642 - val_loss: 0.6477 - val_accuracy: 0.6500 - lr: 1.0000e-13\n",
            "Epoch 245/300\n",
            "3/3 [==============================] - 4s 2s/step - loss: 0.2673 - accuracy: 0.9012 - val_loss: 0.4537 - val_accuracy: 0.8500 - lr: 1.0000e-13\n",
            "Epoch 246/300\n",
            "3/3 [==============================] - 5s 2s/step - loss: 0.2584 - accuracy: 0.9136 - val_loss: 0.5573 - val_accuracy: 0.7500 - lr: 1.0000e-13\n",
            "Epoch 247/300\n",
            "3/3 [==============================] - 4s 2s/step - loss: 0.3256 - accuracy: 0.8765 - val_loss: 0.5810 - val_accuracy: 0.7000 - lr: 1.0000e-13\n",
            "Epoch 248/300\n",
            "3/3 [==============================] - 5s 2s/step - loss: 0.3101 - accuracy: 0.8519 - val_loss: 0.3249 - val_accuracy: 0.8500 - lr: 1.0000e-13\n",
            "Epoch 249/300\n",
            "3/3 [==============================] - 5s 2s/step - loss: 0.2361 - accuracy: 0.9136 - val_loss: 0.5830 - val_accuracy: 0.7000 - lr: 1.0000e-13\n",
            "Epoch 250/300\n",
            "3/3 [==============================] - 4s 2s/step - loss: 0.3561 - accuracy: 0.8226 - val_loss: 0.4952 - val_accuracy: 0.8500 - lr: 1.0000e-13\n",
            "Epoch 251/300\n",
            "3/3 [==============================] - 4s 2s/step - loss: 0.2599 - accuracy: 0.8765 - val_loss: 0.6536 - val_accuracy: 0.7000 - lr: 1.0000e-13\n",
            "Epoch 252/300\n",
            "3/3 [==============================] - 4s 2s/step - loss: 0.2525 - accuracy: 0.9012 - val_loss: 0.4498 - val_accuracy: 0.8500 - lr: 1.0000e-13\n",
            "Epoch 253/300\n",
            "3/3 [==============================] - 4s 2s/step - loss: 0.2873 - accuracy: 0.9012 - val_loss: 0.2941 - val_accuracy: 0.8500 - lr: 1.0000e-13\n",
            "Epoch 254/300\n",
            "3/3 [==============================] - 4s 2s/step - loss: 0.2911 - accuracy: 0.8519 - val_loss: 0.6430 - val_accuracy: 0.7500 - lr: 1.0000e-13\n",
            "Epoch 255/300\n",
            "3/3 [==============================] - 4s 2s/step - loss: 0.3836 - accuracy: 0.8272 - val_loss: 0.4517 - val_accuracy: 0.8000 - lr: 1.0000e-13\n",
            "Epoch 256/300\n",
            "3/3 [==============================] - 4s 1s/step - loss: 0.3497 - accuracy: 0.8548 - val_loss: 0.5643 - val_accuracy: 0.6500 - lr: 1.0000e-13\n",
            "Epoch 257/300\n",
            "3/3 [==============================] - 4s 1s/step - loss: 0.3438 - accuracy: 0.8387 - val_loss: 0.6736 - val_accuracy: 0.5500 - lr: 1.0000e-13\n",
            "Epoch 258/300\n",
            "3/3 [==============================] - 4s 2s/step - loss: 0.3001 - accuracy: 0.8642 - val_loss: 0.5587 - val_accuracy: 0.7000 - lr: 1.0000e-13\n",
            "Epoch 259/300\n",
            "3/3 [==============================] - 4s 2s/step - loss: 0.3555 - accuracy: 0.8765 - val_loss: 0.7338 - val_accuracy: 0.6500 - lr: 1.0000e-13\n",
            "Epoch 260/300\n",
            "3/3 [==============================] - 4s 2s/step - loss: 0.2421 - accuracy: 0.8765 - val_loss: 0.6218 - val_accuracy: 0.7000 - lr: 1.0000e-13\n",
            "Epoch 261/300\n",
            "3/3 [==============================] - 4s 2s/step - loss: 0.2892 - accuracy: 0.8889 - val_loss: 0.5365 - val_accuracy: 0.7000 - lr: 1.0000e-13\n",
            "Epoch 262/300\n",
            "3/3 [==============================] - 4s 1s/step - loss: 0.2912 - accuracy: 0.8710 - val_loss: 0.5019 - val_accuracy: 0.7500 - lr: 1.0000e-13\n",
            "Epoch 263/300\n",
            "3/3 [==============================] - 4s 2s/step - loss: 0.3573 - accuracy: 0.8765 - val_loss: 0.3688 - val_accuracy: 0.8500 - lr: 1.0000e-13\n",
            "Epoch 264/300\n",
            "3/3 [==============================] - 4s 2s/step - loss: 0.3236 - accuracy: 0.8642 - val_loss: 0.4284 - val_accuracy: 0.7500 - lr: 1.0000e-13\n",
            "Epoch 265/300\n",
            "3/3 [==============================] - 4s 2s/step - loss: 0.3480 - accuracy: 0.8765 - val_loss: 0.4847 - val_accuracy: 0.8000 - lr: 1.0000e-13\n",
            "Epoch 266/300\n",
            "3/3 [==============================] - 4s 2s/step - loss: 0.3184 - accuracy: 0.8642 - val_loss: 0.6212 - val_accuracy: 0.7000 - lr: 1.0000e-13\n",
            "Epoch 267/300\n",
            "3/3 [==============================] - 4s 2s/step - loss: 0.2643 - accuracy: 0.8765 - val_loss: 0.5353 - val_accuracy: 0.7500 - lr: 1.0000e-13\n",
            "Epoch 268/300\n",
            "3/3 [==============================] - 4s 1s/step - loss: 0.2344 - accuracy: 0.9355 - val_loss: 0.6101 - val_accuracy: 0.7000 - lr: 1.0000e-13\n",
            "Epoch 269/300\n",
            "3/3 [==============================] - 5s 2s/step - loss: 0.3519 - accuracy: 0.8395 - val_loss: 0.4275 - val_accuracy: 0.8500 - lr: 1.0000e-13\n",
            "Epoch 270/300\n",
            "3/3 [==============================] - 4s 2s/step - loss: 0.2889 - accuracy: 0.8765 - val_loss: 0.5729 - val_accuracy: 0.7000 - lr: 1.0000e-13\n",
            "Epoch 271/300\n",
            "3/3 [==============================] - 4s 2s/step - loss: 0.3525 - accuracy: 0.8272 - val_loss: 0.6307 - val_accuracy: 0.7500 - lr: 1.0000e-13\n",
            "Epoch 272/300\n",
            "3/3 [==============================] - 4s 2s/step - loss: 0.2622 - accuracy: 0.8765 - val_loss: 0.5049 - val_accuracy: 0.7000 - lr: 1.0000e-13\n",
            "Epoch 273/300\n",
            "3/3 [==============================] - 5s 2s/step - loss: 0.2873 - accuracy: 0.8642 - val_loss: 0.5672 - val_accuracy: 0.8000 - lr: 1.0000e-13\n",
            "Epoch 274/300\n",
            "3/3 [==============================] - 4s 2s/step - loss: 0.3311 - accuracy: 0.8395 - val_loss: 0.6559 - val_accuracy: 0.6000 - lr: 1.0000e-13\n",
            "Epoch 275/300\n",
            "3/3 [==============================] - 4s 2s/step - loss: 0.3022 - accuracy: 0.8765 - val_loss: 0.4098 - val_accuracy: 0.8000 - lr: 1.0000e-13\n",
            "Epoch 276/300\n",
            "3/3 [==============================] - 4s 2s/step - loss: 0.2820 - accuracy: 0.9136 - val_loss: 0.4747 - val_accuracy: 0.8000 - lr: 1.0000e-13\n",
            "Epoch 277/300\n",
            "3/3 [==============================] - 4s 2s/step - loss: 0.4460 - accuracy: 0.8025 - val_loss: 0.5146 - val_accuracy: 0.6500 - lr: 1.0000e-13\n",
            "Epoch 278/300\n",
            "3/3 [==============================] - 5s 2s/step - loss: 0.2193 - accuracy: 0.9136 - val_loss: 0.4558 - val_accuracy: 0.8000 - lr: 1.0000e-13\n",
            "Epoch 279/300\n",
            "3/3 [==============================] - 4s 2s/step - loss: 0.2889 - accuracy: 0.9259 - val_loss: 0.4310 - val_accuracy: 0.7500 - lr: 1.0000e-13\n",
            "Epoch 280/300\n",
            "3/3 [==============================] - 4s 2s/step - loss: 0.2816 - accuracy: 0.8765 - val_loss: 0.7822 - val_accuracy: 0.6500 - lr: 1.0000e-13\n",
            "Epoch 281/300\n",
            "3/3 [==============================] - 4s 2s/step - loss: 0.2751 - accuracy: 0.8765 - val_loss: 0.6727 - val_accuracy: 0.6000 - lr: 1.0000e-13\n",
            "Epoch 282/300\n",
            "3/3 [==============================] - 4s 2s/step - loss: 0.3455 - accuracy: 0.8642 - val_loss: 0.4628 - val_accuracy: 0.8500 - lr: 1.0000e-13\n",
            "Epoch 283/300\n",
            "3/3 [==============================] - 4s 2s/step - loss: 0.3706 - accuracy: 0.8395 - val_loss: 0.3294 - val_accuracy: 0.8500 - lr: 1.0000e-13\n",
            "Epoch 284/300\n",
            "3/3 [==============================] - 4s 2s/step - loss: 0.3012 - accuracy: 0.8889 - val_loss: 0.3601 - val_accuracy: 0.8500 - lr: 1.0000e-13\n",
            "Epoch 285/300\n",
            "3/3 [==============================] - 4s 2s/step - loss: 0.2495 - accuracy: 0.9259 - val_loss: 0.4991 - val_accuracy: 0.8000 - lr: 1.0000e-13\n",
            "Epoch 286/300\n",
            "3/3 [==============================] - ETA: 0s - loss: 0.2173 - accuracy: 0.9032\n",
            "Reached 90% validation accuracy mark!\n",
            "3/3 [==============================] - 4s 1s/step - loss: 0.2173 - accuracy: 0.9032 - val_loss: 0.2920 - val_accuracy: 0.9000 - lr: 1.0000e-13\n",
            "Epoch 287/300\n",
            "3/3 [==============================] - 4s 2s/step - loss: 0.3211 - accuracy: 0.8889 - val_loss: 0.5936 - val_accuracy: 0.7000 - lr: 1.0000e-13\n",
            "Epoch 288/300\n",
            "3/3 [==============================] - 4s 2s/step - loss: 0.2619 - accuracy: 0.8871 - val_loss: 0.5969 - val_accuracy: 0.6000 - lr: 1.0000e-13\n",
            "Epoch 289/300\n",
            "3/3 [==============================] - 5s 2s/step - loss: 0.3576 - accuracy: 0.8765 - val_loss: 0.3311 - val_accuracy: 0.8500 - lr: 1.0000e-13\n",
            "Epoch 290/300\n",
            "3/3 [==============================] - 4s 2s/step - loss: 0.4264 - accuracy: 0.8548 - val_loss: 0.4367 - val_accuracy: 0.8500 - lr: 1.0000e-13\n",
            "Epoch 291/300\n",
            "3/3 [==============================] - 4s 2s/step - loss: 0.2340 - accuracy: 0.9259 - val_loss: 0.4614 - val_accuracy: 0.7500 - lr: 1.0000e-13\n",
            "Epoch 292/300\n",
            "3/3 [==============================] - 4s 2s/step - loss: 0.3238 - accuracy: 0.8642 - val_loss: 0.5634 - val_accuracy: 0.7500 - lr: 1.0000e-13\n",
            "Epoch 293/300\n",
            "3/3 [==============================] - ETA: 0s - loss: 0.2433 - accuracy: 0.9136\n",
            "Reached 95% or more validation accuracy, training finished.\n",
            "3/3 [==============================] - 4s 2s/step - loss: 0.2433 - accuracy: 0.9136 - val_loss: 0.3573 - val_accuracy: 0.9500 - lr: 1.0000e-13\n",
            "Epoch 294/300\n",
            "3/3 [==============================] - 4s 2s/step - loss: 0.3792 - accuracy: 0.8395 - val_loss: 0.3068 - val_accuracy: 0.8500 - lr: 1.0000e-13\n",
            "Epoch 295/300\n",
            "3/3 [==============================] - 4s 2s/step - loss: 0.3499 - accuracy: 0.8148 - val_loss: 0.3895 - val_accuracy: 0.8000 - lr: 1.0000e-13\n",
            "Epoch 296/300\n",
            "3/3 [==============================] - 4s 1s/step - loss: 0.2081 - accuracy: 0.9194 - val_loss: 0.3547 - val_accuracy: 0.8500 - lr: 1.0000e-13\n",
            "Epoch 297/300\n",
            "3/3 [==============================] - 5s 2s/step - loss: 0.3062 - accuracy: 0.9012 - val_loss: 0.6418 - val_accuracy: 0.7000 - lr: 1.0000e-13\n",
            "Epoch 298/300\n",
            "3/3 [==============================] - 4s 2s/step - loss: 0.2573 - accuracy: 0.8710 - val_loss: 0.5906 - val_accuracy: 0.8000 - lr: 1.0000e-13\n",
            "Epoch 299/300\n",
            "3/3 [==============================] - 4s 2s/step - loss: 0.2728 - accuracy: 0.8395 - val_loss: 0.4814 - val_accuracy: 0.8000 - lr: 1.0000e-13\n",
            "Epoch 300/300\n",
            "3/3 [==============================] - 4s 2s/step - loss: 0.3056 - accuracy: 0.8642 - val_loss: 0.6782 - val_accuracy: 0.6000 - lr: 1.0000e-13\n"
          ]
        }
      ],
      "source": [
        "# Import the callbacks module from TensorFlow's Keras library\n",
        "from tensorflow.keras import callbacks\n",
        "\n",
        "# Initialize the ReduceLROnPlateau callback\n",
        "# This callback is used to reduce the learning rate of the model when the validation loss has stopped improving\n",
        "reduce_lr = tf.keras.callbacks.ReduceLROnPlateau(\n",
        "    # The quantity to be monitored\n",
        "    monitor='val_loss', \n",
        "    # The factor by which the learning rate will be reduced\n",
        "    factor=0.1, \n",
        "    # The number of epochs with no improvement after which the learning rate will be reduced\n",
        "    patience=20, \n",
        "    # The minimum value the learning rate can be reduced to\n",
        "    min_lr=1e-13\n",
        ")\n",
        "\n",
        "# Call the model_call() function to create the model\n",
        "model = model_call()\n",
        "epoch = 300                 # Set the number of epochs to 300\n",
        "\n",
        "# Fit the model on the training data\n",
        "kh = model.fit(        \n",
        "        train_generator,                       # Pass the training generator\n",
        "        steps_per_epoch= 3,          # Set the number of steps per epoch to 3\n",
        "        epochs = epoch,                     # Set the number of epochs to 300\n",
        "        validation_data=validation_generator,  # Pass the validation generator\n",
        "        callbacks = [accstop],                 # Pass the accstop callback\n",
        "        validation_steps= 1          # Set the number of validation steps to 1\n",
        "        )\n",
        "# Evaluate the model on the training data\n",
        "scores = model.evaluate(train_generator, verbose=0)\n",
        "\n",
        "# Evaluate the model on the validation data\n",
        "results = model.evaluate(validation_generator, verbose = 0)\n",
        "\n",
        "# Evaluate the model on the test data\n",
        "test_results = model.evaluate(test_generator, verbose = 0)\n",
        "\n",
        "# Find the best accuracy, loss, validation accuracy, and validation loss from the history of the model training\n",
        "best_acc = max(kh.history['accuracy']); best_loss = min(kh.history['loss']); best_val_acc = max(kh.history['val_accuracy']); best_val_loss = min(kh.history['val_loss'])"
      ]
    },
    {
      "attachments": {},
      "cell_type": "markdown",
      "metadata": {},
      "source": [
        "# Training Analysis\n",
        "\n",
        "Prints a summary of the results of training the custom model.\n",
        "\n",
        "The summary includes training and validation scores, as well as the best accuracy and loss values.\n",
        "\n",
        "The final section of the summary prints the highest accuracy and lowest loss achieved during the training process."
      ]
    },
    {
      "cell_type": "code",
      "execution_count": null,
      "metadata": {
        "colab": {
          "base_uri": "https://localhost:8080/"
        },
        "id": "Lw3pe4XyGEFG",
        "outputId": "8a235a8e-fb8f-4f36-ae84-f2d6ede99d27"
      },
      "outputs": [
        {
          "name": "stdout",
          "output_type": "stream",
          "text": [
            "-----------------------------------------------------------------------------------------------------------------------------------------------------------------\n",
            "Training Score : loss of 0.2801409363746643; accuracy of 89.99999761581421%;  \n",
            "\n",
            "Validation Score: loss of 0.5361030101776123; validation accuracy of 74.28571581840515%;  \n",
            "\n",
            "Test Score: test loss of 0.5719607472419739; test accuracy of 75.8474588394165%;  \n",
            "\n",
            " Best Accuracy: 96.77419066429138%;  Best Loss: 0.18052047491073608; Best Val_Accuracy: 94.9999988079071%; Best Val_Loss: 0.2298315018415451 \n",
            "\n",
            "-----------------------------------------------------------------------------------------------------------------------------------------------------------------\n"
          ]
        }
      ],
      "source": [
        "print('-----------------------------------------------------------------------------------------------------------------------------------------------------------------')\n",
        "\n",
        "# Print the training score with the first metric name and value and the second metric name and value\n",
        "print(f'Training Score : {model.metrics_names[0]} of {scores[0]}; {model.metrics_names[1]} of {scores[1]*100}%;  \\n' )\n",
        "\n",
        "# Print the validation score with the first metric name and value and the second metric name and value\n",
        "print(f'Validation Score validation {model.metrics_names[0]} of {results[0]}; validaiton {model.metrics_names[1]} of {results[1]*100}%;  \\n' )\n",
        "\n",
        "# Print the best accuracy, loss, validation accuracy, and validation loss\n",
        "print(f' Best Accuracy: {best_acc*100}%;  Best Loss: {best_loss}; Best Val_Accuracy: {best_val_acc*100}%; Best Val_Loss: {best_val_loss} \\n' )\n",
        "\n",
        "print('-----------------------------------------------------------------------------------------------------------------------------------------------------------------')"
      ]
    },
    {
      "attachments": {},
      "cell_type": "markdown",
      "metadata": {},
      "source": [
        "# Setting the Plot\n",
        "\n",
        "Creating a line plot to visualize the training and validation accuracy over the number of epochs. \n",
        "The kh.history object is a dictionary that stores the accuracy values at each epoch during training and validation. \n",
        "The plt.plot() function is used to plot the values in kh.history['accuracy'] and kh.history['val_accuracy'] on the same graph.\n",
        "\n",
        "The plt.ylabel() function is used to set the y-axis label to \"Accuracy\". This label indicates that the y-axis represents accuracy values. The plt.xlabel() function is used to set the x-axis label to \"Epoch\". This label indicates that the x-axis represents the number of epochs.\n",
        "\n",
        "Finally, the plt.show() function is used to display the plot. This makes it possible to see the results of the code and understand how the accuracy changed over the number of epochs."
      ]
    },
    {
      "cell_type": "code",
      "execution_count": null,
      "metadata": {
        "colab": {
          "base_uri": "https://localhost:8080/",
          "height": 297
        },
        "id": "wFD0-jm4KA8J",
        "outputId": "7973b442-f5c4-46c2-9924-deffc22ca08d"
      },
      "outputs": [
        {
          "data": {
            "image/png": "[encoded data removed]",
            "text/plain": [
              "<Figure size 432x288 with 1 Axes>"
            ]
          },
          "metadata": {},
          "output_type": "display_data"
        }
      ],
      "source": [
        "# Plot the training and validation accuracy\n",
        "plt.plot(kh.history['accuracy'])\n",
        "plt.plot(kh.history['val_accuracy'])\n",
        "\n",
        "# Set the title of the plot\n",
        "plt.title('Training and Validation Accuracies')\n",
        "\n",
        "# Set the y-axis label to \"Accuracy\"\n",
        "plt.ylabel('Accuracy')\n",
        "\n",
        "# Set the x-axis label to \"Epoch\"\n",
        "plt.xlabel('Epoch')\n",
        "\n",
        "# Add a legend to the plot, with \"Training\" and \"Validation\" as the labels, and the location set to \"upper left\"\n",
        "plt.legend(['Training', 'Validation'], loc = 'upper left')\n",
        "\n",
        "# Show the plot\n",
        "plt.show()\n"
      ]
    },
    {
      "cell_type": "code",
      "execution_count": null,
      "metadata": {
        "colab": {
          "base_uri": "https://localhost:8080/",
          "height": 297
        },
        "id": "nqwBqHlUKC0f",
        "outputId": "44947156-e391-4f0c-abfa-68eb860ab050"
      },
      "outputs": [
        {
          "data": {
            "image/png": "[encoded data removed]",
            "text/plain": [
              "<Figure size 432x288 with 1 Axes>"
            ]
          },
          "metadata": {},
          "output_type": "display_data"
        }
      ],
      "source": [
        "# Plot the training and validation loss\n",
        "plt.plot(kh.history['loss'])\n",
        "plt.plot(kh.history['val_loss'])\n",
        "\n",
        "# Set the title of the plot\n",
        "plt.title('Training and Validation Losses')\n",
        "\n",
        "# Set the y-axis label to \"Loss\"\n",
        "plt.ylabel('Loss')\n",
        "\n",
        "# Set the x-axis label to \"Epoch\"\n",
        "plt.xlabel('Epoch')\n",
        "\n",
        "# Add a legend to the plot, with \"Training\" and \"Validation\" as the labels, and the location set to \"upper left\"\n",
        "plt.legend(['Training', 'Validation'], loc = 'upper left')\n",
        "\n",
        "# Show the plot\n",
        "plt.show()\n"
      ]
    },
    {
      "attachments": {},
      "cell_type": "markdown",
      "metadata": {
        "id": "haIqv9TiSVtm"
      },
      "source": [
        "# Evaluating accuracy of the test set\n",
        "\n",
        "Evaluates the performance of the custom model on a test set using the \n",
        "model.evaluate() function. This function calculates the accuracy of the model on the test set, which is a measure of how well the model is able to predict the correct labels.\n",
        "\n",
        " The accuracy is printed to the console using the print() function. This makes it possible to see the accuracy of the model on the test set and understand how well it is performing."
      ]
    },
    {
      "cell_type": "code",
      "execution_count": null,
      "metadata": {
        "colab": {
          "base_uri": "https://localhost:8080/"
        },
        "id": "eOiWaZGBKD8Z",
        "outputId": "5b7a0221-6bd3-4693-e129-a1169c9de151"
      },
      "outputs": [
        {
          "name": "stdout",
          "output_type": "stream",
          "text": [
            "9/9 [==============================] - 5s 518ms/step - loss: 0.5720 - accuracy: 0.7585\n",
            "0.758474588394165\n"
          ]
        }
      ],
      "source": [
        "# Evaluate the model on the test set\n",
        "_, acc = model.evaluate(test_generator)\n",
        "\n",
        "# Print the accuracy on the test set\n",
        "print(acc)"
      ]
    },
    {
      "attachments": {},
      "cell_type": "markdown",
      "metadata": {
        "id": "VIsKpB1RSZHh"
      },
      "source": [
        "# Evaluating accuracy of the validation set\n",
        "\n",
        " Evaluates the performance of the custom model on a validation set using the \n",
        " model.evaluate() function. This function calculates the accuracy of the model on the validation set, which is a measure of how well the model is able to predict the correct labels on a dataset it has not seen before.\n",
        "\n",
        " The accuracy is printed to the console using the print() function. This makes it possible to see the accuracy of the model on the validation set and understand how well it is performing, especially compared to its performance on the training set."
      ]
    },
    {
      "cell_type": "code",
      "execution_count": null,
      "metadata": {
        "colab": {
          "base_uri": "https://localhost:8080/"
        },
        "id": "dxn9GR6rKFcG",
        "outputId": "a0f00c06-3331-47a9-f84d-92ac22f83f6e"
      },
      "outputs": [
        {
          "name": "stdout",
          "output_type": "stream",
          "text": [
            "7/7 [==============================] - 5s 647ms/step - loss: 0.5250 - accuracy: 0.7571\n",
            "0.7571428418159485\n"
          ]
        }
      ],
      "source": [
        "# Evaluate the model on the validation set\n",
        "_, acc = model.evaluate(validation_generator)\n",
        "\n",
        "# Print the accuracy on the validation set\n",
        "print(acc)"
      ]
    },
    {
      "attachments": {},
      "cell_type": "markdown",
      "metadata": {
        "id": "v-w5w8DfSlLj"
      },
      "source": [
        "# Calculating Precision, Recall and F1 Score on the validation set\n",
        "\n",
        "These metrics can be used to monitor the training process, to evaluate the performance of the custom model on a validation set."
      ]
    },
    {
      "cell_type": "code",
      "execution_count": null,
      "metadata": {
        "colab": {
          "base_uri": "https://localhost:8080/"
        },
        "id": "Kv3EkpcJKGj5",
        "outputId": "8da0330c-3d39-494e-8084-c46b6f7b7df5"
      },
      "outputs": [
        {
          "name": "stdout",
          "output_type": "stream",
          "text": [
            "For Validation: \n",
            "Precision: 0.6666666865348816, Recall: 0.800000011920929, Accuracy: 0.699999988079071, F1 Score: 0.7272727489471436\n"
          ]
        }
      ],
      "source": [
        "# Importing Precision and Recall from the tensorflow.keras.metrics module\n",
        "from tensorflow.keras.metrics import Precision, Recall\n",
        "\n",
        "# Instantiating objects of the Precision and Recall classes\n",
        "pre = Precision()\n",
        "re = Recall()\n",
        "\n",
        "# Loop over the validation data\n",
        "for batch in validation:\n",
        "  # Get the inputs and target values from the batch\n",
        "  X, y = validation\n",
        "  # Predict the output using the model\n",
        "  yhat = model.predict(X)\n",
        "  # Update the state of the Precision and Recall objects with the batch results\n",
        "  pre.update_state(y, yhat)\n",
        "  re.update_state(y, yhat)\n",
        "\n",
        "# Calculate the F1 score as the harmonic mean of precision and recall\n",
        "f1_score = (2 * pre.result().numpy() * re.result()) / (pre.result().numpy() + re.result())\n",
        "\n",
        "# Print the precision, recall, and F1 score for the validation data\n",
        "print('For Validation: ')\n",
        "print(f'Precision: {pre.result().numpy()}, Recall: {re.result().numpy()}, F1 Score: {f1_score}')\n"
      ]
    },
    {
      "attachments": {},
      "cell_type": "markdown",
      "metadata": {
        "id": "UVhclW73Sd_H"
      },
      "source": [
        "# Calculating Precision, Recall and F1 Score on the test set\n",
        "\n",
        "These metrics can be used to monitor the training process, to evaluate the performance of the custom model on a test set."
      ]
    },
    {
      "cell_type": "code",
      "execution_count": null,
      "metadata": {
        "colab": {
          "base_uri": "https://localhost:8080/"
        },
        "id": "BK9MDVUzKH_v",
        "outputId": "ff9a1c23-6094-4034-b395-8e70316cb4ae"
      },
      "outputs": [
        {
          "name": "stdout",
          "output_type": "stream",
          "text": [
            "For Test: \n",
            "Precision: 0.6666666865348816, Recall: 1.0, Accuracy: 0.800000011920929, F1 Score: 0.800000011920929\n"
          ]
        }
      ],
      "source": [
        "# Importing Precision and Recall from the tensorflow.keras.metrics module\n",
        "from tensorflow.keras.metrics import Precision, Recall\n",
        "\n",
        "# Instantiating objects of the Precision and Recall classes\n",
        "pre = Precision()\n",
        "re = Recall()\n",
        "\n",
        "# Loop over the test data\n",
        "for batch in test:\n",
        "  # Get the inputs and target values from the batch\n",
        "  X, y = test\n",
        "  # Predict the output using the model\n",
        "  yhat = model.predict(X)\n",
        "  # Update the state of the Precision and Recall objects with the batch results\n",
        "  pre.update_state(y, yhat)\n",
        "  re.update_state(y, yhat)\n",
        "\n",
        "# Calculate the F1 score as the harmonic mean of precision and recall\n",
        "f1_score = (2 * pre.result().numpy() * re.result()) / (pre.result().numpy() + re.result())\n",
        "\n",
        "# Print the precision, recall, and F1 score for the test data\n",
        "print('For Test: ')\n",
        "print(f'Precision: {pre.result().numpy()}, Recall: {re.result().numpy()}, F1 Score: {f1_score}')\n"
      ]
    },
    {
      "attachments": {},
      "cell_type": "markdown",
      "metadata": {
        "id": "5RPP8br1Squ7"
      },
      "source": [
        "# Predictions on Validation and Test dataset\n",
        "\n",
        "1. The pred variable is assigned the result of making predictions on the validation dataset using the model.predict() method.\n",
        "\n",
        "2. The test_pred variable is assigned the result of making predictions on the test dataset using the model.predict() method.\n",
        "\n",
        "3. The function countpredictions() takes two arguments: predictions and gw, ngw, where gw and ngw are the count of positive and negative predictions, respectively.\n",
        "    - For each prediction in predictions, the code checks if the prediction value is greater than 0.5. If it is, ngw is incremented, otherwise, gw is incremented.\n",
        "\n",
        "    - Finally, the function returns the count of positive and negative predictions.\n",
        "\n",
        "4. The countpredictions() function is called with pred as an argument and the result is printed.\n",
        "\n",
        "5. Similarly, the countpredictions() function is called with test_pred as an argument and the result is printed."
      ]
    },
    {
      "cell_type": "code",
      "execution_count": null,
      "metadata": {
        "colab": {
          "base_uri": "https://localhost:8080/"
        },
        "id": "sHlJAsLrKK1u",
        "outputId": "c3ac6a21-9c0c-4b84-e199-33dec7633486"
      },
      "outputs": [
        {
          "name": "stdout",
          "output_type": "stream",
          "text": [
            "validation predictions:\n",
            "\n",
            "(72, 68)\n",
            "\n",
            "test predictions:\n",
            "\n",
            "(112, 124)\n"
          ]
        }
      ],
      "source": [
        "# Make predictions on validation and test datasets\n",
        "pred = model.predict(validation_generator)\n",
        "test_pred = model.predict(test_generator)\n",
        "\n",
        "# Print header for validation predictions\n",
        "print(\"Validation Predictions:\\n\")\n",
        "\n",
        "# Define a function to count positive and negative predictions\n",
        "def countpredictions(predictions, gw = 0, ngw = 0):\n",
        "  for pred in predictions:\n",
        "    # If prediction value is greater than 0.5, increment ngw (negative predictions)\n",
        "    if pred > 0.5:\n",
        "      ngw += 1\n",
        "    # If prediction value is less than or equal to 0.5, increment gw (positive predictions)\n",
        "    else:\n",
        "      gw += 1\n",
        "  # Return the count of positive and negative predictions\n",
        "  return gw, ngw\n",
        "\n",
        "# Call the countpredictions function on validation predictions and print the results\n",
        "print(countpredictions(pred, 0, 0))\n",
        "\n",
        "# Print header for test predictions\n",
        "print(\"\\nTest Predictions:\\n\")\n",
        "\n",
        "# Call the countpredictions function on test predictions and print the results\n",
        "print(countpredictions(test_pred, 0, 0))\n"
      ]
    },
    {
      "attachments": {},
      "cell_type": "markdown",
      "metadata": {
        "id": "B7JrXkxBSv8h"
      },
      "source": [
        "# Calculating Confusion Matrix\n",
        "\n",
        "The predictions made by the model are rounded and stored in the pred variable. \n",
        "\n",
        "The confusion_matrix is calculated by calling metrics.confusion_matrix with y_true set to the true classes and y_pred set to the rounded predictions. \n",
        "\n",
        "The resulting confusion matrix has the following components:\n",
        "\n",
        "    - True Positives (TP): The number of instances that are true and are predicted to be true.\n",
        "    - False Negatives (FN): The number of instances that are true but are predicted to be false.\n",
        "    - False Positives (FP): The number of instances that are false but are predicted to be true.\n",
        "    - True Negatives (TN): The number of instances that are false and are predicted to be false.\n",
        "\n",
        "\n"
      ]
    },
    {
      "cell_type": "code",
      "execution_count": null,
      "metadata": {
        "colab": {
          "base_uri": "https://localhost:8080/"
        },
        "id": "7jFyOUi1KML7",
        "outputId": "61ea4ceb-380f-4578-ca56-3a6f1d7e6967"
      },
      "outputs": [
        {
          "name": "stdout",
          "output_type": "stream",
          "text": [
            "Confusion Matrix: \n",
            "\n"
          ]
        },
        {
          "data": {
            "text/plain": [
              "array([[41, 29],\n",
              "       [31, 39]])"
            ]
          },
          "execution_count": 35,
          "metadata": {},
          "output_type": "execute_result"
        }
      ],
      "source": [
        "import sklearn.metrics as metrics\n",
        "\n",
        "# Print the confusion matrix\n",
        "print(\"Confusion Matrix: \\n\")\n",
        "\n",
        "# Get the true classes from the validation generator\n",
        "true_classes = validation_generator.classes\n",
        "\n",
        "# Get the class labels from the validation generator\n",
        "class_labels = list(validation_generator.class_indices.keys())\n",
        "\n",
        "# Round the predictions to get binary values\n",
        "pred = np.round(pred)\n",
        "\n",
        "# Create the confusion matrix using true classes and the rounded predictions\n",
        "confusion_matrix = metrics.confusion_matrix(y_true=true_classes, y_pred=pred)\n",
        "\n",
        "# Print the confusion matrix\n",
        "confusion_matrix"
      ]
    },
    {
      "attachments": {},
      "cell_type": "markdown",
      "metadata": {
        "id": "_BEF0ndrS0OY"
      },
      "source": [
        "# Plotting the Learning Rate Scheduler \n",
        "\n",
        "Uses the matplotlib library to plot the learning rate against the number of epochs during training of a machine learning model.\n",
        "\n",
        "The number of epochs and the learning rate are obtained from the history of the fit function. A range of x values for the plot is created and a new figure is initialized with a specified size.\n",
        "\n",
        "The learning rate is then plotted against the number of epochs by calling the plot function from the pyplot library. Labels are added to the x-axis and y-axis, and a title is added to the plot. The grid for the plot is turned on, and the seaborn-ticks style is applied to the plot.\n",
        "\n",
        "This code provides a visual representation of the learning rate, which can be useful in understanding how the model is learning over time, and in determining if the learning rate is well-suited for the training process."
      ]
    },
    {
      "cell_type": "code",
      "execution_count": null,
      "metadata": {
        "colab": {
          "base_uri": "https://localhost:8080/",
          "height": 351
        },
        "id": "m8TDrs5gKNlX",
        "outputId": "77d22eae-22d9-4030-ea64-9511c03f9fa3"
      },
      "outputs": [
        {
          "data": {
            "image/png": "[encoded data removed]",
            "text/plain": [
              "<Figure size 504x360 with 1 Axes>"
            ]
          },
          "metadata": {},
          "output_type": "display_data"
        }
      ],
      "source": [
        "# Import the matplotlib library\n",
        "import matplotlib.pyplot as plt\n",
        "\n",
        "# Get the number of epochs from the history of the fit function\n",
        "nb_epoch = len(kh.history['loss'])\n",
        "\n",
        "# Get the learning rate from the history of the fit function\n",
        "learning_rate = kh.history['lr']\n",
        "\n",
        "# Create a range of x values for the plot\n",
        "xc = range(nb_epoch)\n",
        "\n",
        "# Initialize a figure\n",
        "plt.figure(3, figsize=(7, 5))\n",
        "\n",
        "# Plot the learning rate against the number of epochs\n",
        "plt.plot(xc, learning_rate)\n",
        "\n",
        "# Add labels to the x-axis and y-axis\n",
        "plt.xlabel('Number of Epochs')\n",
        "plt.ylabel('Learning rate')\n",
        "\n",
        "# Add a title to the plot\n",
        "plt.title('Learning rate')\n",
        "\n",
        "# Turn on the grid for the plot\n",
        "plt.grid(True)\n",
        "\n",
        "# Use the seaborn-ticks style for the plot\n",
        "plt.style.use(['seaborn-ticks'])\n"
      ]
    }
  ],
  "metadata": {
    "accelerator": "GPU",
    "colab": {
      "provenance": []
    },
    "gpuClass": "standard",
    "kernelspec": {
      "display_name": "Python 3",
      "name": "python3"
    },
    "language_info": {
      "name": "python"
    }
  },
  "nbformat": 4,
  "nbformat_minor": 0
}
