{
 "cells": [
  {
   "cell_type": "code",
   "execution_count": 26,
   "id": "666aaaea-54ff-44ca-978b-b846b38cb52a",
   "metadata": {},
   "outputs": [],
   "source": [
    "# load necessary packages\n",
    "import pandas as pd\n",
    "import numpy as np\n",
    "import matplotlib.pyplot as plt"
   ]
  },
  {
   "cell_type": "code",
   "execution_count": 27,
   "id": "6cb0420e-3667-4d94-90d9-571713db0677",
   "metadata": {},
   "outputs": [],
   "source": [
    "monthly_sst = pd.read_csv(\"monthly_data/monthly_sst.csv\")"
   ]
  },
  {
   "cell_type": "code",
   "execution_count": 28,
   "id": "dab9b128-72ef-41fc-ac86-59e7c4aaaa50",
   "metadata": {},
   "outputs": [],
   "source": [
    "monthly_sst = np.array(monthly_sst.iloc[:, 1])\n",
    "monthly_sst = monthly_sst.reshape(480, 448, 304)"
   ]
  },
  {
   "cell_type": "code",
   "execution_count": 29,
   "id": "c341047c-cabb-4d9f-9712-78bb68c3eca9",
   "metadata": {},
   "outputs": [],
   "source": [
    "avg_sst = np.nanmean(monthly_sst, axis = (1,2))"
   ]
  },
  {
   "cell_type": "code",
   "execution_count": 30,
   "id": "eee36f23-05d3-4612-8403-100b49535026",
   "metadata": {},
   "outputs": [],
   "source": [
    "date = pd.date_range(start='1979-01-10', end='2018-12-10', periods=480)"
   ]
  },
  {
   "cell_type": "code",
   "execution_count": 31,
   "id": "32bbed9a-6219-456e-bd69-4169e3bb5adc",
   "metadata": {},
   "outputs": [],
   "source": [
    "df = pd.DataFrame({'datetime': date,\n",
    "                                 'sst': avg_sst,})"
   ]
  },
  {
   "cell_type": "code",
   "execution_count": 32,
   "id": "bf1891e8-1b2a-4326-8313-5a54c49a597e",
   "metadata": {},
   "outputs": [],
   "source": [
    "df.index = pd.to_datetime(df['datetime'],format='%Y-%m-%d %H:%M:%S')"
   ]
  },
  {
   "cell_type": "code",
   "execution_count": 33,
   "id": "36eef660-70a0-4379-a121-f4032a0d90c2",
   "metadata": {},
   "outputs": [],
   "source": [
    "month_avg = df.groupby(df['datetime'].dt.month).mean().values"
   ]
  },
  {
   "cell_type": "code",
   "execution_count": 34,
   "id": "e815910d-280b-4e42-8d3b-1ff8cf40caee",
   "metadata": {},
   "outputs": [
    {
     "data": {
      "text/plain": [
       "array([276.77545489490217, 276.37881465547537, 276.2426315524571,\n",
       "       276.5409731656256, 277.3915216394685, 279.2700773405519,\n",
       "       281.59124620885643, 283.1527614919159, 282.741743299054,\n",
       "       280.72781380917405, 279.07857076496964, 277.8334103769845],\n",
       "      dtype=object)"
      ]
     },
     "execution_count": 34,
     "metadata": {},
     "output_type": "execute_result"
    }
   ],
   "source": [
    "sst79 = df[0:12].values\n",
    "sst79 = sst79[:,1]\n",
    "sst79"
   ]
  },
  {
   "cell_type": "code",
   "execution_count": 35,
   "id": "14ee980a-b33c-4243-b808-f57dc87e46d3",
   "metadata": {},
   "outputs": [],
   "source": [
    "anom79 = np.zeros(sst79.size)\n",
    "x=0\n",
    "for x in range(len(sst79)):\n",
    "    anom79[x] = sst79[x]-month_avg[x]"
   ]
  },
  {
   "cell_type": "code",
   "execution_count": 36,
   "id": "0af8e49f-8edb-45de-9ad6-cece60ae4b6f",
   "metadata": {},
   "outputs": [],
   "source": [
    "plt.plot(anom79)\n",
    "plt.xlabel('Month')\n",
    "plt.ylabel('SST')\n",
    "plt.title('Monthly SST Anomalies from 1979')\n",
    "positions = (0,2,4,6,8,10)\n",
    "labels = (\"Jan\", \"Mar\", \"May\", \"Jul\", \"Sep\", \"Nov\")\n",
    "plt.xticks(positions, labels)\n",
    "plt.savefig('anomSST79.png', bbox_inches='tight')"
   ]
  },
  {
   "cell_type": "code",
   "execution_count": 37,
   "id": "f14d4005-6b08-4f93-8035-22f265fab2ec",
   "metadata": {},
   "outputs": [
    {
     "data": {
      "text/plain": [
       "array([277.67585859848316, 277.0465250730473, 276.7516714882638,\n",
       "       276.8161241193382, 277.59225825619905, 279.23201171846546,\n",
       "       281.5287501033554, 283.97171998489404, 283.97877361954914,\n",
       "       282.3971347678799, 280.28882611680785], dtype=object)"
      ]
     },
     "execution_count": 37,
     "metadata": {},
     "output_type": "execute_result"
    }
   ],
   "source": [
    "sst18 = df[469:480].values\n",
    "sst18 = sst18[:,1]\n",
    "sst18"
   ]
  },
  {
   "cell_type": "code",
   "execution_count": null,
   "id": "24a1364d-4285-4f01-9885-08d7d6902a69",
   "metadata": {},
   "outputs": [],
   "source": []
  }
 ],
 "metadata": {
  "kernelspec": {
   "display_name": "Python 3",
   "language": "python",
   "name": "python3"
  },
  "language_info": {
   "codemirror_mode": {
    "name": "ipython",
    "version": 3
   },
   "file_extension": ".py",
   "mimetype": "text/x-python",
   "name": "python",
   "nbconvert_exporter": "python",
   "pygments_lexer": "ipython3",
   "version": "3.7.6"
  }
 },
 "nbformat": 4,
 "nbformat_minor": 5
}
